{
    "cells": [
        {
            "attachments": {},
            "cell_type": "markdown",
            "metadata": {},
            "source": [
                "# FORESEE - Axino-neutralino-photon"
            ]
        },
        {
            "cell_type": "code",
            "execution_count": null,
            "metadata": {},
            "outputs": [],
            "source": [
                "import numpy as np\n",
                "import sys\n",
                "import os\n",
                "\n",
                "src_path = \"../../src\"\n",
                "sys.path.append(src_path)\n",
                "from foresee import Foresee, Utility, Model\n",
                "\n",
                "from main import sigma_atildeNucleus_chitildeNucleus_analyt, sigma_atildee_chitildee_analyt\n",
                "from constants import *\n",
                "\n",
                "\n",
                "from matplotlib import pyplot as plt\n",
                "import matplotlib.tri as tri\n",
                "\n",
                "plt.rc('text', usetex=True)\n",
                "plt.rcParams['figure.dpi'] = 400\n",
                "\n",
                "plt.rcParams['text.latex.preamble'] = [r\"\\usepackage{amsmath}\"]\n",
                "plt.rcParams['text.latex.preamble'] = [r\"\\usepackage{amssymb}\"]\n",
                "plt.rcParams['text.latex.preamble'] = [r\"\\usepackage{siunitx}\"]\n",
                "font = {'family': 'serif', 'serif': ['computer modern roman']}\n",
                "\n",
                "plt.rc('font', **font)\n",
                "\n",
                "SMALL_SIZE = 14\n",
                "MEDIUM_SIZE = 18\n",
                "BIGGER_SIZE = 20\n",
                "\n",
                "plt.rc('font', size=MEDIUM_SIZE)  # controls default text sizes\n",
                "plt.rc('axes', titlesize=BIGGER_SIZE)  # fontsize of the axes title\n",
                "plt.rc('axes', labelsize=BIGGER_SIZE)  # fontsize of the x and y labels\n",
                "plt.rc('xtick', labelsize=SMALL_SIZE)  # fontsize of the tick labels\n",
                "plt.rc('ytick', labelsize=SMALL_SIZE)  # fontsize of the tick labels\n",
                "plt.rc('legend', fontsize=SMALL_SIZE)  # legend fontsize\n",
                "plt.rc('figure', titlesize=BIGGER_SIZE)  # fontsize of the figure title"
            ]
        },
        {
            "cell_type": "markdown",
            "metadata": {},
            "source": [
                "## 1. Initialization "
            ]
        },
        {
            "cell_type": "markdown",
            "metadata": {},
            "source": [
                "All function that we will need are included in the FORESEE package. We start by simply initializing it: "
            ]
        },
        {
            "cell_type": "code",
            "execution_count": null,
            "metadata": {},
            "outputs": [],
            "source": [
                "foresee = Foresee()\n",
                "\n",
                "energy = \"14\"\n",
                "modelname = \"Axino_neutralino\"\n",
                "model = Model(modelname)\n",
                "\n",
                "nsample = 100\n",
                "\n",
                "num_of_masses = 41\n",
                "masses = np.logspace(np.log10(11e-3), -0.5, num_of_masses)\n",
                "num_of_couplings = 51"
            ]
        },
        {
            "attachments": {},
            "cell_type": "markdown",
            "metadata": {},
            "source": [
                "#### Add mesons decays"
            ]
        },
        {
            "attachments": {},
            "cell_type": "markdown",
            "metadata": {},
            "source": [
                "$\n",
                "\\frac{d\\text{BR}(M(p_0) \\!\\to\\! \\tilde{\\chi}(p_1)\\tilde{a}(p_2)\\gamma(p_3))}{dq^2 \\, d\\!\\cos\\theta}\n",
                " = -\\text{BR}(M \\!\\to \\!\\gamma\\tilde{a}\\gamma)\\frac{\\alpha^2 C_{agg}}{512 \\pi ^4 f_a^2 m_0^6 s^3} \\left(m_0^2-s\\right)^3 \\sqrt{\\left(m_1^2+m_2^2-q^2\\right)^2-4 m_1^2 m_2^2} \\left((m_1+m_2)^2-s\\right) \\left(\\cos (2\\theta) \\left((m_1-m_2)^2-s\\right)+3 (m_1-m_2)^2+s\\right)\n",
                "$\n",
                "\n",
                "PDG codes: $\\gamma$ = 22, $\\pi_0$ = 111, $\\eta$ = 221, $\\eta^\\prime$ = 331.\n",
                "\n",
                "\n",
                "\n",
                "\\begin{equation} \n",
                "\t\\begin{aligned}\n",
                "\t\t\\!\\!\\text{Alpino-Photino:}\\\n",
                "\t\t\t&\\frac{{\\rm BR}_{V \\rightarrow \\tilde{a}\\tilde{\\gamma}}}{{\\rm BR}_{V \\rightarrow ee}} \\!=\\! \\frac{3 \\alpha_{\\text{EM}} \\left(M^2+2 (m_{\\tilde{a}}-m_{\\tilde{\\gamma}})^2\\right) (M-m_{\\tilde{a}}-m_{\\tilde{\\gamma}}) (M+m_{\\tilde{a}}+m_{\\tilde{\\gamma}}) \\sqrt{\\left(-M^2+m_{\\tilde{a}}^2+m_{\\tilde{\\gamma}}^2\\right)^2-4 m_{\\tilde{a}}^2 m_{\\tilde{\\gamma}}^2}}{256 \\pi ^3 f_a^2 \\sqrt{M^2-4 m_e^2} \\left(M^3+2 M m_e^2\\right)}, \\!\\! \\\\\n",
                "\t\\end{aligned}\n",
                "\\end{equation} \n"
            ]
        },
        {
            "cell_type": "code",
            "execution_count": null,
            "metadata": {},
            "outputs": [],
            "source": [
                "# model.add_production_3bodydecay(\n",
                "#     pid0=\"111_\", # pi0, m_pi0=0.135, br=0.98823\n",
                "#     pid1=\"22\",  # photon (massless particle)\n",
                "#     pid2=\"0\",  # m_atilde\n",
                "#     br=\"-0.98823 * coupling**2 / 137.036**2 / 512. / 3.1415**4 / q**6 / 0.135**6 * (0.135**2 - q**2)**3 * np.sqrt(np.abs(((10e-3)**2 + mass**2 - q**2)**2 - 4 * (10e-3)**2 * mass**2)) * ((10e-3 + mass)**2 - q**2) * (np.cos(2*th) * ((10e-3 - mass)**2 - q**2) + 3 * (10e-3 - mass)**2 + q**2)\",  # coupling=1/f_a,  m_atilde = 10e-3 GeV, mass = m_chitilde\n",
                "#     generator=\"EPOSLHC\",\n",
                "#     energy=energy,\n",
                "#     nsample=nsample,\n",
                "# )\n",
                "\n",
                "# model.add_production_3bodydecay(\n",
                "#     pid0=\"221_\", # eta, m_eta=0.547, br=0.3931\n",
                "#     pid1=\"22\",\n",
                "#     pid2=\"0\",\n",
                "#     br=\"-0.3931 * coupling**2 / 137.036**2 / 512. / 3.1415**4 / q**6 / 0.547**6 * (0.547**2 - q**2)**3 * np.sqrt(np.abs(((10e-3)**2 + mass**2 - q**2)**2 - 4 * (10e-3)**2 * mass**2)) * ((10e-3 + mass)**2 - q**2) * (np.cos(2*th) * ((10e-3 - mass)**2 - q**2) + 3 * (10e-3 - mass)**2 + q**2)\",\n",
                "#     generator=\"EPOSLHC\",\n",
                "#     energy=energy,\n",
                "#     nsample=nsample,\n",
                "# )\n",
                "\n",
                "# model.add_production_3bodydecay(\n",
                "#     pid0=\"331_\", # etaprime, m_etaprime=0.957, br=0.222\n",
                "#     pid1=\"22\",\n",
                "#     pid2=\"0\",\n",
                "#     br=\"-0.222 * coupling**2 / 137.036**2 / 512. / 3.1415**4 / q**6 / 0.957**6 * (0.957**2 - q**2)**3 * np.sqrt(np.abs(((10e-3)**2 + mass**2 - q**2)**2 - 4 * (10e-3)**2 * mass**2)) * ((10e-3 + mass)**2 - q**2) * (np.cos(2*th) * ((10e-3 - mass)**2 - q**2) + 3 * (10e-3 - mass)**2 + q**2)\",\n",
                "#     generator=\"EPOSLHC\",\n",
                "#     energy=energy,\n",
                "#     nsample=nsample,\n",
                "# )\n",
                "\n",
                "\n",
                "# V(p0) -> alpino(p1)) + photino(p2)\n",
                "# p1**2 = m1**2 = (10e-3)**2\n",
                "# p2**2 = m2**2 = m_photino**2\n",
                "\n",
                "model.add_production_2bodydecay(\n",
                "    pid0 = \"113_\", # rho\n",
                "    pid1 = \"0\",   # pid1 = 0 means mass_pid1 = m1 = mass_llp0;   mass_pid2 = m2 = mass = mass_llp1\n",
                "    br = \"4.72e-5 * coupling**2 * (3* ALPHAEM * (m0**2 + 2*(m1 - m2)**2)*(m0 - m1 - m2)* (m0 + m1 + m2)*np.sqrt(-4*m1**2*m2**2 + (-m0**2 + m1**2 + m2**2)**2)) / (256. * np.sqrt(m0**2 - 4*M_ELECTRON**2) * (m0**3 + 2*m0*M_ELECTRON**2) * np.pi**3)\",\n",
                "    generator = \"EPOSLHC\",\n",
                "    energy = energy,\n",
                "    nsample = nsample,\n",
                ")\n",
                "\n",
                "model.add_production_2bodydecay(\n",
                "   pid0 = \"223_\", # omega\n",
                "   pid1 = \"0\",\n",
                "   br = \"7.38e-5 * coupling**2 * (3* ALPHAEM * (m0**2 + 2*(m1 - m2)**2)*(m0 - m1 - m2)* (m0 + m1 + m2)*np.sqrt(-4*m1**2*m2**2 + (-m0**2 + m1**2 + m2**2)**2)) / (256. * np.sqrt(m0**2 - 4*M_ELECTRON**2) * (m0**3 + 2*m0*M_ELECTRON**2) * np.pi**3)\",\n",
                "   generator = \"EPOSLHC\",\n",
                "   energy = energy,\n",
                "   nsample = nsample,\n",
                ")\n",
                "\n",
                "model.add_production_2bodydecay(\n",
                "   pid0 = \"333_\", # phi\n",
                "   pid1 = \"0\",\n",
                "   br = \"2.98e-4 * coupling**2 * (3* ALPHAEM * (m0**2 + 2*(m1 - m2)**2)*(m0 - m1 - m2)* (m0 + m1 + m2)*np.sqrt(-4*m1**2*m2**2 + (-m0**2 + m1**2 + m2**2)**2)) / (256. * np.sqrt(m0**2 - 4*M_ELECTRON**2) * (m0**3 + 2*m0*M_ELECTRON**2) * np.pi**3)\",\n",
                "   generator = \"EPOSLHC\",\n",
                "   energy = energy,\n",
                "   nsample = nsample,\n",
                ")\n",
                "\n",
                "model.add_production_2bodydecay(\n",
                "    pid0 = \"443_\", # J/ψ\n",
                "    pid1 = \"0\",\n",
                "    br = \"0.0597 * coupling**2 * (3* ALPHAEM * (m0**2 + 2*(m1 - m2)**2)*(m0 - m1 - m2)* (m0 + m1 + m2)*np.sqrt(-4*m1**2*m2**2 + (-m0**2 + m1**2 + m2**2)**2)) / (256. * np.sqrt(m0**2 - 4*M_ELECTRON**2) * (m0**3 + 2*m0*M_ELECTRON**2) * np.pi**3)\",\n",
                "    generator = \"Pythia8\",\n",
                "    energy = energy,\n",
                "    nsample = nsample,\n",
                ")\n",
                "\n",
                "model.add_production_2bodydecay(\n",
                "   pid0 = \"100443_\", # \\psi(2S)\n",
                "   pid1 = \"0\",\n",
                "   br = \"0.00993 * coupling**2 * (3* ALPHAEM * (m0**2 + 2*(m1 - m2)**2)*(m0 - m1 - m2)* (m0 + m1 + m2)*np.sqrt(-4*m1**2*m2**2 + (-m0**2 + m1**2 + m2**2)**2)) / (256. * np.sqrt(m0**2 - 4*M_ELECTRON**2) * (m0**3 + 2*m0*M_ELECTRON**2) * np.pi**3)\",   \n",
                "   generator = \"Pythia8\",\n",
                "   energy = energy,\n",
                "   nsample = nsample,\n",
                ")\n",
                "\n",
                "model.add_production_2bodydecay(\n",
                "    pid0 = \"553_\", # Υ ($\\Upsilon(1S)$)\n",
                "    pid1 = \"0\",\n",
                "    br = \"0.0238 * coupling**2 * (3* ALPHAEM * (m0**2 + 2*(m1 - m2)**2)*(m0 - m1 - m2)* (m0 + m1 + m2)*np.sqrt(-4*m1**2*m2**2 + (-m0**2 + m1**2 + m2**2)**2)) / (256. * np.sqrt(m0**2 - 4*M_ELECTRON**2) * (m0**3 + 2*m0*M_ELECTRON**2) * np.pi**3)\",    \n",
                "    generator = \"Pythia8\",\n",
                "    energy = energy,\n",
                "    nsample = nsample,\n",
                ")\n",
                "\n",
                "model.add_production_2bodydecay(\n",
                "   pid0 = \"100553_\", # $\\Upsilon(2S)$\n",
                "   pid1 = \"0\",\n",
                "   br = \"0.0191 * coupling**2 * (3* ALPHAEM * (m0**2 + 2*(m1 - m2)**2)*(m0 - m1 - m2)* (m0 + m1 + m2)*np.sqrt(-4*m1**2*m2**2 + (-m0**2 + m1**2 + m2**2)**2)) / (256. * np.sqrt(m0**2 - 4*M_ELECTRON**2) * (m0**3 + 2*m0*M_ELECTRON**2) * np.pi**3)\",\n",
                "   generator = \"Pythia8\",\n",
                "   energy = energy,\n",
                "   nsample = nsample,\n",
                ")\n",
                "\n",
                "model.add_production_2bodydecay(\n",
                "   pid0 = \"200553_\", # $\\Upsilon(3S)$\n",
                "   pid1 = \"0\",\n",
                "   br = \"0.0218 * coupling**2 * (3* ALPHAEM * (m0**2 + 2*(m1 - m2)**2)*(m0 - m1 - m2)* (m0 + m1 + m2)*np.sqrt(-4*m1**2*m2**2 + (-m0**2 + m1**2 + m2**2)**2)) / (256. * np.sqrt(m0**2 - 4*M_ELECTRON**2) * (m0**3 + 2*m0*M_ELECTRON**2) * np.pi**3)\",\n",
                "   generator = \"Pythia8\",\n",
                "   energy = energy,\n",
                "   nsample = nsample,\n",
                ")"
            ]
        },
        {
            "cell_type": "code",
            "execution_count": null,
            "metadata": {},
            "outputs": [],
            "source": [
                "# f_a coupling independent channels - from 1902.10475\n",
                "\n",
                "# model.add_production_3bodydecay(\n",
                "#     pid0=\"-521\", # B- -> K- chitilde chitilde\n",
                "#     pid1=\"-321\", # K-\n",
                "#     pid2=\"0\",\n",
                "#     br=\"2 * 2.8e-13\",\n",
                "#     generator=\"Pythia8\",\n",
                "#     energy=energy,\n",
                "#     nsample=nsample,\n",
                "#     scaling=0,\n",
                "# )\n",
                "\n",
                "\n",
                "# pseudoscalar mesons\n",
                "model.add_production_2bodydecay(\n",
                "    pid0=\"111\",  # pi0\n",
                "    pid1=\"0\",    \n",
                "    br=\"2 * 1.14815e-13 * np.sqrt(1 - 4*mass**2/0.135**2)\",  # br=\"2*1.14815e-13 * np.sqrt(1 - 4*mass**2/0.135**2)\",\n",
                "    generator=\"EPOSLHC\",\n",
                "    energy=energy,\n",
                "    nsample=nsample,\n",
                "    scaling=0,\n",
                ")\n",
                "\n",
                "model.add_production_2bodydecay(\n",
                "    pid0=\"221\",  # eta\n",
                "    pid1=\"0\",    \n",
                "    br=\"2 * 3.246914e-15 * np.sqrt(1 - 4*mass**2/0.547**2)\",\n",
                "    generator=\"EPOSLHC\",\n",
                "    energy=energy,\n",
                "    nsample=nsample,\n",
                "    scaling=0,\n",
                ")\n",
                "\n",
                "model.add_production_2bodydecay(\n",
                "    pid0=\"331\",  # etaprime\n",
                "    pid1=\"0\",    \n",
                "    br=\"2 * 3.246914e-15 * np.sqrt(1 - 4*mass**2/0.957**2)\",\n",
                "    generator=\"EPOSLHC\",\n",
                "    energy=energy,\n",
                "    nsample=nsample,\n",
                "    scaling=0,\n",
                ")\n",
                "\n",
                "\n",
                "# vector mesons\n",
                "model.add_production_2bodydecay(\n",
                "    pid0=\"113\",  # rho\n",
                "    pid1=\"0\",    \n",
                "    br=\"2 * 9.8765432e-21 * (1 - 4*mass**2/0.77545**2)**1.5\",\n",
                "    generator=\"EPOSLHC\",\n",
                "    energy=energy,\n",
                "    nsample=nsample,\n",
                "    scaling=0,\n",
                ")\n",
                "\n",
                "model.add_production_2bodydecay(\n",
                "   pid0=\"223\", # omega\n",
                "   pid1=\"0\",\n",
                "   br=\"2 * 1.9382716e-19 * (1 - 4*mass**2/0.78266**2)**1.5\",\n",
                "   generator = \"EPOSLHC\",\n",
                "   energy = energy,\n",
                "   nsample = nsample,\n",
                "   scaling=0,\n",
                ")\n",
                "\n",
                "model.add_production_2bodydecay(\n",
                "   pid0=\"333\", # phi\n",
                "   pid1=\"0\",\n",
                "   br=\"2 * 9.2716049e-20 * (1 - 4*mass**2/1.019461**2)**1.5\",\n",
                "   generator = \"EPOSLHC\",\n",
                "   energy = energy,\n",
                "   nsample = nsample,\n",
                "   scaling=0,\n",
                ")\n",
                "\n",
                "model.add_production_2bodydecay(\n",
                "    pid0=\"443\", # J/ψ\n",
                "    pid1=\"0\",\n",
                "    br=\"2 * 6.3209877e-15 * (1 - 4*mass**2/3.096**2)**1.5\",\n",
                "    generator=\"Pythia8\",\n",
                "    energy=energy,\n",
                "    nsample=nsample,\n",
                "    scaling=0,\n",
                ")\n",
                "\n",
                "model.add_production_2bodydecay(\n",
                "    pid0=\"553\", # Υ\n",
                "    pid1=\"0\",\n",
                "    br=\"2 * 5.5185185e-14 * (1 - 4*mass**2/9.460**2)**1.5\",\n",
                "    generator=\"Pythia8\",\n",
                "    energy=energy,\n",
                "    nsample=nsample,\n",
                "    scaling=0,\n",
                ")"
            ]
        },
        {
            "cell_type": "code",
            "execution_count": null,
            "metadata": {},
            "outputs": [],
            "source": [
                "model.set_ctau_1d(filename=\"model/ctau_chitildeatilde.txt\", coupling_ref=1)\n",
                "\n",
                "branchings = [\n",
                "    [ \"BR_chitilde_atildeg\", \"black\", \"solid\", r\"$\\tilde{a}\\gamma$\", 0.110, 0.30 ],\n",
                "    [ \"BR_chitilde_atildeee\", \"red\", \"solid\", r\"$\\tilde{a}e^+ e^-$\", 0.110, 0.016],\n",
                "]\n",
                "\n",
                "model.set_br_1d(\n",
                "    modes=[channel for channel, _, _, _, _, _ in branchings],\n",
                "    filenames=[ \"model/br/\" + channel + \".txt\" for channel, _, _, _, _, _ in branchings ],\n",
                ")\n",
                "\n",
                "foresee.set_model(model=model)"
            ]
        },
        {
            "cell_type": "code",
            "execution_count": null,
            "metadata": {},
            "outputs": [],
            "source": [
                "# %matplotlib inline\n",
                "\n",
                "# mass_llp0 = 10e-3  # m_alpino\n",
                "# mass_llp1 = 0.1    # m_photino\n",
                "\n",
                "# # f_a coupling dependent channels\n",
                "# plt_1, plt_2 = foresee.get_llp_spectrum(mass=mass_llp1, mass_llp0=mass_llp0, coupling=1e-4, do_plot=True, save_file=False)\n",
                "\n",
                "# plt_1.savefig(\"./output/test_spect_llp0_fa_dep.pdf\")\n",
                "# plt_2.savefig(\"./output/test_spect_llp1_fa_dep.pdf\")\n",
                "\n",
                "# plt_1.show()\n",
                "# plt_2.show()\n",
                "\n",
                "# # f_a coupling independent channels, there should be no spectrum for mass_llp0, as mesons decay into two photinos and zero alpino!\n",
                "# plt_llp1, plt_llp2 = foresee.get_llp_spectrum(mass=mass_llp1, mass_llp0=mass_llp1, coupling=1e-4, do_plot=True, save_file=False, is_llp0_spectrum_zero=True)\n",
                "\n",
                "# # # # llp0 spectrum should be zero, but in the code it is set to llp1 spectrum times 1e-12\n",
                "# plt_llp1.savefig(\"./output/test_spect_llp0_fa_indep.pdf\")\n",
                "# plt_llp2.savefig(\"./output/test_spect_llp1_fa_indep.pdf\")\n",
                "\n",
                "# plt_llp1.show()\n",
                "# plt_llp2.show()"
            ]
        },
        {
            "cell_type": "code",
            "execution_count": null,
            "metadata": {},
            "outputs": [],
            "source": []
        },
        {
            "attachments": {},
            "cell_type": "markdown",
            "metadata": {},
            "source": [
                "### Primary production"
            ]
        },
        {
            "cell_type": "markdown",
            "metadata": {},
            "source": [
                "- FASER2 - the nominal/default setup  $\\tilde{\\chi} \\to \\tilde{a} \\gamma$ with $BR \\approx 1$"
            ]
        },
        {
            "cell_type": "code",
            "execution_count": null,
            "metadata": {},
            "outputs": [],
            "source": [
                "masses_toplot = np.array([0.010999999999999998, 0.013011370718093941, 0.015390524360333861,\n",
                "       0.018204710727105413, 0.02153347637145728 , 0.025470913083486087,\n",
                "       0.030128317514326073, 0.035637337117394474, 0.042153691330918994,\n",
                "       0.04986157318569908 , 0.05897885575513666 , 0.06414481035126493, 0.06976325061446105 ,\n",
                "       0.0825195923858225  , 0.09760845527617631 , 0.11545634516534746 ,\n",
                "       0.1365677553365954  , 0.16153942662021775 , 0.19107721503127154 ,\n",
                "       0.22601604368662057 , 0.26734350296759424 , 0.31622776601683794])"
            ]
        },
        {
            "cell_type": "code",
            "execution_count": null,
            "metadata": {},
            "outputs": [],
            "source": [
                "#specify setup\n",
                "luminosity, distance = 3000, 480\n",
                "setup, selection, channels, length = r\"FASER2_atildeg\", \"np.sqrt(x.x**2 + x.y**2)< 1.\", [ \"BR_chitilde_atildeg\" ], 5\n",
                "foresee.set_detector(length=length,\n",
                "                     selection=selection,\n",
                "                     channels=channels,\n",
                "                     distance=distance,\n",
                "                     luminosity=luminosity)\n",
                "\n",
                "#get reach\n",
                "list_nevents = []\n",
                "for mass in masses_toplot:\n",
                "    couplings, _, nevents, _, _ = foresee.get_events(mass=mass, energy=energy, couplings=np.logspace(-3, -2, num_of_couplings))\n",
                "    list_nevents.append(nevents)\n",
                "np.save(\"model/results/\" + energy + \"TeV_\" + setup + \".npy\", [masses_toplot, couplings, list_nevents])"
            ]
        },
        {
            "cell_type": "markdown",
            "metadata": {},
            "source": [
                "- FASER $\\nu2$ setup with decay  $\\tilde{\\chi} \\to \\tilde{a} \\gamma$."
            ]
        },
        {
            "cell_type": "code",
            "execution_count": null,
            "metadata": {},
            "outputs": [],
            "source": [
                "# #specify setup\n",
                "# luminosity, distance = 3000, 480 - 2  # L=2m\n",
                "# setup, selection, channels, length = r\"FASERnu2_atildeg\", \"np.sqrt(x.x**2 + x.y**2)< 0.25\", [ \"BR_chitilde_atildeg\" ], 2\n",
                "# foresee.set_detector(length=length,\n",
                "#                      selection=selection,\n",
                "#                      channels=channels,\n",
                "#                      distance=distance,\n",
                "#                      luminosity=luminosity)\n",
                "\n",
                "# #get reach\n",
                "# list_nevents = []\n",
                "# # for mass in masses:\n",
                "# for mass in masses_toplot:\n",
                "#     couplings, _, nevents, _, _ = foresee.get_events( mass=mass, energy=energy, couplings=np.logspace(-3, -1.5, num_of_couplings), preselectioncuts=\"th<0.01 and p>1000\")\n",
                "#     list_nevents.append(nevents)\n",
                "# # np.save(\"model/results/\" + energy + \"TeV_\" + setup + \".npy\", [masses, couplings, list_nevents])\n",
                "# np.save(\"model/results/\" + energy + \"TeV_\" + setup + \".npy\", [masses_toplot, couplings, list_nevents])"
            ]
        },
        {
            "attachments": {},
            "cell_type": "markdown",
            "metadata": {},
            "source": [
                "- FPF FASER2 - the nominal/default setup  $\\tilde{\\chi} \\to \\tilde{a} \\gamma$ with $BR \\approx 1$"
            ]
        },
        {
            "cell_type": "code",
            "execution_count": null,
            "metadata": {},
            "outputs": [],
            "source": [
                "#specify setup\n",
                "luminosity, distance = 3000, 620\n",
                "setup, selection, channels, length = \"FPF_FASER2_atildeg\", \"np.sqrt(x.x**2 + x.y**2)< 1.\", [ \"BR_chitilde_atildeg\" ], 25\n",
                "foresee.set_detector(length=length,\n",
                "                     selection=selection,\n",
                "                     channels=channels,\n",
                "                     distance=distance,\n",
                "                     luminosity=luminosity)\n",
                "\n",
                "#get reach\n",
                "list_nevents = []\n",
                "for mass in masses_toplot:\n",
                "    couplings, _, nevents, _, _ = foresee.get_events(mass=mass, energy=energy, couplings=np.logspace(-3, -1, 20))\n",
                "    list_nevents.append(nevents)\n",
                "np.save(\"model/results/\" + energy + \"TeV_\" + setup + \".npy\", [masses_toplot, couplings, list_nevents])"
            ]
        },
        {
            "attachments": {},
            "cell_type": "markdown",
            "metadata": {},
            "source": [
                "- FPF FASER $\\nu2$ setup with decay  $\\gamma^\\prime\\to a \\gamma$"
            ]
        },
        {
            "cell_type": "code",
            "execution_count": null,
            "metadata": {},
            "outputs": [],
            "source": [
                "# #specify setup\n",
                "# luminosity, distance = 3000, 620 - 8  # L=8m\n",
                "# setup, selection, channels, length = \"FPF_FASERnu2_atildeg\", \"np.sqrt(x.x**2 + x.y**2)< 0.2\", [ \"BR_chitilde_atildeg\" ], 8\n",
                "# foresee.set_detector(length=length,\n",
                "#                      selection=selection,\n",
                "#                      channels=channels,\n",
                "#                      distance=distance,\n",
                "#                      luminosity=luminosity)\n",
                "\n",
                "# #get reach\n",
                "# list_nevents = []\n",
                "# # for mass in masses:\n",
                "# for mass in masses_toplot:\n",
                "#     couplings, _, nevents, _, _ = foresee.get_events( mass=mass, energy=energy, couplings=np.logspace(-3, -1.5, num_of_couplings), preselectioncuts=\"th<0.01 and p>1000\")\n",
                "#     list_nevents.append(nevents)\n",
                "# # np.save(\"model/results/\" + energy + \"TeV_\" + setup + \".npy\", [masses, couplings, list_nevents])\n",
                "# np.save(\"model/results/\" + energy + \"TeV_\" + setup + \".npy\", [masses_toplot, couplings, list_nevents])"
            ]
        },
        {
            "cell_type": "code",
            "execution_count": null,
            "metadata": {},
            "outputs": [],
            "source": []
        },
        {
            "cell_type": "markdown",
            "metadata": {},
            "source": [
                "## 3. Plot the Results"
            ]
        },
        {
            "cell_type": "code",
            "execution_count": null,
            "metadata": {},
            "outputs": [],
            "source": [
                "setups = [\n",
                "    [ \"14TeV_FASER2_atildeg.npy\", r\"FASER 2 ($E_{\\tilde{a}\\gamma}> 0.1$ TeV)\", \"black\", \"dashed\", 0., 3 ], \n",
                "\n",
                "    [ \"14TeV_FPF_FASER2_atildeg.npy\", r\"FPF FASER 2 ($E_{\\tilde{a}\\gamma}> 0.1$ TeV)\", \"black\", \"solid\", 0., 3 ],\n",
                "    \n",
                "    [ \"0.4TeV_SHiP_atildeg.npy\", r\"SHiP\", \"darkgreen\", \"dashed\", 0., 100 * 2 ],\n",
                "]"
            ]
        },
        {
            "cell_type": "code",
            "execution_count": null,
            "metadata": {},
            "outputs": [],
            "source": [
                "bounds = [\n",
                "    [\"LEP.txt\", \"LEP\", 0.45, 6.5e-3, 0],\n",
                "    [\"0.069TeV_NuCal_atildeg.npy.txt\", \"NuCal\", 0.037, 1.2e-3, -48],\n",
                "]"
            ]
        },
        {
            "cell_type": "code",
            "execution_count": null,
            "metadata": {},
            "outputs": [],
            "source": [
                "projections = [\n",
                "]"
            ]
        },
        {
            "cell_type": "code",
            "execution_count": null,
            "metadata": {},
            "outputs": [],
            "source": [
                "plot = foresee.plot_reach(\n",
                "    setups=setups,\n",
                "    bounds=bounds,\n",
                "    projections=projections,\n",
                "    xlims=[0.02, 0.6],\n",
                "    ylims=[1e-5, 10**-2],\n",
                "    xlabel=r\"$m_{\\tilde{\\chi}}$ [GeV]\",\n",
                "    ylabel=r\"$1/f_a$ [1/GeV]\",\n",
                "    legendloc=(1.00, 0.28),\n",
                "    branchings=None,\n",
                "    figsize=(8, 8),\n",
                "    save_file=True,\n",
                ")\n",
                "\n",
                "plot.legend(frameon=False, loc='best', ncol=2, fontsize=13)\n",
                "plot.subplots_adjust(left=0.11, right=0.98, bottom=0.10, top=0.97)\n",
                "\n",
                "plot.savefig(\"./output/Axino_neutralino.pdf\")\n",
                "plot.show()"
            ]
        },
        {
            "cell_type": "markdown",
            "metadata": {},
            "source": [
                "### FPF"
            ]
        },
        {
            "cell_type": "code",
            "execution_count": null,
            "metadata": {},
            "outputs": [],
            "source": [
                "setups = [\n",
                "    [ \"14TeV_FPF_FASER2_atildeg.npy\", r\"FPF FASER 2 ($E_{\\tilde{a}\\gamma}> 0.1$ TeV)\", \"black\", \"solid\", 0., 3 ],\n",
                "    \n",
                "    [ \"0.4TeV_SHiP_atildeg.npy\", r\"SHiP\", \"darkgreen\", \"dashed\", 0., 100 * 2 ],\n",
                "]"
            ]
        },
        {
            "cell_type": "code",
            "execution_count": null,
            "metadata": {},
            "outputs": [],
            "source": [
                "bounds = [    \n",
                "    [\"LEP.txt\", \"LEP\", 0.45, 6.5e-3, 0],\n",
                "    [\"0.069TeV_NuCal_atildeg.npy.txt\", \"NuCal\", 0.037, 1.2e-3, -48],\n",
                "]"
            ]
        },
        {
            "cell_type": "code",
            "execution_count": null,
            "metadata": {},
            "outputs": [],
            "source": [
                "projections = [\n",
                "]"
            ]
        },
        {
            "cell_type": "code",
            "execution_count": null,
            "metadata": {},
            "outputs": [],
            "source": [
                "plot = foresee.plot_reach(\n",
                "    setups=setups,\n",
                "    bounds=bounds,\n",
                "    projections=projections,\n",
                "    xlims=[0.02, 0.6],\n",
                "    ylims=[1e-5, 10**-2],\n",
                "    xlabel=r\"$m_{\\tilde{\\chi}}$ [GeV]\",\n",
                "    ylabel=r\"$1/f_a$ [1/GeV]\",\n",
                "    legendloc=(1.00, 0.28),\n",
                "    branchings=None,\n",
                "    figsize=(8, 8),\n",
                ")\n",
                "\n",
                "plot.legend(frameon=False, loc='best', ncol=2, fontsize=13)\n",
                "plot.subplots_adjust(left=0.11, right=0.98, bottom=0.10, top=0.97)\n",
                "\n",
                "plot.savefig(\"./output/Axino_neutralino_FPF.pdf\")\n",
                "plot.show()"
            ]
        },
        {
            "cell_type": "code",
            "execution_count": null,
            "metadata": {},
            "outputs": [],
            "source": []
        }
    ],
    "metadata": {
        "kernelspec": {
            "display_name": "base",
            "language": "python",
            "name": "python3"
        },
        "language_info": {
            "codemirror_mode": {
                "name": "ipython",
                "version": 3
            },
            "file_extension": ".py",
            "mimetype": "text/x-python",
            "name": "python",
            "nbconvert_exporter": "python",
            "pygments_lexer": "ipython3",
            "version": "3.9.12"
        },
        "toc": {
            "base_numbering": 1,
            "nav_menu": {
                "height": "734px",
                "width": "465px"
            },
            "number_sections": true,
            "sideBar": true,
            "skip_h1_title": false,
            "title_cell": "Table of Contents",
            "title_sidebar": "Contents",
            "toc_cell": false,
            "toc_position": {},
            "toc_section_display": true,
            "toc_window_display": false
        },
        "vscode": {
            "interpreter": {
                "hash": "3067ead486e059ec00ffe7555bdb889e6e264a24dc711bf108106cc7baee8d5d"
            }
        }
    },
    "nbformat": 4,
    "nbformat_minor": 2
}
