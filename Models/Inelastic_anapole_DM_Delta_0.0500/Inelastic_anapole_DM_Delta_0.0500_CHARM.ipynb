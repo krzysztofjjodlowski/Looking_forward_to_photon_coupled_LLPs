{
    "cells": [
        {
            "cell_type": "code",
            "execution_count": null,
            "metadata": {},
            "outputs": [],
            "source": [
                "Delta = 0.05"
            ]
        },
        {
            "attachments": {},
            "cell_type": "markdown",
            "metadata": {},
            "source": [
                "# FORESEE - Inelastic anapole DM Delta=0.0500"
            ]
        },
        {
            "cell_type": "markdown",
            "metadata": {},
            "source": [
                "### Load Libraries "
            ]
        },
        {
            "cell_type": "code",
            "execution_count": null,
            "metadata": {},
            "outputs": [],
            "source": [
                "import numpy as np\n",
                "import sys\n",
                "import os\n",
                "\n",
                "src_path = \"../../src\"\n",
                "sys.path.append(src_path)\n",
                "from foresee import Foresee, Utility, Model\n",
                "from main import anap_sigma_chi0Nucleus_chi1Nucleus_analyt, anap_sigma_chi0e_chi1e_analyt, anap_sigma_chi0e_chi1e_log\n",
                "from constants import *\n",
                "\n",
                "\n",
                "from matplotlib import pyplot as plt\n",
                "import matplotlib.tri as tri\n",
                "\n",
                "plt.rc('text', usetex=True)\n",
                "plt.rcParams['figure.dpi'] = 400\n",
                "\n",
                "plt.rcParams['text.latex.preamble'] = [r\"\\usepackage{amsmath}\"]\n",
                "plt.rcParams['text.latex.preamble'] = [r\"\\usepackage{amssymb}\"]\n",
                "plt.rcParams['text.latex.preamble'] = [r\"\\usepackage{siunitx}\"]\n",
                "font = {'family': 'serif', 'serif': ['computer modern roman']}\n",
                "\n",
                "plt.rc('font', **font)\n",
                "\n",
                "SMALL_SIZE = 10\n",
                "MEDIUM_SIZE = 14\n",
                "BIGGER_SIZE = 16\n",
                "\n",
                "plt.rc('font', size=MEDIUM_SIZE)       # controls default text sizes\n",
                "plt.rc('axes', titlesize=MEDIUM_SIZE)  # fontsize of the axes title\n",
                "plt.rc('axes', labelsize=MEDIUM_SIZE)  # fontsize of the x and y labels\n",
                "plt.rc('xtick', labelsize=SMALL_SIZE)  # fontsize of the tick labels\n",
                "plt.rc('ytick', labelsize=SMALL_SIZE)  # fontsize of the tick labels\n",
                "plt.rc('legend', fontsize=SMALL_SIZE)  # legend fontsize\n",
                "plt.rc('figure', titlesize=BIGGER_SIZE)# fontsize of the figure title"
            ]
        },
        {
            "cell_type": "markdown",
            "metadata": {},
            "source": [
                "## 1. Initialization "
            ]
        },
        {
            "cell_type": "markdown",
            "metadata": {},
            "source": [
                "All function that we will need are included in the FORESEE package. We start by simply initializing it: "
            ]
        },
        {
            "cell_type": "code",
            "execution_count": null,
            "metadata": {},
            "outputs": [],
            "source": [
                "foresee = Foresee()"
            ]
        },
        {
            "cell_type": "code",
            "execution_count": null,
            "metadata": {},
            "outputs": [],
            "source": [
                "energy = \"0.4\"\n",
                "modelname = \"Inelastic_anapole_DM_Delta_0.0500\"\n",
                "model = Model(modelname)\n",
                "\n",
                "nsample = 50\n",
                "\n",
                "num_of_masses = 21\n",
                "\n",
                "masses = masses_chi1 = np.logspace(-2, np.log10(3), num_of_masses)\n",
                "masses_chi0 = masses_chi1 / (1 + Delta)\n",
                "\n",
                "num_of_couplings = 41"
            ]
        },
        {
            "attachments": {},
            "cell_type": "markdown",
            "metadata": {},
            "source": [
                "### Generate LLP spectum"
            ]
        },
        {
            "attachments": {},
            "cell_type": "markdown",
            "metadata": {},
            "source": [
                "#### Mesons decays"
            ]
        },
        {
            "attachments": {},
            "cell_type": "markdown",
            "metadata": {},
            "source": [
                "**AM**\n",
                "\n",
                "PDG codes: $\\gamma$ = 22, $\\pi_0$ = 111, $\\eta$ = 221, $\\eta^\\prime$ = 331.\n",
                "Pseudoscalar-meson decays:\n",
                "\n",
                "\\begin{equation} \n",
                "\t\\begin{aligned}\n",
                "\t\t\\text{AM:}\\quad     \n",
                "\t\t\t&  \\frac{d{\\rm BR}_{P \\rightarrow \\gamma \\bar{\\chi}_0 \\chi_1}}{dq^2 d\\cos\\theta} = {\\rm BR}_{P\\rightarrow \\gamma \\gamma}  \\!\\times\\!\\! \\frac{\\left(M^2-q^2\\right)^3 \\sqrt{\\left(m_{\\chi_0}^2+m_{\\chi_1}^2-q^2\\right)^2-4 m_{\\chi_0}^2 m_{\\chi_1}^2} \\left((m_{\\chi_0}-m_{\\chi_1})^2-q^2\\right) \\left(\\cos (2 \\theta) \\left((m_{\\chi_0}+m_{\\chi_1})^2-q^2\\right)-(m_{\\chi_0}+m_{\\chi_1})^2-3 q^2\\right)}{32 \\pi ^2 \\Lambda_{a}^2 M^6 q^4}\n",
                "\t\\end{aligned}\n",
                "\\end{equation} \n",
                "\n",
                "\n",
                "Vector-meson decays:\n",
                "\\begin{equation} \n",
                "\t\\begin{aligned}\n",
                "\t\t\\!\\!\\text{AM:}\\     \n",
                "\t\t\t&\\frac{{\\rm BR}_{V \\rightarrow \\bar{\\chi}_0 \\chi_1}}{{\\rm BR}_{V \\rightarrow ee}} \\!=\\! \\frac{ M \\left(2 M^2+(m_{\\chi_0}-m_{\\chi_1})^2\\right) (M-m_{\\chi_0}-m_{\\chi_1}) (M+m_{\\chi_0}+m_{\\chi_1}) \\sqrt{\\left(-M^2+m_{\\chi_0}^2+m_{\\chi_1}^2\\right)^2-4 m_{\\chi_0}^2 m_{\\chi_1}^2}}{8 \\pi \\Lambda_{a}^2 \\alpha \\sqrt{M^2-4 m_e^2} \\left(M^2+2 m_e^2\\right)}\n",
                "\t\\end{aligned}\n",
                "\\end{equation} \n"
            ]
        },
        {
            "cell_type": "markdown",
            "metadata": {},
            "source": [
                "#### Generate LLP spectrum"
            ]
        },
        {
            "cell_type": "code",
            "execution_count": null,
            "metadata": {},
            "outputs": [],
            "source": [
                "# # pi0(p0) -> gamma(p1) + chi0(p2) + chi1(p3)\n",
                "# # p2**2 = m2**2 = mchi0**2\n",
                "# # p3**2 = m3**2 = mchi1**2\n",
                "\n",
                "# model.add_production_3bodydecay(\n",
                "#     pid0=\"111\", # pion0,  (m0=0.135)\n",
                "#     pid1=\"22\",  # photon, (m1=0)\n",
                "#     pid2=\"0\",   # pid2=0 means mass_pid2 (m2) is passed by mass_llp0; mass_pid3=m3=mass\n",
                "#     br=\"2.4e18*-0.98823 * coupling**2 * 0.03125*(1*np.sqrt(-4*m2**2*m3**2 + (m2**2 + m3**2 - q**2)**2)* ((m2 - m3)**2 - q**2)*(-m0**2 + q**2)**3* (-(m2 + m3)**2 - 3*q**2 + ((m2 + m3)**2 - q**2)*np.cos(2*th)))/(m0**6*np.pi**2*q**4)\",\n",
                "#     generator=\"Pythia\",\n",
                "#     energy=energy,\n",
                "#     nsample=nsample,\n",
                "# )\n",
                "\n",
                "# model.add_production_3bodydecay(\n",
                "#     pid0=\"221\",\n",
                "#     pid1=\"22\",  # photon, (m1=0)\n",
                "#     pid2=\"0\",   # pid2=0 means mass_pid2 (m2) is passed by mass_llp0; mass_pid3=m3=mass\n",
                "#     br=\"2.4e18*-0.3931 * coupling**2 * 0.03125*(1*np.sqrt(-4*m2**2*m3**2 + (m2**2 + m3**2 - q**2)**2)* ((m2 - m3)**2 - q**2)*(-m0**2 + q**2)**3* (-(m2 + m3)**2 - 3*q**2 + ((m2 + m3)**2 - q**2)*np.cos(2*th)))/(m0**6*np.pi**2*q**4)\",\n",
                "#     generator=\"Pythia\",\n",
                "#     energy=energy,\n",
                "#     nsample=nsample,\n",
                "# )\n",
                "\n",
                "# model.add_production_3bodydecay(\n",
                "#     pid0=\"331\",\n",
                "#     pid1=\"22\",  # photon, (m1=0)\n",
                "#     pid2=\"0\",   # pid2=0 means mass_pid2 (m2) is passed by mass_llp0; mass_pid3=m3=mass\n",
                "#     br=\"2.4e18*-0.222 * coupling**2 * 0.03125*(1*np.sqrt(-4*m2**2*m3**2 + (m2**2 + m3**2 - q**2)**2)* ((m2 - m3)**2 - q**2)*(-m0**2 + q**2)**3* (-(m2 + m3)**2 - 3*q**2 + ((m2 + m3)**2 - q**2)*np.cos(2*th)))/(m0**6*np.pi**2*q**4)\",\n",
                "#     generator=\"Pythia\",\n",
                "#     energy=energy,\n",
                "#     nsample=nsample,\n",
                "# )\n",
                "\n",
                "\n",
                "# V(p0) -> chi0(p1) + chi1(p2)\n",
                "# p1**2 = m1**2 = mchi0**2\n",
                "# p2**2 = m2**2 = mchi1**2\n",
                "\n",
                "model.add_production_2bodydecay(\n",
                "    pid0 = \"113\", # rho\n",
                "    pid1 = \"0\",   # pid1=0 means mass_pid1 (m1) is passed by mass_llp0; mass_pid2=m2=mass\n",
                "    br=\"2.4e18*4.72e-5 * coupling**2 * (m0*(2*m0**2 + (m1 - m2)**2)*(m0 - m1 - m2)*(m0 + m1 + m2)* np.sqrt(-4*m1**2*m2**2 + (-m0**2 + m1**2 + m2**2)**2))/(8.*ALPHAEM*np.sqrt(m0**2 - 4*M_ELECTRON**2)*(m0**2 + 2*M_ELECTRON**2)*np.pi)\",\n",
                "    generator=\"Pythia\",\n",
                "    energy = energy,\n",
                "    nsample = nsample,\n",
                ")\n",
                "\n",
                "model.add_production_2bodydecay(\n",
                "   pid0 = \"223\", # omega\n",
                "   pid1 = \"0\",\n",
                "   br=\"2.4e18*7.38e-5 * coupling**2 * (m0*(2*m0**2 + (m1 - m2)**2)*(m0 - m1 - m2)*(m0 + m1 + m2)* np.sqrt(-4*m1**2*m2**2 + (-m0**2 + m1**2 + m2**2)**2))/(8.*ALPHAEM*np.sqrt(m0**2 - 4*M_ELECTRON**2)*(m0**2 + 2*M_ELECTRON**2)*np.pi)\",\n",
                "   generator=\"Pythia\",\n",
                "   energy = energy,\n",
                "   nsample = nsample,\n",
                ")\n",
                "\n",
                "model.add_production_2bodydecay(\n",
                "   pid0 = \"333\", # phi\n",
                "   pid1 = \"0\",\n",
                "   br=\"2.4e18*2.98e-4 * coupling**2 * (m0*(2*m0**2 + (m1 - m2)**2)*(m0 - m1 - m2)*(m0 + m1 + m2)* np.sqrt(-4*m1**2*m2**2 + (-m0**2 + m1**2 + m2**2)**2))/(8.*ALPHAEM*np.sqrt(m0**2 - 4*M_ELECTRON**2)*(m0**2 + 2*M_ELECTRON**2)*np.pi)\",\n",
                "   generator=\"Pythia\",\n",
                "   energy = energy,\n",
                "   nsample = nsample,\n",
                ")\n",
                "\n",
                "model.add_production_2bodydecay(\n",
                "    pid0 = \"443\", # J/ψ\n",
                "    pid1 = \"0\",\n",
                "    br=\"2.4e18*0.0597 * coupling**2 * (m0*(2*m0**2 + (m1 - m2)**2)*(m0 - m1 - m2)*(m0 + m1 + m2)* np.sqrt(-4*m1**2*m2**2 + (-m0**2 + m1**2 + m2**2)**2))/(8.*ALPHAEM*np.sqrt(m0**2 - 4*M_ELECTRON**2)*(m0**2 + 2*M_ELECTRON**2)*np.pi)\",\n",
                "    generator=\"Pythia\",\n",
                "    energy = energy,\n",
                "    nsample = nsample,\n",
                ")"
            ]
        },
        {
            "cell_type": "code",
            "execution_count": null,
            "metadata": {},
            "outputs": [],
            "source": [
                "model.set_ctau_1d(filename=\"model/anap_ctau_chi1_Delta_0.0500.txt\", coupling_ref=1)\n",
                "\n",
                "branchings = [\n",
                "    [ \"anap_BR_chi1_chi0ee_Delta_0.0500\", \"red\", \"solid\", r\"$\\chi_0 e^+ e^-$\", 0.110, 0.016 ],\n",
                "    [ \"anap_BR_chi1_chi0mumu_Delta_0.0500\", \"red\", \"solid\", r\"$\\chi_0 \\mu^+ \\mu^-$\", 0.110, 0.016 ],\n",
                "]\n",
                "\n",
                "model.set_br_1d(\n",
                "    modes=[channel for channel, _, _, _, _, _ in branchings],\n",
                "    filenames=[ \"model/br/\" + channel + \".txt\" for channel, _, _, _, _, _ in branchings ],\n",
                ")\n",
                "\n",
                "foresee.set_model(model=model)"
            ]
        },
        {
            "cell_type": "code",
            "execution_count": null,
            "metadata": {},
            "outputs": [],
            "source": [
                "from timeit import default_timer as timer\n",
                "\n",
                "for count, mass in enumerate(masses):\n",
                "    mass_llp1 = mass\n",
                "    mass_llp0 = mass_llp1 / (1+Delta)\n",
                "\n",
                "    start = timer()\n",
                "    \n",
                "    foresee.get_llp_spectrum(mass=mass_llp1, mass_llp0=mass_llp0, coupling=1, detector=\"CHARM\", stat_cuts_llp0=\"p_llp0.e>0.0\", stat_cuts_llp1=\"p_llp1.e>0.0\")\n",
                "\n",
                "    end = timer()\n",
                "    time_length_sec = end - start\n",
                "\n",
                "    count += 1\n",
                "    time_length_sec_total = time_length_sec * num_of_masses\n",
                "    print(\"%.2f%% done, \" % float(count / num_of_masses * 100), \"approx. total run time : %.1f m, \" % float(time_length_sec_total / 60), \"approx. waiting time: %.1f m\" % float(time_length_sec_total * (1 - count / num_of_masses) / 60))"
            ]
        },
        {
            "attachments": {},
            "cell_type": "markdown",
            "metadata": {},
            "source": [
                "## 2. CHARM"
            ]
        },
        {
            "cell_type": "code",
            "execution_count": null,
            "metadata": {},
            "outputs": [],
            "source": [
                "num_of_couplings = 51"
            ]
        },
        {
            "cell_type": "code",
            "execution_count": null,
            "metadata": {},
            "outputs": [],
            "source": [
                "#specify setup\n",
                "luminosity, distance = 1/1000, 480\n",
                "setup, selection, channels, length = \"CHARM_chi0ee\", \"np.sqrt(x.x**2 + x.y**2)< 1.\", [ \"anap_BR_chi1_chi0ee_Delta_0.0500\" ], 35\n",
                "foresee.set_detector(length=length,\n",
                "                     selection=selection,\n",
                "                     channels=channels,\n",
                "                     distance=distance,\n",
                "                     luminosity=luminosity)\n",
                "\n",
                "list_nevents = []\n",
                "for mass in masses:\n",
                "    mass_chi0 = mass / (1 + Delta)\n",
                "\n",
                "    couplings, _, nevents, _, _ = foresee.get_events(mass=mass, energy=energy, couplings=np.logspace(-8, 0, num_of_couplings), detector=\"CHARM\", preselectioncuts=\"p>65\")\n",
                "\n",
                "    list_nevents.append(nevents)\n",
                "np.save(\"model/results/\" + energy + \"TeV_\" + setup + \".npy\", [masses_chi0, couplings, list_nevents])\n"
            ]
        },
        {
            "cell_type": "code",
            "execution_count": null,
            "metadata": {},
            "outputs": [],
            "source": []
        }
    ],
    "metadata": {
        "kernelspec": {
            "display_name": "Python 3.9.12 ('base')",
            "language": "python",
            "name": "python3"
        },
        "language_info": {
            "codemirror_mode": {
                "name": "ipython",
                "version": 3
            },
            "file_extension": ".py",
            "mimetype": "text/x-python",
            "name": "python",
            "nbconvert_exporter": "python",
            "pygments_lexer": "ipython3",
            "version": "3.9.12"
        },
        "toc": {
            "base_numbering": 1,
            "nav_menu": {
                "height": "734px",
                "width": "465px"
            },
            "number_sections": true,
            "sideBar": true,
            "skip_h1_title": false,
            "title_cell": "Table of Contents",
            "title_sidebar": "Contents",
            "toc_cell": false,
            "toc_position": {},
            "toc_section_display": true,
            "toc_window_display": false
        },
        "vscode": {
            "interpreter": {
                "hash": "3067ead486e059ec00ffe7555bdb889e6e264a24dc711bf108106cc7baee8d5d"
            }
        }
    },
    "nbformat": 4,
    "nbformat_minor": 2
}
