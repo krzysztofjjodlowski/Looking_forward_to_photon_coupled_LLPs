{
    "cells": [
        {
            "attachments": {},
            "cell_type": "markdown",
            "metadata": {},
            "source": [
                "# FORESEE - Gravitino-neutralino-photon"
            ]
        },
        {
            "cell_type": "markdown",
            "metadata": {},
            "source": [
                "### Load Libraries "
            ]
        },
        {
            "cell_type": "code",
            "execution_count": null,
            "metadata": {},
            "outputs": [],
            "source": [
                "import numpy as np\n",
                "import sys\n",
                "import os\n",
                "\n",
                "src_path = \"../../src\"\n",
                "sys.path.append(src_path)\n",
                "from foresee import Foresee, Utility, Model\n",
                "\n",
                "from main import sigma_gtildeNucleus_chitildeNucleus_analyt, sigma_gtildee_chitildee_analyt, sigma_gtildee_chitildee_log\n",
                "from constants import *\n",
                "\n",
                "\n",
                "from matplotlib import pyplot as plt\n",
                "import matplotlib.tri as tri\n",
                "\n",
                "plt.rc('text', usetex=True)\n",
                "plt.rcParams['figure.dpi'] = 400\n",
                "\n",
                "plt.rcParams['text.latex.preamble'] = [r\"\\usepackage{amsmath}\"]\n",
                "plt.rcParams['text.latex.preamble'] = [r\"\\usepackage{amssymb}\"]\n",
                "plt.rcParams['text.latex.preamble'] = [r\"\\usepackage{siunitx}\"]\n",
                "font = {'family': 'serif', 'serif': ['computer modern roman']}\n",
                "\n",
                "plt.rc('font', **font)\n",
                "\n",
                "SMALL_SIZE = 10\n",
                "MEDIUM_SIZE = 14\n",
                "BIGGER_SIZE = 16\n",
                "\n",
                "plt.rc('font', size=MEDIUM_SIZE)  # controls default text sizes\n",
                "plt.rc('axes', titlesize=MEDIUM_SIZE)  # fontsize of the axes title\n",
                "plt.rc('axes', labelsize=MEDIUM_SIZE)  # fontsize of the x and y labels\n",
                "plt.rc('xtick', labelsize=SMALL_SIZE)  # fontsize of the tick labels\n",
                "plt.rc('ytick', labelsize=SMALL_SIZE)  # fontsize of the tick labels\n",
                "plt.rc('legend', fontsize=SMALL_SIZE)  # legend fontsize\n",
                "plt.rc('figure', titlesize=BIGGER_SIZE)  # fontsize of the figure title"
            ]
        },
        {
            "cell_type": "markdown",
            "metadata": {},
            "source": [
                "## 1. Initialization "
            ]
        },
        {
            "cell_type": "code",
            "execution_count": null,
            "metadata": {},
            "outputs": [],
            "source": [
                "foresee = Foresee()\n",
                "\n",
                "energy = \"14\"\n",
                "modelname = \"Gravitino_neutralino\"\n",
                "model = Model(modelname)\n",
                "\n",
                "nsample = 100\n",
                "\n",
                "num_of_masses = 41\n",
                "num_of_masses_MATHUSLA = 41\n",
                "\n",
                "masses = np.logspace(np.log10(1e-3), 0, num_of_masses)\n",
                "masses_MATHUSLA = np.logspace(np.log10(1e-3), np.log10(2e-1), num_of_masses_MATHUSLA)\n",
                "\n",
                "num_of_couplings = 51\n",
                "num_of_couplings_MATHUSLA = 51"
            ]
        },
        {
            "cell_type": "code",
            "execution_count": null,
            "metadata": {},
            "outputs": [],
            "source": [
                "# model.add_production_3bodydecay(\n",
                "#     pid0=\"111_\",# pi0, m_pi0=0.135, br=0.98823\n",
                "#     pid1=\"22\",  # photon (massless particle)\n",
                "#     pid2=\"22\",  # m_gtilde (approximately massless)\n",
                "#     br=\"0.98823 * 3 * coupling**2 / 192. / 3.1415**2 / 0.135**6 / q**6 * (0.135**2 - q**2)**3 * (mass**2 - q**2)**4 * (np.cos(2*th) + 3.0)\",  # 3 * coupling**2 = kappa**2 / m_gtilde**2, mass = m_chitilde\n",
                "#     generator=\"EPOSLHC\",\n",
                "#     energy=energy,\n",
                "#     nsample=nsample,\n",
                "# )\n",
                "\n",
                "# model.add_production_3bodydecay(\n",
                "#    #  pid0=\"221_\", # eta, m_eta=0.547, br=0.3931\n",
                "#     pid0=\"221_\", # eta, m_eta=0.547, br=0.3931\n",
                "#     pid1=\"22\",\n",
                "#     pid2=\"22\",\n",
                "#     br=\"0.3931 * 3 * coupling**2 / 192. / 3.1415**2 / 0.547**6 / q**6 * (0.547**2 - q**2)**3 * (mass**2 - q**2)**4 * (np.cos(2*th) + 3.0)\",\n",
                "#     generator=\"EPOSLHC\",\n",
                "#     energy=energy,\n",
                "#     nsample=nsample,\n",
                "# )\n",
                "\n",
                "# model.add_production_3bodydecay(\n",
                "#     pid0=\"331_\", # etaprime, m_etaprime=0.957, br=0.222\n",
                "#     pid1=\"22\",\n",
                "#     pid2=\"22\",\n",
                "#     br=\"0.222 * 3 * coupling**2 / 192. / 3.1415**2 / 0.957**6 / q**6 * (0.957**2 - q**2)**3 * (mass**2 - q**2)**4 * (np.cos(2*th) + 3.0)\",\n",
                "#     generator=\"EPOSLHC\",\n",
                "#     energy=energy,\n",
                "#     nsample=nsample,\n",
                "# )\n",
                "\n",
                "\n",
                "# V(p0) -> chi0(p1) + chi1(p2)\n",
                "# p1**2 = m1**2 = mchi0**2\n",
                "# p2**2 = m2**2 = mchi1**2\n",
                "\n",
                "# Note that: 3 * coupling**2 = kappa**2 / m_gtilde**2\n",
                "\n",
                "model.add_production_2bodydecay(\n",
                "    pid0 = \"113_\", # rho\n",
                "    pid1 = \"0\",    # pid1 = 0 means mass_pid1 = m1 = mass_llp0;   mass_pid2 = m2 = mass = mass_llp1\n",
                "    br = \"4.72e-5 * 3 * coupling**2 * -0.0416667 * (1**2*(-m0 + m1 + m2)*(m0 + m1 + m2)* np.sqrt(-4*m1**2*m2**2 + (-m0**2 + m1**2 + m2**2)**2)* (m0**4 + 2*m0**2*(m1**2 + m1*m2 - m2**2) + (m1 - m2)**2*(3*m1**2 + m2**2))) / (ALPHAEM * m0 * np.sqrt(m0**2 - 4*M_ELECTRON**2) * (m0**2 + 2*M_ELECTRON**2) * np.pi)\",\n",
                "    generator = \"EPOSLHC\",\n",
                "    energy = energy,\n",
                "    nsample = nsample,\n",
                ")\n",
                "\n",
                "model.add_production_2bodydecay(\n",
                "   pid0 = \"223_\", # omega\n",
                "   pid1 = \"0\",\n",
                "   br = \"7.38e-5 * 3 * coupling**2 * -0.0416667 * (1**2*(-m0 + m1 + m2)*(m0 + m1 + m2)* np.sqrt(-4*m1**2*m2**2 + (-m0**2 + m1**2 + m2**2)**2)* (m0**4 + 2*m0**2*(m1**2 + m1*m2 - m2**2) + (m1 - m2)**2*(3*m1**2 + m2**2))) / (ALPHAEM * m0 * np.sqrt(m0**2 - 4*M_ELECTRON**2) * (m0**2 + 2*M_ELECTRON**2) * np.pi)\",\n",
                "   generator = \"EPOSLHC\",\n",
                "   energy = energy,\n",
                "   nsample = nsample,\n",
                ")\n",
                "\n",
                "model.add_production_2bodydecay(\n",
                "   pid0 = \"333_\", # phi\n",
                "   pid1 = \"0\",\n",
                "   br = \"2.98e-4 * 3 * coupling**2 * -0.0416667 * (1**2*(-m0 + m1 + m2)*(m0 + m1 + m2)* np.sqrt(-4*m1**2*m2**2 + (-m0**2 + m1**2 + m2**2)**2)* (m0**4 + 2*m0**2*(m1**2 + m1*m2 - m2**2) + (m1 - m2)**2*(3*m1**2 + m2**2))) / (ALPHAEM * m0 * np.sqrt(m0**2 - 4*M_ELECTRON**2) * (m0**2 + 2*M_ELECTRON**2) * np.pi)\",\n",
                "   generator = \"EPOSLHC\",\n",
                "   energy = energy,\n",
                "   nsample = nsample,\n",
                ")\n",
                "\n",
                "model.add_production_2bodydecay(\n",
                "    pid0 = \"443_\", # J/ψ\n",
                "    pid1 = \"0\",\n",
                "    br = \"0.0597 * 3 * coupling**2 * -0.0416667 * (1**2*(-m0 + m1 + m2)*(m0 + m1 + m2)* np.sqrt(-4*m1**2*m2**2 + (-m0**2 + m1**2 + m2**2)**2)* (m0**4 + 2*m0**2*(m1**2 + m1*m2 - m2**2) + (m1 - m2)**2*(3*m1**2 + m2**2))) / (ALPHAEM * m0 * np.sqrt(m0**2 - 4*M_ELECTRON**2) * (m0**2 + 2*M_ELECTRON**2) * np.pi)\",\n",
                "    generator = \"Pythia8\",\n",
                "    energy = energy,\n",
                "    nsample = nsample,\n",
                ")\n",
                "\n",
                "model.add_production_2bodydecay(\n",
                "   pid0 = \"100443_\", # \\psi(2S)\n",
                "   pid1 = \"0\",\n",
                "   br = \"0.00993 * 3 * coupling**2 * -0.0416667 * (1**2*(-m0 + m1 + m2)*(m0 + m1 + m2)* np.sqrt(-4*m1**2*m2**2 + (-m0**2 + m1**2 + m2**2)**2)* (m0**4 + 2*m0**2*(m1**2 + m1*m2 - m2**2) + (m1 - m2)**2*(3*m1**2 + m2**2))) / (ALPHAEM * m0 * np.sqrt(m0**2 - 4*M_ELECTRON**2) * (m0**2 + 2*M_ELECTRON**2) * np.pi)\",\n",
                "   generator = \"Pythia8\",\n",
                "   energy = energy,\n",
                "   nsample = nsample,\n",
                ")\n",
                "\n",
                "model.add_production_2bodydecay(\n",
                "    pid0 = \"553_\", # Υ ($\\Upsilon(1S)$)\n",
                "    pid1 = \"0\",\n",
                "    br = \"0.0238 * 3 * coupling**2 * -0.0416667 * (1**2*(-m0 + m1 + m2)*(m0 + m1 + m2)* np.sqrt(-4*m1**2*m2**2 + (-m0**2 + m1**2 + m2**2)**2)* (m0**4 + 2*m0**2*(m1**2 + m1*m2 - m2**2) + (m1 - m2)**2*(3*m1**2 + m2**2))) / (ALPHAEM * m0 * np.sqrt(m0**2 - 4*M_ELECTRON**2) * (m0**2 + 2*M_ELECTRON**2) * np.pi)\",\n",
                "    generator = \"Pythia8\",\n",
                "    energy = energy,\n",
                "    nsample = nsample,\n",
                ")\n",
                "\n",
                "model.add_production_2bodydecay(\n",
                "   pid0 = \"100553_\", # $\\Upsilon(2S)$\n",
                "   pid1 = \"0\",\n",
                "   br = \"0.0191 * 3 * coupling**2 * -0.0416667 * (1**2*(-m0 + m1 + m2)*(m0 + m1 + m2)* np.sqrt(-4*m1**2*m2**2 + (-m0**2 + m1**2 + m2**2)**2)* (m0**4 + 2*m0**2*(m1**2 + m1*m2 - m2**2) + (m1 - m2)**2*(3*m1**2 + m2**2))) / (ALPHAEM * m0 * np.sqrt(m0**2 - 4*M_ELECTRON**2) * (m0**2 + 2*M_ELECTRON**2) * np.pi)\",\n",
                "   generator = \"Pythia8\",\n",
                "   energy = energy,\n",
                "   nsample = nsample,\n",
                ")\n",
                "\n",
                "model.add_production_2bodydecay(\n",
                "   pid0 = \"200553_\", # $\\Upsilon(3S)$\n",
                "   pid1 = \"0\",\n",
                "   br = \"0.0218 * 3 * coupling**2 * -0.0416667 * (1**2*(-m0 + m1 + m2)*(m0 + m1 + m2)* np.sqrt(-4*m1**2*m2**2 + (-m0**2 + m1**2 + m2**2)**2)* (m0**4 + 2*m0**2*(m1**2 + m1*m2 - m2**2) + (m1 - m2)**2*(3*m1**2 + m2**2))) / (ALPHAEM * m0 * np.sqrt(m0**2 - 4*M_ELECTRON**2) * (m0**2 + 2*M_ELECTRON**2) * np.pi)\",\n",
                "   generator = \"Pythia8\",\n",
                "   energy = energy,\n",
                "   nsample = nsample,\n",
                ")"
            ]
        },
        {
            "cell_type": "code",
            "execution_count": null,
            "metadata": {},
            "outputs": [],
            "source": [
                "# gravitino-coupling independent channels - from 1902.10475\n",
                "\n",
                "# model.add_production_3bodydecay(\n",
                "#     pid0=\"-521\", # B- -> K- chitilde chitilde\n",
                "#     pid1=\"-321\", # K-\n",
                "#     pid2=\"0\",\n",
                "#     br=\"2 * 2.8e-13\",\n",
                "#     generator=\"Pythia8\",\n",
                "#     energy=energy,\n",
                "#     nsample=nsample,\n",
                "#     scaling=0,\n",
                "# )\n",
                "\n",
                "\n",
                "# pseudoscalar mesons\n",
                "model.add_production_2bodydecay(\n",
                "    pid0=\"111\",  # pi0\n",
                "    pid1=\"0\",    \n",
                "    br=\"2 * 1.14815e-13 * np.sqrt(1 - 4*mass**2/0.135**2)\",  # br=\"2*1.14815e-13 * np.sqrt(1 - 4*mass**2/0.135**2)\",\n",
                "    generator=\"EPOSLHC\",\n",
                "    energy=energy,\n",
                "    nsample=nsample,\n",
                "    scaling=0,\n",
                ")\n",
                "\n",
                "model.add_production_2bodydecay(\n",
                "    pid0=\"221\",  # eta\n",
                "    pid1=\"0\",    \n",
                "    br=\"2 * 3.246914e-15 * np.sqrt(1 - 4*mass**2/0.547**2)\",\n",
                "    generator=\"EPOSLHC\",\n",
                "    energy=energy,\n",
                "    nsample=nsample,\n",
                "    scaling=0,\n",
                ")\n",
                "\n",
                "model.add_production_2bodydecay(\n",
                "    pid0=\"331\",  # etaprime\n",
                "    pid1=\"0\",    \n",
                "    br=\"2 * 3.246914e-15 * np.sqrt(1 - 4*mass**2/0.957**2)\",\n",
                "    generator=\"EPOSLHC\",\n",
                "    energy=energy,\n",
                "    nsample=nsample,\n",
                "    scaling=0,\n",
                ")\n",
                "\n",
                "\n",
                "# vector mesons\n",
                "model.add_production_2bodydecay(\n",
                "    pid0=\"113\",  # rho\n",
                "    pid1=\"0\",    \n",
                "    br=\"2 * 9.8765432e-21 * (1 - 4*mass**2/0.77545**2)**1.5\",\n",
                "    generator=\"EPOSLHC\",\n",
                "    energy=energy,\n",
                "    nsample=nsample,\n",
                "    scaling=0,\n",
                ")\n",
                "\n",
                "model.add_production_2bodydecay(\n",
                "   pid0=\"223\", # omega\n",
                "   pid1=\"0\",\n",
                "   br=\"2 * 1.9382716e-19 * (1 - 4*mass**2/0.78266**2)**1.5\",\n",
                "   generator = \"EPOSLHC\",\n",
                "   energy = energy,\n",
                "   nsample = nsample,\n",
                "   scaling=0,\n",
                ")\n",
                "\n",
                "model.add_production_2bodydecay(\n",
                "   pid0=\"333\", # phi\n",
                "   pid1=\"0\",\n",
                "   br=\"2 * 9.2716049e-20 * (1 - 4*mass**2/1.019461**2)**1.5\",\n",
                "   generator = \"EPOSLHC\",\n",
                "   energy = energy,\n",
                "   nsample = nsample,\n",
                "   scaling=0,\n",
                ")\n",
                "\n",
                "model.add_production_2bodydecay(\n",
                "    pid0=\"443\", # J/ψ\n",
                "    pid1=\"0\",\n",
                "    br=\"2 * 6.3209877e-15 * (1 - 4*mass**2/3.096**2)**1.5\",\n",
                "    generator=\"Pythia8\",\n",
                "    energy=energy,\n",
                "    nsample=nsample,\n",
                "    scaling=0,\n",
                ")\n",
                "\n",
                "model.add_production_2bodydecay(\n",
                "    pid0=\"553\", # Υ\n",
                "    pid1=\"0\",\n",
                "    br=\"2 * 5.5185185e-14 * (1 - 4*mass**2/9.460**2)**1.5\",\n",
                "    generator=\"Pythia8\",\n",
                "    energy=energy,\n",
                "    nsample=nsample,\n",
                "    scaling=0,\n",
                ")"
            ]
        },
        {
            "cell_type": "code",
            "execution_count": null,
            "metadata": {},
            "outputs": [],
            "source": [
                "model.set_ctau_1d(filename=\"model/ctau_chitildegtilde.txt\", coupling_ref=1)\n",
                "\n",
                "# this array contains info only relevant for plotting: channel, color, ls, label, posx, posy\n",
                "branchings = [\n",
                "    [ \"BR_chitilde_gtildeg\", \"black\", \"solid\", r\"$\\tilde{g}\\gamma$\", 0.110, 0.30 ],  \n",
                "    [ \"BR_chitilde_gtildeee\", \"red\", \"solid\", r\"$\\tilde{g}e^+ e^-$\", 0.110, 0.016],\n",
                "]\n",
                "\n",
                "model.set_br_1d(\n",
                "    modes=[channel for channel, _, _, _, _, _ in branchings],\n",
                "    filenames=[ \"model/br/\" + channel + \".txt\" for channel, _, _, _, _, _ in branchings ],\n",
                ")\n",
                "\n",
                "foresee.set_model(model=model)"
            ]
        },
        {
            "cell_type": "markdown",
            "metadata": {},
            "source": [
                "## 2. NO FPF + MATHUSLA"
            ]
        },
        {
            "attachments": {},
            "cell_type": "markdown",
            "metadata": {},
            "source": [
                "### Primary production"
            ]
        },
        {
            "attachments": {},
            "cell_type": "markdown",
            "metadata": {},
            "source": [
                "- FASER2 - the nominal/default setup -  $\\tilde{\\chi} \\to \\tilde{G} \\gamma$ with $BR=1$"
            ]
        },
        {
            "cell_type": "code",
            "execution_count": null,
            "metadata": {},
            "outputs": [],
            "source": [
                "#specify setup\n",
                "luminosity, distance = 3000, 480\n",
                "setup, selection, channels, length = \"FASER2_gtildeg\", \"np.sqrt(x.x**2 + x.y**2)< 1.\", [ \"BR_chitilde_gtildeg\" ], 5\n",
                "foresee.set_detector(length=length,\n",
                "                     selection=selection,\n",
                "                     channels=channels,\n",
                "                     distance=distance,\n",
                "                     luminosity=luminosity)\n",
                "\n",
                "#get reach\n",
                "list_nevents = []\n",
                "for mass in masses:\n",
                "    couplings, _, nevents, _, _ = foresee.get_events(mass=mass, energy=energy, couplings=np.logspace(-8, -2, num_of_couplings))\n",
                "    list_nevents.append(nevents)\n",
                "np.save(\"model/results/\" + energy + \"TeV_\" + setup + \".npy\", [masses, couplings, list_nevents])"
            ]
        },
        {
            "cell_type": "code",
            "execution_count": null,
            "metadata": {},
            "outputs": [],
            "source": [
                "#specify setup\n",
                "luminosity, distance = 3000, 480\n",
                "setup, selection, channels, length = \"FASER2_gtildeee\", \"np.sqrt(x.x**2 + x.y**2)< 1.\", [ \"BR_chitilde_gtildeee\" ], 5\n",
                "foresee.set_detector(length=length,\n",
                "                     selection=selection,\n",
                "                     channels=channels,\n",
                "                     distance=distance,\n",
                "                     luminosity=luminosity)\n",
                "\n",
                "#get reach\n",
                "list_nevents = []\n",
                "for mass in masses:\n",
                "    couplings, _, nevents, _, _ = foresee.get_events(mass=mass, energy=energy, couplings=np.logspace(-8, -2, num_of_couplings))\n",
                "    list_nevents.append(nevents)\n",
                "np.save(\"model/results/\" + energy + \"TeV_\" + setup + \".npy\", [masses, couplings, list_nevents])"
            ]
        },
        {
            "attachments": {},
            "cell_type": "markdown",
            "metadata": {},
            "source": [
                "- FASER $\\nu2$ setup with decay  $\\tilde{\\chi} \\to \\tilde{G} \\gamma$"
            ]
        },
        {
            "cell_type": "code",
            "execution_count": null,
            "metadata": {},
            "outputs": [],
            "source": [
                "#specify setup\n",
                "luminosity, distance = 3000, 480 - 2  # L=2m\n",
                "setup, selection, channels, length = \"FASERnu2_gtildeg\", \"np.sqrt(x.x**2 + x.y**2)< 0.25\", [ \"BR_chitilde_gtildeg\" ], 2\n",
                "foresee.set_detector(length=length,\n",
                "                     selection=selection,\n",
                "                     channels=channels,\n",
                "                     distance=distance,\n",
                "                     luminosity=luminosity)\n",
                "\n",
                "#get reach\n",
                "list_nevents = []\n",
                "for mass in masses:\n",
                "    couplings, _, nevents, _, _ = foresee.get_events( mass=mass, energy=energy, couplings=np.logspace(-8, -2, num_of_couplings), preselectioncuts=\"th<0.01 and p>1000\")\n",
                "    list_nevents.append(nevents)\n",
                "\n",
                "np.save(\"model/results/\" + energy + \"TeV_\" + setup + \".npy\", [masses, couplings, list_nevents])"
            ]
        },
        {
            "attachments": {},
            "cell_type": "markdown",
            "metadata": {},
            "source": [
                "### Secondary Production"
            ]
        },
        {
            "attachments": {},
            "cell_type": "markdown",
            "metadata": {},
            "source": [
                "- FASER2 - the nominal/default setup -  $\\tilde{\\chi} \\to \\tilde{G} \\gamma$ with $BR=1$"
            ]
        },
        {
            "cell_type": "code",
            "execution_count": null,
            "metadata": {},
            "outputs": [],
            "source": [
                "#specify setup\n",
                "luminosity, distance = 3000, 480\n",
                "setup, selection, channels, length = \"FASER2_gtildeg_secondary\", \"np.sqrt(x.x**2 + x.y**2)< 1.\", [ \"BR_chitilde_gtildeg\" ], 5\n",
                "foresee.set_detector(length=length,\n",
                "                     selection=selection,\n",
                "                     channels=channels,\n",
                "                     distance=distance,\n",
                "                     luminosity=luminosity)\n",
                "\n",
                "#get reach\n",
                "list_nevents = []\n",
                "for mass in masses:\n",
                "    couplings, _, nevents, _, _ = foresee.get_events_secondary_NOFPF(\n",
                "        mass=mass,\n",
                "        energy=energy,\n",
                "        couplings=np.logspace(-8, -2, num_of_couplings),\n",
                "        preselectioncuts=\"th<0.01 and p>100\",\n",
                "        which_LLP=\"llp0\",\n",
                "        sign=\"decay_F2\",  \n",
                "        coup_ref=1,        \n",
                "        m1=0.0,\n",
                "        m3=mass,\n",
                "        Z=Z_TUNGSTEN,\n",
                "        A=A_TUNGSTEN,\n",
                "        RHO=RHO_TUNGSTEN,\n",
                "        sigma_secondary_LLP2_LLP3=sigma_gtildeNucleus_chitildeNucleus_analyt,\n",
                "    )\n",
                "    list_nevents.append(nevents)\n",
                "np.save(\"model/results/\" + energy + \"TeV_\" + setup + \".npy\", [masses, couplings, list_nevents])"
            ]
        },
        {
            "attachments": {},
            "cell_type": "markdown",
            "metadata": {},
            "source": [
                "- FASER $\\nu2$ setup with decay  $\\tilde{\\chi} \\to \\tilde{G}\\gamma$"
            ]
        },
        {
            "cell_type": "code",
            "execution_count": null,
            "metadata": {},
            "outputs": [],
            "source": [
                "#specify setup\n",
                "luminosity, distance = 3000, 480\n",
                "setup, selection, channels, length = \"FASERnu2_gtildeg_secondary\", \"np.sqrt(x.x**2 + x.y**2)< 0.25\", [ \"BR_chitilde_gtildeg\" ], 2\n",
                "foresee.set_detector(length=length,\n",
                "                     selection=selection,\n",
                "                     channels=channels,\n",
                "                     distance=distance,\n",
                "                     luminosity=luminosity)\n",
                "\n",
                "#get reach\n",
                "list_nevents = []\n",
                "for mass in masses:\n",
                "    couplings, _, nevents, _, _ = foresee.get_events_secondary_NOFPF(\n",
                "        mass=mass,\n",
                "        energy=energy,\n",
                "        couplings=np.logspace(-5, -2, num_of_couplings),\n",
                "        preselectioncuts=\"th<0.01 and p>1000\",\n",
                "        which_LLP=\"llp0\",\n",
                "        sign=\"decay_Fnu2\",  \n",
                "        coup_ref=1,\n",
                "        m1=0.0,\n",
                "        m3=mass,\n",
                "        Z=Z_TUNGSTEN,\n",
                "        A=A_TUNGSTEN,\n",
                "        RHO=RHO_TUNGSTEN,\n",
                "        sigma_secondary_LLP2_LLP3=sigma_gtildeNucleus_chitildeNucleus_analyt,\n",
                "    )\n",
                "    list_nevents.append(nevents)\n",
                "np.save(\"model/results/\" + energy + \"TeV_\" + setup + \".npy\", [masses, couplings, list_nevents])"
            ]
        },
        {
            "cell_type": "markdown",
            "metadata": {},
            "source": [
                "- FASER $\\nu2$ setup with scattering and decay outside F2"
            ]
        },
        {
            "cell_type": "code",
            "execution_count": null,
            "metadata": {},
            "outputs": [],
            "source": [
                "#specify setup\n",
                "luminosity, distance = 3000, 480\n",
                "setup, selection, channels, length = \"FASERnu2_scat\", \"np.sqrt(x.x**2 + x.y**2)< 0.25\", [\n",
                "    \"BR_chitilde_gtildeg\"\n",
                "], 2\n",
                "foresee.set_detector(length=length,\n",
                "                     selection=selection,\n",
                "                     channels=channels,\n",
                "                     distance=distance,\n",
                "                     luminosity=luminosity)\n",
                "\n",
                "#get reach\n",
                "list_nevents = []\n",
                "for mass in masses:\n",
                "    couplings, _, nevents, _, _ = foresee.get_events_secondary_NOFPF(\n",
                "        mass=mass,\n",
                "        energy=energy,\n",
                "        couplings=np.logspace(-8, -2, num_of_couplings),\n",
                "        preselectioncuts=\"th<0.01\",\n",
                "        which_LLP=\"llp0\",\n",
                "        sign=\"scat_e\",  \n",
                "        coup_ref=1,\n",
                "        m1=0.0,\n",
                "        m3=mass,\n",
                "        Z=1.0,\n",
                "        A=1.0,\n",
                "        RHO=RHO_TUNGSTEN,\n",
                "        sigma_secondary_LLP2_LLP3=sigma_gtildee_chitildee_analyt,\n",
                "        sigma_secondary_LLP3_LLP2=sigma_gtildee_chitildee_analyt,\n",
                "    )\n",
                "    list_nevents.append(nevents)\n",
                "np.save(\"model/results/\" + energy + \"TeV_\" + setup + \".npy\", [masses, couplings, list_nevents])"
            ]
        },
        {
            "cell_type": "markdown",
            "metadata": {},
            "source": [
                "### MATHUSLA"
            ]
        },
        {
            "attachments": {},
            "cell_type": "markdown",
            "metadata": {},
            "source": [
                "- MATHUSLA setup with decay  $\\tilde{\\chi} \\to \\tilde{G} \\gamma$"
            ]
        },
        {
            "cell_type": "code",
            "execution_count": null,
            "metadata": {},
            "outputs": [],
            "source": [
                "num_of_couplings_MATHUSLA = 101"
            ]
        },
        {
            "cell_type": "code",
            "execution_count": null,
            "metadata": {},
            "outputs": [],
            "source": [
                "#specify setup\n",
                "luminosity = 3000\n",
                "setup, channels = \"MATHUSLA_gtildeee\", [\"BR_chitilde_gtildeee\"]\n",
                "\n",
                "foresee.set_detector( length=0.0, channels=channels, distance=0.0, luminosity=luminosity)  # for MATHUSLA, we need to modify the foresee code\n",
                "\n",
                "#get reach\n",
                "list_nevents = []\n",
                "for mass in masses_MATHUSLA:\n",
                "    couplings, _, nevents, _, _ = foresee.get_events(mass=mass, energy=energy, couplings=np.logspace(-6, -2, num_of_couplings_MATHUSLA), preselectioncuts=\"p>1\", detector=\"MATHUSLA\")\n",
                "    list_nevents.append(nevents)\n",
                "np.save(\"model/results/\" + energy + \"TeV_\" + setup + \".npy\", [masses_MATHUSLA, couplings, list_nevents])"
            ]
        },
        {
            "cell_type": "code",
            "execution_count": null,
            "metadata": {},
            "outputs": [],
            "source": [
                "# #specify setup\n",
                "# luminosity = 3000\n",
                "# setup, channels = \"MATHUSLA_gtildeee_secondary\", [\"BR_chitilde_gtildeee\"]\n",
                "# foresee.set_detector(length=0.0,\n",
                "#                      channels=channels,\n",
                "#                      distance=0.0,\n",
                "#                      luminosity=luminosity)\n",
                "\n",
                "# list_nevents = []\n",
                "# for mass in masses_MATHUSLA:\n",
                "#     couplings, _, nevents, _, _ = foresee.get_events_secondary_MATHUSLA(\n",
                "#         mass=mass,\n",
                "#         energy=energy,\n",
                "#         couplings=np.logspace(-8, -2, num_of_couplings_MATHUSLA),\n",
                "#         preselectioncuts=\"p>1.5\",\n",
                "#         m1=0.0,\n",
                "#         m3=mass,\n",
                "#         sigma_secondary_LLP2_LLP3=sigma_gtildeNucleus_chitildeNucleus_analyt,\n",
                "#     )\n",
                "#     list_nevents.append(nevents)\n",
                "# np.save(\"model/results/\" + energy + \"TeV_\" + setup + \".npy\", [masses_MATHUSLA, couplings, list_nevents])"
            ]
        },
        {
            "attachments": {},
            "cell_type": "markdown",
            "metadata": {},
            "source": [
                "## 2'. FPF"
            ]
        },
        {
            "cell_type": "markdown",
            "metadata": {},
            "source": [
                "#### Primary"
            ]
        },
        {
            "attachments": {},
            "cell_type": "markdown",
            "metadata": {},
            "source": [
                "- FASER2 - the nominal/default setup -  $\\tilde{\\chi} \\to \\tilde{G} \\gamma$ with $BR=1$"
            ]
        },
        {
            "cell_type": "code",
            "execution_count": null,
            "metadata": {},
            "outputs": [],
            "source": [
                "#specify setup\n",
                "luminosity, distance = 3000, 620\n",
                "setup, selection, channels, length = \"FPF_FASER2_gtildeg\", \"np.sqrt(x.x**2 + x.y**2)< 1.\", [ \"BR_chitilde_gtildeg\" ], 25\n",
                "foresee.set_detector(length=length,\n",
                "                     selection=selection,\n",
                "                     channels=channels,\n",
                "                     distance=distance,\n",
                "                     luminosity=luminosity)\n",
                "\n",
                "#get reach\n",
                "list_nevents = []\n",
                "for mass in masses:\n",
                "    couplings, _, nevents, _, _ = foresee.get_events(mass=mass, energy=energy, couplings=np.logspace( -8, -2, num_of_couplings))\n",
                "    list_nevents.append(nevents)\n",
                "np.save(\"model/results/\" + energy + \"TeV_\" + setup + \".npy\", [masses, couplings, list_nevents])"
            ]
        },
        {
            "attachments": {},
            "cell_type": "markdown",
            "metadata": {},
            "source": [
                "- FASER2 setup with decay $\\tilde{\\chi} \\to \\tilde{G} e^+e^-$"
            ]
        },
        {
            "cell_type": "code",
            "execution_count": null,
            "metadata": {},
            "outputs": [],
            "source": [
                "#specify setup\n",
                "luminosity, distance = 3000, 620\n",
                "setup, selection, channels, length = \"FPF_FASER2_gtildeee\", \"np.sqrt(x.x**2 + x.y**2)< 1.\", [ \"BR_chitilde_gtildeee\" ], 25\n",
                "foresee.set_detector(length=length,\n",
                "                     selection=selection,\n",
                "                     channels=channels,\n",
                "                     distance=distance,\n",
                "                     luminosity=luminosity)\n",
                "\n",
                "#get reach\n",
                "list_nevents = []\n",
                "for mass in masses:\n",
                "    couplings, _, nevents, _, _ = foresee.get_events(mass=mass, energy=energy, couplings=np.logspace( -8, -2, num_of_couplings))\n",
                "    list_nevents.append(nevents)\n",
                "np.save(\"model/results/\" + energy + \"TeV_\" + setup + \".npy\", [masses, couplings, list_nevents])"
            ]
        },
        {
            "attachments": {},
            "cell_type": "markdown",
            "metadata": {},
            "source": [
                "- FASER $\\nu2$ setup with decay  $\\tilde{\\chi} \\to \\tilde{G} \\gamma$"
            ]
        },
        {
            "cell_type": "code",
            "execution_count": null,
            "metadata": {},
            "outputs": [],
            "source": [
                "#specify setup\n",
                "luminosity, distance = 3000, 620 - 8  # L=8m\n",
                "setup, selection, channels, length = \"FPF_FASERnu2_gtildeg\", \"np.sqrt(x.x**2 + x.y**2)< 0.2\", [ \"BR_chitilde_gtildeg\" ], 8\n",
                "foresee.set_detector(length=length,\n",
                "                     selection=selection,\n",
                "                     channels=channels,\n",
                "                     distance=distance,\n",
                "                     luminosity=luminosity)\n",
                "\n",
                "#get reach\n",
                "list_nevents = []\n",
                "for mass in masses:\n",
                "    couplings, _, nevents, _, _ = foresee.get_events( mass=mass, energy=energy, couplings=np.logspace(-8, -2, num_of_couplings), preselectioncuts=\"th<0.01 and p>1000\")\n",
                "    list_nevents.append(nevents)\n",
                "\n",
                "np.save(\"model/results/\" + energy + \"TeV_\" + setup + \".npy\", [masses, couplings, list_nevents])"
            ]
        },
        {
            "cell_type": "markdown",
            "metadata": {},
            "source": [
                "#### Secondary"
            ]
        },
        {
            "attachments": {},
            "cell_type": "markdown",
            "metadata": {},
            "source": [
                "- FASER2 - the nominal/default setup -  $\\tilde{\\chi} \\to \\tilde{G} \\gamma$ with $BR=1$"
            ]
        },
        {
            "cell_type": "code",
            "execution_count": null,
            "metadata": {},
            "outputs": [],
            "source": [
                "#specify setup\n",
                "luminosity, distance = 3000, 620\n",
                "setup, selection, channels, length = \"FPF_FASER2_gtildeg_secondary\", \"np.sqrt(x.x**2 + x.y**2)< 1.\", [ \"BR_chitilde_gtildeg\" ], 25\n",
                "foresee.set_detector(length=length,\n",
                "                     selection=selection,\n",
                "                     channels=channels,\n",
                "                     distance=distance,\n",
                "                     luminosity=luminosity)\n",
                "\n",
                "#get reach\n",
                "list_nevents = []\n",
                "for mass in masses:\n",
                "    couplings, _, nevents, _, _ = foresee.get_events_secondary_FPF(\n",
                "        mass=mass,\n",
                "        energy=energy,\n",
                "        couplings=np.logspace(-8, -2, num_of_couplings),\n",
                "        preselectioncuts=\"th<0.01 and p>100\",\n",
                "        which_LLP=\"llp0\",\n",
                "        sign=\"decay_F2\",  \n",
                "        coup_ref=1,        \n",
                "        m1=0.0,\n",
                "        m3=mass,\n",
                "        Z=Z_TUNGSTEN,\n",
                "        A=A_TUNGSTEN,\n",
                "        RHO=RHO_TUNGSTEN,\n",
                "        sigma_secondary_LLP2_LLP3=sigma_gtildeNucleus_chitildeNucleus_analyt,\n",
                "        FLARE_upscat=False\n",
                "    )\n",
                "    list_nevents.append(nevents)\n",
                "np.save(\"model/results/\" + energy + \"TeV_\" + setup + \".npy\", [masses, couplings, list_nevents])"
            ]
        },
        {
            "attachments": {},
            "cell_type": "markdown",
            "metadata": {},
            "source": [
                "- FASER2 - the nominal/default setup -  $\\tilde{\\chi} \\to \\tilde{G} \\gamma$ with $BR=1$ - with FLARE upscattering"
            ]
        },
        {
            "cell_type": "code",
            "execution_count": null,
            "metadata": {},
            "outputs": [],
            "source": [
                "#specify setup\n",
                "luminosity, distance = 3000, 620\n",
                "setup, selection, channels, length = \"FPF_FASER2_gtildeg_secondary_with_FLARE\", \"np.sqrt(x.x**2 + x.y**2)< 1.\", [ \"BR_chitilde_gtildeg\" ], 25\n",
                "foresee.set_detector(length=length,\n",
                "                     selection=selection,\n",
                "                     channels=channels,\n",
                "                     distance=distance,\n",
                "                     luminosity=luminosity)\n",
                "\n",
                "#get reach\n",
                "list_nevents = []\n",
                "for mass in masses:\n",
                "    couplings, _, nevents, _, _ = foresee.get_events_secondary_FPF(\n",
                "        mass=mass,\n",
                "        energy=energy,\n",
                "        couplings=np.logspace(-8, -2, num_of_couplings),\n",
                "        preselectioncuts=\"th<0.01 and p>100\",\n",
                "        which_LLP=\"llp0\",\n",
                "        sign=\"decay_F2\",  \n",
                "        coup_ref=1,        \n",
                "        m1=0.0,\n",
                "        m3=mass,\n",
                "        Z=Z_TUNGSTEN,\n",
                "        A=A_TUNGSTEN,\n",
                "        RHO=RHO_TUNGSTEN,\n",
                "        sigma_secondary_LLP2_LLP3=sigma_gtildeNucleus_chitildeNucleus_analyt,\n",
                "        sigma_secondary_LLP3_LLP2_or_LLP2_LLP3_FLARE=sigma_gtildeNucleus_chitildeNucleus_analyt,\n",
                "        FLARE_upscat=True\n",
                "    )\n",
                "    list_nevents.append(nevents)\n",
                "np.save(\"model/results/\" + energy + \"TeV_\" + setup + \".npy\", [masses, couplings, list_nevents])"
            ]
        },
        {
            "cell_type": "code",
            "execution_count": null,
            "metadata": {},
            "outputs": [],
            "source": [
                "#specify setup\n",
                "luminosity, distance = 3000, 620\n",
                "setup, selection, channels, length = \"FPF_FASER2_gtildeee_secondary\", \"np.sqrt(x.x**2 + x.y**2)< 1.\", [ \"BR_chitilde_gtildeee\" ], 25\n",
                "foresee.set_detector(length=length,\n",
                "                     selection=selection,\n",
                "                     channels=channels,\n",
                "                     distance=distance,\n",
                "                     luminosity=luminosity)\n",
                "\n",
                "#get reach\n",
                "list_nevents = []\n",
                "for mass in masses:\n",
                "    couplings, _, nevents, _, _ = foresee.get_events_secondary_FPF(\n",
                "        mass=mass,\n",
                "        energy=energy,\n",
                "        couplings=np.logspace(-8, -2, num_of_couplings),\n",
                "        preselectioncuts=\"th<0.01 and p>100\",\n",
                "        which_LLP=\"llp0\",\n",
                "        sign=\"decay_F2\",  \n",
                "        coup_ref=1,        \n",
                "        m1=0.0,\n",
                "        m3=mass,\n",
                "        Z=Z_TUNGSTEN,\n",
                "        A=A_TUNGSTEN,\n",
                "        RHO=RHO_TUNGSTEN,\n",
                "        sigma_secondary_LLP2_LLP3=sigma_gtildeNucleus_chitildeNucleus_analyt,\n",
                "    )\n",
                "    list_nevents.append(nevents)\n",
                "np.save(\"model/results/\" + energy + \"TeV_\" + setup + \".npy\", [masses, couplings, list_nevents])"
            ]
        },
        {
            "attachments": {},
            "cell_type": "markdown",
            "metadata": {},
            "source": [
                "- FASER $\\nu2$ setup with decay  $\\tilde{\\chi} \\to \\tilde{G} \\gamma$"
            ]
        },
        {
            "cell_type": "code",
            "execution_count": null,
            "metadata": {},
            "outputs": [],
            "source": [
                "#specify setup\n",
                "luminosity, distance = 3000, 610\n",
                "setup, selection, channels, length = \"FPF_FASERnu2_gtildeg_secondary\", \"np.sqrt(x.x**2 + x.y**2)< 0.25\", [ \"BR_chitilde_gtildeg\" ], 8\n",
                "foresee.set_detector(length=length,\n",
                "                     selection=selection,\n",
                "                     channels=channels,\n",
                "                     distance=distance,\n",
                "                     luminosity=luminosity)\n",
                "\n",
                "#get reach\n",
                "list_nevents = []\n",
                "for mass in masses:\n",
                "    couplings, _, nevents, _, _ = foresee.get_events_secondary_FPF(\n",
                "        mass=mass,\n",
                "        energy=energy,\n",
                "        couplings=np.logspace(-5, -2, num_of_couplings),\n",
                "        preselectioncuts=\"th<0.01 and p>1000\",\n",
                "        which_LLP=\"llp0\",\n",
                "        sign=\"decay_Fnu2\",  \n",
                "        coup_ref=1,\n",
                "        m1=0.0,\n",
                "        m3=mass,\n",
                "        Z=Z_TUNGSTEN,\n",
                "        A=A_TUNGSTEN,\n",
                "        RHO=RHO_TUNGSTEN,\n",
                "        sigma_secondary_LLP2_LLP3=sigma_gtildeNucleus_chitildeNucleus_analyt,\n",
                "    )\n",
                "    list_nevents.append(nevents)\n",
                "np.save(\"model/results/\" + energy + \"TeV_\" + setup + \".npy\", [masses, couplings, list_nevents])"
            ]
        },
        {
            "cell_type": "markdown",
            "metadata": {},
            "source": [
                "- FASER $\\nu2$ setup with scattering and decay outside F2"
            ]
        },
        {
            "cell_type": "code",
            "execution_count": null,
            "metadata": {},
            "outputs": [],
            "source": [
                "#specify setup\n",
                "luminosity, distance = 3000, 610\n",
                "setup, selection, channels, length = \"FPF_FASERnu2_scat\", \"np.sqrt(x.x**2 + x.y**2)< 0.25\", [ \"BR_chitilde_gtildeg\" ], 8\n",
                "foresee.set_detector(length=length,\n",
                "                     selection=selection,\n",
                "                     channels=channels,\n",
                "                     distance=distance,\n",
                "                     luminosity=luminosity)\n",
                "\n",
                "#get reach\n",
                "list_nevents = []\n",
                "for mass in masses:\n",
                "    couplings, _, nevents, _, _ = foresee.get_events_secondary_FPF(\n",
                "        mass=mass,\n",
                "        energy=energy,\n",
                "        couplings=np.logspace(-8, -2, num_of_couplings),\n",
                "        preselectioncuts=\"th<0.01\",\n",
                "        which_LLP=\"llp0\",\n",
                "        sign=\"scat_e\",  \n",
                "        coup_ref=1,\n",
                "        m1=0.0,\n",
                "        m3=mass,\n",
                "        Z=1.0,\n",
                "        A=1.0,\n",
                "        RHO=RHO_TUNGSTEN,\n",
                "        sigma_secondary_LLP2_LLP3=sigma_gtildee_chitildee_analyt,\n",
                "        sigma_secondary_LLP3_LLP2_or_LLP2_LLP3_FLARE=sigma_gtildee_chitildee_analyt,\n",
                "    )\n",
                "    list_nevents.append(nevents)\n",
                "np.save(\"model/results/\" + energy + \"TeV_\" + setup + \".npy\", [masses, couplings, list_nevents])"
            ]
        },
        {
            "attachments": {},
            "cell_type": "markdown",
            "metadata": {},
            "source": [
                "- FLARE - e scattering"
            ]
        },
        {
            "cell_type": "code",
            "execution_count": null,
            "metadata": {},
            "outputs": [],
            "source": [
                "#specify setup\n",
                "luminosity, distance = 3000, 600\n",
                "setup, selection, channels, length = \"FPF_FLARE_scat\", \"np.sqrt(x.x**2 + x.y**2)< 0.5\", [ \"BR_chitilde_gtildeg\" ], 7\n",
                "foresee.set_detector(length=length,\n",
                "                     selection=selection,\n",
                "                     channels=channels,\n",
                "                     distance=distance,\n",
                "                     luminosity=luminosity)\n",
                "\n",
                "#get reach\n",
                "list_nevents = []\n",
                "for mass in masses:\n",
                "    couplings, _, nevents, _, _ = foresee.get_events_secondary_FPF(\n",
                "        mass=mass,\n",
                "        energy=energy,\n",
                "        couplings=np.logspace(-8, -2, num_of_couplings),\n",
                "        preselectioncuts=\"th<0.01\",\n",
                "        which_LLP=\"llp0\",\n",
                "        sign=\"scat_FLARE\",  \n",
                "        coup_ref=1,\n",
                "        m1=0.0,\n",
                "        m3=mass,\n",
                "        Z=1.0,\n",
                "        A=1.0,\n",
                "        RHO=RHO_LAr,\n",
                "        sigma_secondary_LLP2_LLP3=sigma_gtildee_chitildee_log,\n",
                "        # sigma_secondary_LLP3_LLP2_or_LLP2_LLP3_FLARE=sigma_gtildee_chitildee_analyt,\n",
                "    )\n",
                "    list_nevents.append(nevents)\n",
                "np.save(\"model/results/\" + energy + \"TeV_\" + setup + \".npy\", [masses, couplings, list_nevents])"
            ]
        },
        {
            "cell_type": "code",
            "execution_count": null,
            "metadata": {},
            "outputs": [],
            "source": []
        },
        {
            "cell_type": "code",
            "execution_count": null,
            "metadata": {},
            "outputs": [],
            "source": []
        },
        {
            "cell_type": "markdown",
            "metadata": {},
            "source": [
                "## 3. Plot the Results"
            ]
        },
        {
            "cell_type": "code",
            "execution_count": null,
            "metadata": {},
            "outputs": [],
            "source": [
                "setups = [\n",
                "    [ \"14TeV_FASER2_gtildeg.npy\", r\"FASER2 ($E_{\\tilde{G}\\gamma}> 0.1$ TeV)\", \"black\", \"solid\", 0., 3.0 ],\n",
                "    [ \"14TeV_FASER2_gtildeee.npy\", \"FASER2 ($E_{ae^+e^-}> 0.1$ TeV)\", \"red\", \"solid\", 0., 3.0 ],\n",
                "    \n",
                "    [ \"14TeV_FASER2_gtildeg_secondary.npy\", r\"FASER2 (sec., $E_{\\tilde{G}\\gamma}> 0.1$ TeV)\", \"black\", \"dashed\", 0., 3.0 ],\n",
                "    [ \"14TeV_FASERnu2_gtildeg_secondary.npy\", r\"FASER$\\nu2$ (sec., $E_{\\tilde{G}\\gamma}> 1$ TeV)\", \"black\", \"dashdot\", 0., 3.0 ],\n",
                "    [ \"14TeV_FASERnu2_scat.npy\", r\"FASER$\\nu2$ ($e^-$ scat., dec. out.)\", \"gold\", \"solid\", 0., 20.0/2 ],\n",
                "    \n",
                "    [\"14TeV_MATHUSLA_gtildeee.npy\", r\"MATHUSLA\", \"brown\", \"solid\", 0., 3],\n",
                "    \n",
                "    [ \"0.4TeV_SHiP_gtildeg.npy\", r\"SHiP\", \"darkgreen\", \"dashed\", 0., 100 * 2 ],\n",
                "]"
            ]
        },
        {
            "cell_type": "code",
            "execution_count": null,
            "metadata": {},
            "outputs": [],
            "source": [
                "bounds = [\n",
                "    [\"LEP.txt\", \"LEP\", 0.7, 2.6e-5, 0],\n",
                "    [\"0.069TeV_NuCal_gtildeg.npy.txt\", \"NuCal\", 0.027, 4e-4, -35],\n",
                "]"
            ]
        },
        {
            "cell_type": "code",
            "execution_count": null,
            "metadata": {},
            "outputs": [],
            "source": [
                "projections = [\n",
                "    [\"LHC.txt\", \"gray\", \"LHC\", 0.7, 1.6e-6, 0],\n",
                "]"
            ]
        },
        {
            "cell_type": "code",
            "execution_count": null,
            "metadata": {},
            "outputs": [],
            "source": [
                "plot, ax, ax2 = foresee.plot_reach(\n",
                "    setups=setups,\n",
                "    bounds=bounds,\n",
                "    projections=projections,\n",
                "    xlims=[0.01, 1],\n",
                "    ylims=[4e-8, 10**-2],\n",
                "    xlabel=r\"$m_{\\tilde{\\gamma}}$ [GeV]\",\n",
                "    ylabel=r\"$1/F_{\\mathrm{SUSY}}$ [1/GeV$^2$]\",\n",
                "    legendloc=(1.00, 0.28),\n",
                "    branchings=branchings,\n",
                "    figsize=(8, 8),\n",
                "    save_file=True,\n",
                ")\n",
                "\n",
                "ax.legend(frameon=1, loc='lower center', ncol=2, fontsize=12)\n",
                "plt.subplots_adjust(left=0.11, right=0.98, bottom=0.10, top=0.97)\n",
                "\n",
                "plot.savefig(\"./output/Gravitino_neutralino_noFPF.pdf\")\n",
                "plot.show()"
            ]
        },
        {
            "attachments": {},
            "cell_type": "markdown",
            "metadata": {},
            "source": [
                "## 3'. FPF - Plot the Results"
            ]
        },
        {
            "cell_type": "code",
            "execution_count": null,
            "metadata": {},
            "outputs": [],
            "source": [
                "setups = [\n",
                "    [ \"14TeV_FPF_FASER2_gtildeg.npy\", r\"FASER2 ($E_{\\tilde{G}\\gamma}> 0.1$ TeV)\", \"black\", \"solid\", 0., 3],\n",
                "\n",
                "    [ \"14TeV_FPF_FASER2_gtildeee.npy\", r\"FASER2 ($E_{ae^+e^-}> 0.1$ TeV)\", \"red\", \"solid\", 0., 3.0 ],\n",
                "    \n",
                "    [ \"14TeV_FPF_FASER2_gtildeg_secondary.npy\", r\"FASER2 (sec., $E_{\\tilde{G}\\gamma}> 0.1$ TeV)\", \"black\", \"dashed\", 0., 3],\n",
                "\n",
                "    [ \"14TeV_FPF_FASERnu2_gtildeg_secondary.npy\", r\"FASER$\\nu2$ (sec., $E_{\\tilde{G}\\gamma}> 1$ TeV)\", \"black\", \"dashdot\", 0., 3.0 ],\n",
                "\n",
                "    [ \"14TeV_FPF_FASERnu2_scat.npy\", r\"FASER$\\nu2$ ($e^-$ scat., dec. out.)\", \"gold\", \"solid\", 0., 20/2 ],\n",
                "    [ \"14TeV_FPF_FLARE_scat.npy\", r\"FLArE ($e^-$ scat.)\", \"gold\", \"dotted\", 0., 20/2 ],\n",
                "    \n",
                "    [ \"0.4TeV_SHiP_gtildeg.npy\", r\"SHiP\", \"darkgreen\", \"dashed\", 0., 100 * 2 ],\n",
                "]"
            ]
        },
        {
            "cell_type": "code",
            "execution_count": null,
            "metadata": {},
            "outputs": [],
            "source": [
                "bounds = [\n",
                "    [\"LEP.txt\", \"LEP\", 0.7, 2.6e-5, 0],\n",
                "    [\"0.069TeV_NuCal_gtildeg.npy.txt\", \"NuCal\", 0.027, 4e-4, -35],\n",
                "]"
            ]
        },
        {
            "cell_type": "code",
            "execution_count": null,
            "metadata": {},
            "outputs": [],
            "source": [
                "projections = [\n",
                "    [\"LHC.txt\", \"gray\", \"LHC\", 0.7, 1.6e-6, 0],\n",
                "]"
            ]
        },
        {
            "cell_type": "code",
            "execution_count": null,
            "metadata": {},
            "outputs": [],
            "source": [
                "plot, ax, ax2 = foresee.plot_reach(\n",
                "    setups=setups,\n",
                "    bounds=bounds,\n",
                "    projections=projections,\n",
                "    xlims=[0.01, 1],\n",
                "    ylims=[4e-8, 10**-2],\n",
                "    xlabel=r\"$m_{\\tilde{\\gamma}}$ [GeV]\",\n",
                "    ylabel=r\"$1/F_{\\mathrm{SUSY}}$ [1/GeV$^2$]\",\n",
                "    legendloc=(1.00, 0.28),\n",
                "    branchings=branchings,\n",
                "    figsize=(8, 8),\n",
                "    save_file=True,\n",
                ")\n",
                "\n",
                "ax.legend(frameon=1, loc='lower center', ncol=2, fontsize=12)\n",
                "plt.subplots_adjust(left=0.11, right=0.98, bottom=0.10, top=0.97)\n",
                "\n",
                "plot.savefig(\"./output/Gravitino_neutralino_FPF.pdf\")\n",
                "plot.show()"
            ]
        }
    ],
    "metadata": {
        "kernelspec": {
            "display_name": "base",
            "language": "python",
            "name": "python3"
        },
        "language_info": {
            "codemirror_mode": {
                "name": "ipython",
                "version": 3
            },
            "file_extension": ".py",
            "mimetype": "text/x-python",
            "name": "python",
            "nbconvert_exporter": "python",
            "pygments_lexer": "ipython3",
            "version": "3.9.12"
        },
        "toc": {
            "base_numbering": 1,
            "nav_menu": {
                "height": "734px",
                "width": "465px"
            },
            "number_sections": true,
            "sideBar": true,
            "skip_h1_title": false,
            "title_cell": "Table of Contents",
            "title_sidebar": "Contents",
            "toc_cell": false,
            "toc_position": {},
            "toc_section_display": true,
            "toc_window_display": false
        },
        "vscode": {
            "interpreter": {
                "hash": "3067ead486e059ec00ffe7555bdb889e6e264a24dc711bf108106cc7baee8d5d"
            }
        }
    },
    "nbformat": 4,
    "nbformat_minor": 2
}
