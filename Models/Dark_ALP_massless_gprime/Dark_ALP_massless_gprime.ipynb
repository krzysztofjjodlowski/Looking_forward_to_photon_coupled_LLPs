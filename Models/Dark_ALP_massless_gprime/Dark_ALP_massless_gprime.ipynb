{
 "cells": [
  {
   "cell_type": "markdown",
   "metadata": {},
   "source": [
    "# FORESEE - Massless dark photon - ALP with photon-dark photon coupling"
   ]
  },
  {
   "cell_type": "code",
   "execution_count": null,
   "metadata": {},
   "outputs": [],
   "source": [
    "import numpy as np\n",
    "import sys\n",
    "import os\n",
    "\n",
    "src_path = \"../../src\"\n",
    "sys.path.append(src_path)\n",
    "from foresee import Foresee, Utility, Model\n",
    "\n",
    "from main import sigma_gpNucleus_aNucleus_analyt, sigma_aNucleus_gpNucleus_analyt, sigma_ae_gpe_log, sigma_gpe_ae_log\n",
    "from constants import *\n",
    "\n",
    "from timeit import default_timer as timer\n",
    "\n",
    "\n",
    "from matplotlib import pyplot as plt\n",
    "import matplotlib.tri as tri\n",
    "\n",
    "plt.rc('text', usetex=True)\n",
    "plt.rcParams['figure.dpi'] = 400\n",
    "\n",
    "plt.rcParams['text.latex.preamble'] = [r\"\\usepackage{amsmath}\"]\n",
    "plt.rcParams['text.latex.preamble'] = [r\"\\usepackage{amssymb}\"]\n",
    "plt.rcParams['text.latex.preamble'] = [r\"\\usepackage{siunitx}\"]\n",
    "font = {'family': 'serif', 'serif': ['computer modern roman']}\n",
    "\n",
    "plt.rc('font', **font)\n",
    "\n",
    "SMALL_SIZE = 14\n",
    "MEDIUM_SIZE = 18\n",
    "BIGGER_SIZE = 20\n",
    "\n",
    "plt.rc('font', size=MEDIUM_SIZE)  # controls default text sizes\n",
    "plt.rc('axes', titlesize=BIGGER_SIZE)  # fontsize of the axes title\n",
    "plt.rc('axes', labelsize=BIGGER_SIZE)  # fontsize of the x and y labels\n",
    "plt.rc('xtick', labelsize=SMALL_SIZE)  # fontsize of the tick labels\n",
    "plt.rc('ytick', labelsize=SMALL_SIZE)  # fontsize of the tick labels\n",
    "plt.rc('legend', fontsize=SMALL_SIZE)  # legend fontsize\n",
    "plt.rc('figure', titlesize=BIGGER_SIZE)  # fontsize of the figure title"
   ]
  },
  {
   "cell_type": "markdown",
   "metadata": {},
   "source": [
    "## 1. Initialization "
   ]
  },
  {
   "cell_type": "code",
   "execution_count": null,
   "metadata": {},
   "outputs": [],
   "source": [
    "foresee = Foresee()\n",
    "\n",
    "energy = \"14\"\n",
    "modelname = \"Dark_ALP_massless_gprime\"\n",
    "model = Model(modelname)\n",
    "\n",
    "nsample = 250\n",
    "\n",
    "num_of_masses = 22\n",
    "num_of_masses_MATHUSLA = 22\n",
    "masses = np.logspace(-3, 0.5, num_of_masses)\n",
    "masses_MATHUSLA = np.logspace(-3, np.log10(0.030), num_of_masses_MATHUSLA)\n",
    "\n",
    "num_of_couplings = 31\n",
    "num_of_couplings_MATHUSLA = 21"
   ]
  },
  {
   "cell_type": "markdown",
   "metadata": {},
   "source": [
    "#### Add mesons decays - they are the main production channel for dark axion-dark photon portal"
   ]
  },
  {
   "attachments": {},
   "cell_type": "markdown",
   "metadata": {},
   "source": [
    "The $a$, $\\gamma^\\prime$ can be produced in 3-body decays of pseudoscalar mesons $M \\to \\gamma \\gamma^\\prime$ via an offshell photon. \n",
    "For massive $a$ and $\\gamma'$:\n",
    "\\begin{equation}\n",
    "\\frac{d\\text{BR}(M \\!\\to\\! \\gamma'a\\gamma)}{dq^2 \\, d\\!\\cos\\theta}\n",
    " = \\frac{g_{a\\gamma\\gamma^\\prime}^2}{256 \\pi ^2 m_M^6 q^6} \\left(m_M^2-q^2\\right)^3 (\\cos(2\\theta)+3) \\left(-2 m_{\\gamma^\\prime}^2 \\left(m_a^2+q^2\\right)+m_{\\gamma^\\prime}^4+\\left(m_a^2-q^2\\right)^2\\right)^{3/2} \\text{BR}(M \\!\\to \\!\\gamma\\gamma).\n",
    "\\end{equation}\n",
    "\n",
    "In this notebook, we put $m_a=0$. The other one considers  $m_{\\gamma'}=0$.\n",
    "\n",
    "PDG codes: $\\gamma$ = 22, $\\pi_0$ = 111, $\\eta$ = 221, $\\eta^\\prime$ = 331.\n",
    "\n",
    "<!-- To generate LLP spectrum, use Dark_ALP_massless_gprime.py script.   -->\n",
    "\n",
    "\n",
    "\n",
    "Vector-meson decays:\n",
    "\n",
    "\\begin{equation} \n",
    "\t\\begin{aligned}\n",
    "\t\t\\!\\!\\text{Dark ALP:}\\\n",
    "\t\t\t&\\frac{{\\rm BR}_{V \\rightarrow a \\gamma^\\prime}}{{\\rm BR}_{V \\rightarrow ee}} \\!=\\! \\frac{  g_{a\\gamma\\gamma^\\prime}^2 (M-m_a-m_{\\gamma^\\prime}) (M+m_a-m_{\\gamma^\\prime}) (M-m_a+m_{\\gamma^\\prime}) (M+m_a+m_{\\gamma^\\prime}) \\sqrt{\\left(-M^2+m_a^2+m_{\\gamma^\\prime}^2\\right)^2-4 m_a^2 m_{\\gamma^\\prime}^2}}{32 \\pi  \\alpha_{\\text{EM}} M \\sqrt{M^2-4 m_e^2} \\left(M^2+2 m_e^2\\right)}, \\!\\! \\\\\n",
    "\t\\end{aligned}\n",
    "\\end{equation} "
   ]
  },
  {
   "cell_type": "code",
   "execution_count": null,
   "metadata": {},
   "outputs": [],
   "source": [
    "# model.add_production_3bodydecay(\n",
    "#     pid0=\"111\", # pi0, m_pi0=0.135, br=0.98823\n",
    "#     pid1=\"22\",  # photon\n",
    "#     pid2=\"22\",  # gprime - we put m_mgprime=0; mass(pid3) = mass = m_a\n",
    "#     br=\"0.98823 * coupling**2 / 256. / 3.1415**2 / q**6 / 0.135**6 * (0.135**2-q**2)**3 * (np.cos(2*th)+3) * ((mass**2 - q**2)**2)**1.5\",\n",
    "#     generator=\"EPOSLHC\",\n",
    "#     energy=energy,\n",
    "#     nsample=nsample,\n",
    "# )\n",
    "\n",
    "# # model.add_production_3bodydecay(\n",
    "# #     pid0=\"221\",\n",
    "# #     pid1=\"22\",\n",
    "# #     pid2=\"22\",\n",
    "# #     br=\"0.3931 * coupling**2 / 256. / 3.1415**2 / q**6 / 0.547**6 * (0.547**2-q**2)**3 * (np.cos(2*th)+3) * ((mass**2 - q**2)**2)**1.5\",\n",
    "# #     generator=\"EPOSLHC\",\n",
    "# #     energy=energy,\n",
    "# #     nsample=nsample,\n",
    "# # )\n",
    "\n",
    "# # model.add_production_3bodydecay(\n",
    "# #     pid0=\"331\",\n",
    "# #     pid1=\"22\",\n",
    "# #     pid2=\"22\",\n",
    "# #     br=\"0.222 * coupling**2 / 256. / 3.1415**2 / q**6 / 0.957**6 * (0.957**2-q**2)**3 * (np.cos(2*th)+3) * ((mass**2 - q**2)**2)**1.5\",\n",
    "# #     generator=\"EPOSLHC\",\n",
    "# #     energy=energy,\n",
    "# #     nsample=nsample,\n",
    "# # )"
   ]
  },
  {
   "cell_type": "code",
   "execution_count": null,
   "metadata": {},
   "outputs": [],
   "source": [
    "# V(p0) -> gprime(p1) + a(p2)\n",
    "# p1**2 = m1**2 = 0\n",
    "# p2**2 = m2**2 = m_a**2 = mass**2\n",
    "\n",
    "\n",
    "model.add_production_2bodydecay(\n",
    "    pid0 = \"113\", # rho\n",
    "    pid1 = \"0\",   # pid1 = 0 means mass_pid1 = m1 = mass_llp0;   mass_pid2 = m2 = mass = mass_llp1\n",
    "    br = \"4.72e-5 * coupling**2 * (1 * (m0 - m2 - m1)*(m0 + m2 - m1)*(m0 - m2 + m1)* (m0 + m2 + m1)*np.sqrt(-4*m2**2*m1**2 + (-m0**2 + m2**2 + m1**2)**2)) / (32.* ALPHAEM * m0 * np.sqrt(m0**2 - 4*M_ELECTRON**2) * (m0**2 + 2*M_ELECTRON**2) * np.pi)\",\n",
    "    generator = \"EPOSLHC\",\n",
    "    energy = energy,\n",
    "    nsample = nsample,\n",
    ")\n",
    "\n",
    "model.add_production_2bodydecay(\n",
    "   pid0 = \"223\", # omega\n",
    "   pid1 = \"0\",\n",
    "   br = \"7.38e-5 * coupling**2 * (1 * (m0 - m2 - m1)*(m0 + m2 - m1)*(m0 - m2 + m1)* (m0 + m2 + m1)*np.sqrt(-4*m2**2*m1**2 + (-m0**2 + m2**2 + m1**2)**2)) / (32.* ALPHAEM * m0 * np.sqrt(m0**2 - 4*M_ELECTRON**2) * (m0**2 + 2*M_ELECTRON**2) * np.pi)\",\n",
    "   generator = \"EPOSLHC\",\n",
    "   energy = energy,\n",
    "   nsample = nsample,\n",
    ")\n",
    "\n",
    "model.add_production_2bodydecay(\n",
    "   pid0 = \"333\", # phi\n",
    "   pid1 = \"0\",\n",
    "   br = \"2.98e-4 * coupling**2 * (1 * (m0 - m2 - m1)*(m0 + m2 - m1)*(m0 - m2 + m1)* (m0 + m2 + m1)*np.sqrt(-4*m2**2*m1**2 + (-m0**2 + m2**2 + m1**2)**2)) / (32.* ALPHAEM * m0 * np.sqrt(m0**2 - 4*M_ELECTRON**2) * (m0**2 + 2*M_ELECTRON**2) * np.pi)\",\n",
    "   generator = \"EPOSLHC\",\n",
    "   energy = energy,\n",
    "   nsample = nsample,\n",
    ")\n",
    "\n",
    "model.add_production_2bodydecay(\n",
    "    pid0 = \"443\", # J/ψ\n",
    "    pid1 = \"0\",\n",
    "    br = \"0.0597 * coupling**2 * (1 * (m0 - m2 - m1)*(m0 + m2 - m1)*(m0 - m2 + m1)* (m0 + m2 + m1)*np.sqrt(-4*m2**2*m1**2 + (-m0**2 + m2**2 + m1**2)**2)) / (32.* ALPHAEM * m0 * np.sqrt(m0**2 - 4*M_ELECTRON**2) * (m0**2 + 2*M_ELECTRON**2) * np.pi)\",\n",
    "    generator = \"Pythia8\",\n",
    "    energy = energy,\n",
    "    nsample = nsample,\n",
    ")\n",
    "\n",
    "# model.add_production_2bodydecay(\n",
    "#    pid0 = \"100443\", # \\psi(2S)\n",
    "#    pid1 = \"0\",\n",
    "#    br = \"0.00993 * coupling**2 * (1 * (m0 - m2 - m1)*(m0 + m2 - m1)*(m0 - m2 + m1)* (m0 + m2 + m1)*np.sqrt(-4*m2**2*m1**2 + (-m0**2 + m2**2 + m1**2)**2)) / (32.* ALPHAEM * m0 * np.sqrt(m0**2 - 4*M_ELECTRON**2) * (m0**2 + 2*M_ELECTRON**2) * np.pi)\",   \n",
    "#    generator = \"Pythia8\",\n",
    "#    energy = energy,\n",
    "#    nsample = nsample,\n",
    "# )\n",
    "\n",
    "# model.add_production_2bodydecay(\n",
    "#     pid0 = \"553\", # Υ ($\\Upsilon(1S)$)\n",
    "#     pid1 = \"0\",\n",
    "#     br = \"0.0238 * coupling**2 * (1 * (m0 - m2 - m1)*(m0 + m2 - m1)*(m0 - m2 + m1)* (m0 + m2 + m1)*np.sqrt(-4*m2**2*m1**2 + (-m0**2 + m2**2 + m1**2)**2)) / (32.* ALPHAEM * m0 * np.sqrt(m0**2 - 4*M_ELECTRON**2) * (m0**2 + 2*M_ELECTRON**2) * np.pi)\",    \n",
    "#     generator = \"Pythia8\",\n",
    "#     energy = energy,\n",
    "#     nsample = nsample,\n",
    "# )\n",
    "\n",
    "# model.add_production_2bodydecay(\n",
    "#    pid0 = \"100553\", # $\\Upsilon(2S)$\n",
    "#    pid1 = \"0\",\n",
    "#    br = \"0.0191 * coupling**2 * (1 * (m0 - m2 - m1)*(m0 + m2 - m1)*(m0 - m2 + m1)* (m0 + m2 + m1)*np.sqrt(-4*m2**2*m1**2 + (-m0**2 + m2**2 + m1**2)**2)) / (32.* ALPHAEM * m0 * np.sqrt(m0**2 - 4*M_ELECTRON**2) * (m0**2 + 2*M_ELECTRON**2) * np.pi)\",\n",
    "#    generator = \"Pythia8\",\n",
    "#    energy = energy,\n",
    "#    nsample = nsample,\n",
    "# )\n",
    "\n",
    "# model.add_production_2bodydecay(\n",
    "#    pid0 = \"200553\", # $\\Upsilon(3S)$\n",
    "#    pid1 = \"0\",\n",
    "#    br = \"0.0218 * coupling**2 * (1 * (m0 - m2 - m1)*(m0 + m2 - m1)*(m0 - m2 + m1)* (m0 + m2 + m1)*np.sqrt(-4*m2**2*m1**2 + (-m0**2 + m2**2 + m1**2)**2)) / (32.* ALPHAEM * m0 * np.sqrt(m0**2 - 4*M_ELECTRON**2) * (m0**2 + 2*M_ELECTRON**2) * np.pi)\",\n",
    "#    generator = \"Pythia8\",\n",
    "#    energy = energy,\n",
    "#    nsample = nsample,\n",
    "# )"
   ]
  },
  {
   "cell_type": "code",
   "execution_count": null,
   "metadata": {},
   "outputs": [],
   "source": [
    "model.set_ctau_1d(filename=\"model/ctau_a.txt\", coupling_ref=1)\n",
    "\n",
    "branchings = [\n",
    "    # this array contains info only relevant for plotting: channel, color, ls, label, posx, posy\n",
    "    [ \"BR_a_gammagammaprime\", \"black\", \"solid\", r\"$\\gamma\\gamma^\\prime$\", 0.110, 0.30 ],  \n",
    "    [ \"BR_a_gammaprimeee\", \"red\", \"solid\", r\"$\\gamma^\\prime e^+ e^-$\", 0.110, 0.012],\n",
    "]\n",
    "\n",
    "model.set_br_1d(\n",
    "    modes=[channel for channel, _, _, _, _, _ in branchings],\n",
    "    filenames=[ \"model/br/\" + channel + \".txt\" for channel, _, _, _, _, _ in branchings ],\n",
    ")\n",
    "\n",
    "foresee.set_model(model=model)"
   ]
  },
  {
   "cell_type": "code",
   "execution_count": null,
   "metadata": {},
   "outputs": [],
   "source": [
    "# %matplotlib inline\n",
    "\n",
    "# mass_llp0 = 0.0 # m_gprime\n",
    "# mass_llp1 = 0.1 # m_a\n",
    "\n",
    "# plt_1, plt_2 = foresee.get_llp_spectrum(mass=mass_llp1, mass_llp0=mass_llp0, coupling=1e-4, do_plot=True, save_file=False)\n",
    "# plt_1.savefig(\"./output/test_LLP_spect_plt_1.pdf\")\n",
    "# plt_2.savefig(\"./output/test_LLP_spect_plt_2.pdf\")\n",
    "\n",
    "# plt_1.show()\n",
    "# plt_2.show()\n",
    "\n",
    "\n",
    "# plt_1, plt_2 = foresee.get_llp_spectrum(mass=mass_llp1, mass_llp0=mass_llp0, coupling=1e-4, do_plot=True, save_file=False, detector=\"MATHUSLA\")\n",
    "# plt_1.savefig(\"./output/test_LLP_spect_plt_1_MATHUSLA.pdf\")\n",
    "# plt_2.savefig(\"./output/test_LLP_spect_plt_2_MATHUSLA.pdf\")\n",
    "\n",
    "# plt_1.show()\n",
    "# plt_2.show()"
   ]
  },
  {
   "cell_type": "code",
   "execution_count": null,
   "metadata": {},
   "outputs": [],
   "source": [
    "# for count, mass in enumerate(masses):\n",
    "#     mass_llp0 = 0.0    # m_gprime\n",
    "#     mass_llp1 = mass   # m_a\n",
    "\n",
    "#     start = timer()\n",
    "#     foresee.get_llp_spectrum(mass=mass_llp1, mass_llp0=mass_llp0, coupling=1)\n",
    "#     end = timer()\n",
    "#     time_length_sec = end - start\n",
    "\n",
    "#     count += 1\n",
    "#     time_length_sec_total = time_length_sec * num_of_masses\n",
    "#     print(\"%.2f%% done, \" % float(count / num_of_masses * 100), \"approx. total run time : %.1f m, \" % float(time_length_sec_total / 60), \"approx. waiting time: %.1f m\" % float(time_length_sec_total * (1 - count / num_of_masses) / 60))\n",
    "\n",
    "\n",
    "# count_total = num_of_masses_MATHUSLA\n",
    "# for count, mass in enumerate(masses_MATHUSLA):\n",
    "#     mass_llp0 = 0.0\n",
    "#     mass_llp1 = mass\n",
    "\n",
    "#     start = timer()\n",
    "#     foresee.get_llp_spectrum(mass=mass_llp1, mass_llp0=mass_llp0, coupling=1, detector=\"MATHUSLA\")\n",
    "#     end = timer()\n",
    "#     time_length_sec = end - start\n",
    "\n",
    "#     count += 1\n",
    "#     time_length_sec_total = time_length_sec * count_total\n",
    "#     print(\"%.2f%% done, \" % float(count/count_total * 100), \"approx. total run time : %.1f m, \" % float(time_length_sec_total/60), \"approx. waiting time: %.1f m\" % float(time_length_sec_total * (1 - count / count_total) / 60))"
   ]
  },
  {
   "cell_type": "code",
   "execution_count": null,
   "metadata": {},
   "outputs": [],
   "source": [
    "# productions = [\n",
    "#     # [\"111\"    , None      , \"firebrick\"   , r\"$\\pi$\"         ],   \n",
    "#     # [\"221\"    , None      , \"red\"         , r\"$\\eta$\"        ],   \n",
    "#     # [\"331\"    , None , \"salmon\"      , r\"$\\eta'$\"       ],  \n",
    "#     [\"113\"    , None , \"dodgerblue\"  , r\"$\\rho$\"        ],   \n",
    "#     [\"223\"    , None , \"blue\"        , r\"$\\omega$\"      ],   \n",
    "#     [\"333\"    , None , \"deepskyblue\" , r\"$\\phi$\"        ],  \n",
    "#     [\"443\"    , None  , \"gold\"        , r\"$J/\\psi$\"      ],   \n",
    "#     [\"100443\" , None  , \"orange\"      , r\"$\\psi(2S)$\"    ],  \n",
    "#     [\"553\"    , None  , \"green\"       , r\"$\\Upsilon(1S)$\"],   \n",
    "#     [\"100553\" , None  , \"limegreen\"   , r\"$\\Upsilon(2S)$\"],  \n",
    "#     [\"200553\" , None  , \"lime\"        , r\"$\\Upsilon(3S)$\"],  \n",
    "# ]\n",
    "\n",
    "# plot = foresee.plot_production(\n",
    "#     masses = masses, \n",
    "#     productions = productions,\n",
    "#     condition=\"True\", \n",
    "#     xlims=[0.03,1],\n",
    "#     ylims=[10**0,10**7], \n",
    "#     xlabel=r\"$m_{\\gamma'}$ [GeV]\", \n",
    "#     ylabel=r\"Production rate $\\sigma \\times g_\\gamma^2$ [pb]\",\n",
    "#     legendloc=(1.02,1.02),\n",
    "#     fs_label=12,\n",
    "#     dolegend=True,\n",
    "# )\n",
    "\n",
    "# plot.subplots_adjust(left=0.11, right=0.99, bottom=0.10, top=0.97)\n",
    "# plot.savefig(\"output/Dark_ALP_massless_gprime_Production_channels_FASER.pdf\")\n",
    "# plot.show()\n",
    "\n",
    "\n",
    "\n",
    "# productions = [\n",
    "#     [\"111\"    , None      , \"firebrick\"   , r\"$\\pi$\"         ],   \n",
    "#     # [\"221\"    , None      , \"red\"         , r\"$\\eta$\"        ],   \n",
    "#     # [\"331\"    , None , \"salmon\"      , r\"$\\eta'$\"       ],  \n",
    "#     [\"113\"    , None , \"dodgerblue\"  , r\"$\\rho$\"        ],   \n",
    "#     [\"223\"    , None , \"blue\"        , r\"$\\omega$\"      ],   \n",
    "#     [\"333\"    , None , \"deepskyblue\" , r\"$\\phi$\"        ],  \n",
    "#     [\"443\"    , None  , \"gold\"        , r\"$J/\\psi$\"      ],   \n",
    "#     [\"100443\" , None  , \"orange\"      , r\"$\\psi(2S)$\"    ],  \n",
    "#     [\"553\"    , None  , \"green\"       , r\"$\\Upsilon(1S)$\"],   \n",
    "#     [\"100553\" , None  , \"limegreen\"   , r\"$\\Upsilon(2S)$\"],  \n",
    "#     [\"200553\" , None  , \"lime\"        , r\"$\\Upsilon(3S)$\"],  \n",
    "# ]\n",
    "\n",
    "# plot = foresee.plot_production(\n",
    "#     masses = masses_MATHUSLA, \n",
    "#     productions = productions,\n",
    "#     condition=\"True\", \n",
    "#     xlims=[0.03,0.1],\n",
    "#     ylims=[1e2,1e7], \n",
    "#     xlabel=r\"$m_{\\gamma'}$ [GeV]\", \n",
    "#     ylabel=r\"Production rate $\\sigma \\times g_\\gamma^2$ [pb]\",\n",
    "#     legendloc=(1.02,1.02),\n",
    "#     fs_label=12,\n",
    "#     energy=energy,\n",
    "#     detector=\"MATHUSLA\",\n",
    "# )\n",
    "\n",
    "# plot.subplots_adjust(left=0.11, right=0.99, bottom=0.10, top=0.97)\n",
    "# plot.savefig(\"output/Dark_ALP_massless_gprime_Production_channels_MATHUSLA.pdf\")\n",
    "# plot.show()"
   ]
  },
  {
   "cell_type": "code",
   "execution_count": null,
   "metadata": {},
   "outputs": [],
   "source": []
  },
  {
   "attachments": {},
   "cell_type": "markdown",
   "metadata": {},
   "source": [
    "## 2. No FPF + MATHUSLA"
   ]
  },
  {
   "cell_type": "markdown",
   "metadata": {},
   "source": [
    "### Primary production"
   ]
  },
  {
   "cell_type": "markdown",
   "metadata": {},
   "source": [
    "- FASER2 - the nominal/default setup -  $a \\to \\gamma^\\prime \\gamma$ with $BR\\sim1$"
   ]
  },
  {
   "cell_type": "code",
   "execution_count": null,
   "metadata": {},
   "outputs": [],
   "source": [
    "luminosity, distance = 3000, 480\n",
    "setup, selection, channels, length = \"FASER2_gammagammaprime\", \"np.sqrt(x.x**2 + x.y**2)< 1*480./480.\", [ \"BR_a_gammagammaprime\" ], 5\n",
    "foresee.set_detector(length=length,\n",
    "                     selection=selection,\n",
    "                     channels=channels,\n",
    "                     distance=distance,\n",
    "                     luminosity=luminosity)\n",
    "\n",
    "#get reach\n",
    "list_nevents = []\n",
    "for mass in masses:\n",
    "    couplings, _, nevents, _, _ = foresee.get_events(mass=mass, energy=energy, couplings=np.logspace(-6, -2, num_of_couplings))\n",
    "    list_nevents.append(nevents)\n",
    "np.save(\"model/results/\" + energy + \"TeV_\" + setup + \".npy\", [masses, couplings, list_nevents])"
   ]
  },
  {
   "cell_type": "markdown",
   "metadata": {},
   "source": [
    "- FASER2 setup with decay $a\\to \\gamma^\\prime ee$"
   ]
  },
  {
   "cell_type": "code",
   "execution_count": null,
   "metadata": {},
   "outputs": [],
   "source": [
    "luminosity, distance = 3000, 480\n",
    "setup, selection, channels, length = \"FASER2_gprimeee\", \"np.sqrt(x.x**2 + x.y**2)< 1*480./480.\", [ \"BR_a_gammaprimeee\" ], 5\n",
    "foresee.set_detector(length=length,\n",
    "                     selection=selection,\n",
    "                     channels=channels,\n",
    "                     distance=distance,\n",
    "                     luminosity=luminosity)\n",
    "\n",
    "#get reach\n",
    "list_nevents = []\n",
    "for mass in masses:\n",
    "    couplings, _, nevents, _, _ = foresee.get_events(mass=mass, energy=energy, couplings=np.logspace(-5, -2, num_of_couplings))\n",
    "    list_nevents.append(nevents)\n",
    "np.save(\"model/results/\" + energy + \"TeV_\" + setup + \".npy\", [masses, couplings, list_nevents])"
   ]
  },
  {
   "cell_type": "markdown",
   "metadata": {},
   "source": [
    "- FASER $\\nu2$ setup with decay  $a \\to \\gamma^\\prime\\gamma$,  $E_{th}=1000 GeV$"
   ]
  },
  {
   "cell_type": "code",
   "execution_count": null,
   "metadata": {},
   "outputs": [],
   "source": [
    "luminosity, distance = 3000, 480 - 2  # L=2m\n",
    "setup, selection, channels, length = \"FASERnu2_gammagammaprime_1TeV\", \"np.sqrt(x.x**2 + x.y**2)< 0.25\", [ \"BR_a_gammagammaprime\" ], 2\n",
    "foresee.set_detector(length=length,\n",
    "                     selection=selection,\n",
    "                     channels=channels,\n",
    "                     distance=distance,\n",
    "                     luminosity=luminosity)\n",
    "\n",
    "#get reach\n",
    "list_nevents = []\n",
    "for mass in masses:\n",
    "    couplings, _, nevents, _, _ = foresee.get_events(\n",
    "        mass=mass,\n",
    "        energy=energy,\n",
    "        couplings=np.logspace(-6, -2, num_of_couplings),\n",
    "        preselectioncuts=\"th<0.01 and p>1000\")\n",
    "    list_nevents.append(nevents)\n",
    "\n",
    "#save results\n",
    "np.save(\"model/results/\" + energy + \"TeV_\" + setup + \".npy\", [masses, couplings, list_nevents])"
   ]
  },
  {
   "cell_type": "markdown",
   "metadata": {},
   "source": [
    "### Secondary Production"
   ]
  },
  {
   "cell_type": "markdown",
   "metadata": {},
   "source": [
    "- FASER2 - the nominal/default setup -  $a\\to \\gamma^\\prime\\gamma$ with $BR=1$"
   ]
  },
  {
   "cell_type": "code",
   "execution_count": null,
   "metadata": {},
   "outputs": [],
   "source": [
    "luminosity, distance = 3000, 480\n",
    "setup, selection, channels, length = \"FASER2_gammagammaprime_secondary\", \"np.sqrt(x.x**2 + x.y**2)< 1*480./480.\", [ \"BR_a_gammagammaprime\" ], 5\n",
    "foresee.set_detector(length=length,\n",
    "                     selection=selection,\n",
    "                     channels=channels,\n",
    "                     distance=distance,\n",
    "                     luminosity=luminosity)\n",
    "\n",
    "#get reach\n",
    "list_nevents = []\n",
    "for mass in masses:\n",
    "    couplings, _, nevents, _, _ = foresee.get_events_secondary_NOFPF(\n",
    "        mass=mass,\n",
    "        energy=energy,\n",
    "        couplings=np.logspace(-6, -2, num_of_couplings),\n",
    "        preselectioncuts=\"th<0.01 and p>100\",\n",
    "        which_LLP=\"llp0\",\n",
    "        sign=\"decay_F2\",  \n",
    "        coup_ref=1,        \n",
    "        m1=0.0,\n",
    "        m3=mass,\n",
    "        Z=Z_TUNGSTEN,\n",
    "        A=A_TUNGSTEN,\n",
    "        RHO=RHO_TUNGSTEN,\n",
    "        sigma_secondary_LLP2_LLP3=sigma_gpNucleus_aNucleus_analyt,\n",
    "    )\n",
    "    list_nevents.append(nevents)\n",
    "np.save(\"model/results/\" + energy + \"TeV_\" + setup + \".npy\", [masses, couplings, list_nevents])"
   ]
  },
  {
   "cell_type": "markdown",
   "metadata": {},
   "source": [
    "- FASER2 setup with decay $a \\to \\gamma^\\prime ee$"
   ]
  },
  {
   "cell_type": "code",
   "execution_count": null,
   "metadata": {},
   "outputs": [],
   "source": [
    "# luminosity, distance = 3000, 480\n",
    "# setup, selection, channels, length = \"FASER2_gprimeee_secondary\", \"np.sqrt(x.x**2 + x.y**2)< 1*480./480.\", [ \"BR_a_gammaprimeee\" ], 5\n",
    "# foresee.set_detector(length=length,\n",
    "#                      selection=selection,\n",
    "#                      channels=channels,\n",
    "#                      distance=distance,\n",
    "#                      luminosity=luminosity)\n",
    "\n",
    "# #get reach\n",
    "# list_nevents = []\n",
    "# for mass in masses:\n",
    "#     couplings, _, nevents, _, _ = foresee.get_events_secondary_NOFPF(\n",
    "#         mass=mass,\n",
    "#         energy=energy,\n",
    "#         couplings=np.logspace(-6, -2, num_of_couplings),\n",
    "#         preselectioncuts=\"th<0.01 and p>100\",\n",
    "#         which_LLP=\"llp0\",\n",
    "#         sign=\"decay_F2\",  \n",
    "#         coup_ref=1,        \n",
    "#         m1=0.0,\n",
    "#         m3=mass,\n",
    "#         Z=Z_TUNGSTEN,\n",
    "#         A=A_TUNGSTEN,\n",
    "#         RHO=RHO_TUNGSTEN,\n",
    "#         sigma_secondary_LLP2_LLP3=sigma_gpNucleus_aNucleus_analyt,\n",
    "#     )\n",
    "#     list_nevents.append(nevents)\n",
    "# np.save(\"model/results/\" + energy + \"TeV_\" + setup + \".npy\", [masses, couplings, list_nevents])"
   ]
  },
  {
   "cell_type": "markdown",
   "metadata": {},
   "source": [
    "- FASER $\\nu2$ setup with decay $a\\to \\gamma^\\prime\\gamma$"
   ]
  },
  {
   "cell_type": "code",
   "execution_count": null,
   "metadata": {},
   "outputs": [],
   "source": [
    "\n",
    "luminosity, distance = 3000, 480\n",
    "setup, selection, channels, length = \"FASERnu2_gammagammaprime_1TeV_secondary\", \"np.sqrt(x.x**2 + x.y**2)< 0.25\", [ \"BR_a_gammagammaprime\" ], 2\n",
    "foresee.set_detector(length=length,\n",
    "                     selection=selection,\n",
    "                     channels=channels,\n",
    "                     distance=distance,\n",
    "                     luminosity=luminosity)\n",
    "\n",
    "#get reach\n",
    "list_nevents = []\n",
    "for mass in masses:\n",
    "    couplings, _, nevents, _, _ = foresee.get_events_secondary_NOFPF(\n",
    "        mass=mass,\n",
    "        energy=energy,\n",
    "        couplings=np.logspace(-6, -2, num_of_couplings),\n",
    "        preselectioncuts=\"th<0.01 and p>1000\",\n",
    "        which_LLP=\"llp0\",\n",
    "        sign=\"decay_Fnu2\",  \n",
    "        coup_ref=1,\n",
    "        m1=0.0,\n",
    "        m3=mass,\n",
    "        Z=Z_TUNGSTEN,\n",
    "        A=A_TUNGSTEN,\n",
    "        RHO=RHO_TUNGSTEN,\n",
    "        sigma_secondary_LLP2_LLP3=sigma_gpNucleus_aNucleus_analyt,\n",
    "    )\n",
    "    list_nevents.append(nevents)\n",
    "np.save(\"model/results/\" + energy + \"TeV_\" + setup + \".npy\", [masses, couplings, list_nevents])"
   ]
  },
  {
   "attachments": {},
   "cell_type": "markdown",
   "metadata": {},
   "source": [
    "- FASER $\\nu2$ setup with scattering and decay outside F2"
   ]
  },
  {
   "cell_type": "code",
   "execution_count": null,
   "metadata": {},
   "outputs": [],
   "source": [
    "\n",
    "luminosity, distance = 3000, 480\n",
    "setup, selection, channels, length = \"FASERnu2_scat\", \"np.sqrt(x.x**2 + x.y**2)< 0.25\", [ \"BR_a_gammagammaprime\" ], 2\n",
    "foresee.set_detector(length=length,\n",
    "                     selection=selection,\n",
    "                     channels=channels,\n",
    "                     distance=distance,\n",
    "                     luminosity=luminosity)\n",
    "\n",
    "#get reach\n",
    "list_nevents = []\n",
    "for mass in masses:\n",
    "    couplings, _, nevents, _, _ = foresee.get_events_secondary_NOFPF(\n",
    "        mass=mass,\n",
    "        energy=energy,\n",
    "        couplings=np.logspace(-6, -2, num_of_couplings),\n",
    "        preselectioncuts=\"th<0.01\",\n",
    "        which_LLP=\"llp0\",\n",
    "        sign=\"scat_e\",  \n",
    "        coup_ref=1,\n",
    "        m1=0.0,\n",
    "        m3=mass,\n",
    "        Z=Z_TUNGSTEN,\n",
    "        A=A_TUNGSTEN,\n",
    "        RHO=RHO_TUNGSTEN,\n",
    "        sigma_secondary_LLP2_LLP3=sigma_gpe_ae_log,\n",
    "        sigma_secondary_LLP3_LLP2=sigma_ae_gpe_log,\n",
    "    )\n",
    "    list_nevents.append(nevents)\n",
    "np.save(\"model/results/\" + energy + \"TeV_\" + setup + \".npy\", [masses, couplings, list_nevents])"
   ]
  },
  {
   "cell_type": "markdown",
   "metadata": {},
   "source": [
    "### MATHUSLA"
   ]
  },
  {
   "cell_type": "markdown",
   "metadata": {},
   "source": [
    "- MATHUSLA setup with decay  $a \\to \\gamma^\\prime ee$"
   ]
  },
  {
   "cell_type": "code",
   "execution_count": null,
   "metadata": {},
   "outputs": [],
   "source": [
    "num_of_couplings_MATHUSLA = 41"
   ]
  },
  {
   "cell_type": "code",
   "execution_count": null,
   "metadata": {},
   "outputs": [],
   "source": [
    "luminosity = 3000\n",
    "setup, channels = \"MATHUSLA_gammaprimeee\", [\"BR_a_gammaprimeee\"]\n",
    "\n",
    "foresee.set_detector(\n",
    "    length=0.0, channels=channels, distance=0.0, luminosity=luminosity)  # for MATHUSLA, we need to modify the foresee code\n",
    "\n",
    "list_nevents = []\n",
    "for mass in masses_MATHUSLA[::2]:\n",
    "    couplings, _, nevents, _, _ = foresee.get_events(mass=mass, energy=energy, couplings=np.logspace(-4, -2, num_of_couplings_MATHUSLA), preselectioncuts=\"p>2\", detector=\"MATHUSLA\")\n",
    "    list_nevents.append(nevents)\n",
    "np.save(\"model/results/\" + energy + \"TeV_\" + setup + \".npy\", [masses_MATHUSLA[::2], couplings, list_nevents])"
   ]
  },
  {
   "cell_type": "code",
   "execution_count": null,
   "metadata": {},
   "outputs": [],
   "source": []
  },
  {
   "cell_type": "markdown",
   "metadata": {},
   "source": [
    "## 2'. FPF"
   ]
  },
  {
   "cell_type": "markdown",
   "metadata": {},
   "source": [
    "### Primary production"
   ]
  },
  {
   "cell_type": "markdown",
   "metadata": {},
   "source": [
    "- FASER2 - the nominal/default setup -  $a \\to \\gamma^\\prime \\gamma$ with $BR\\sim1$"
   ]
  },
  {
   "cell_type": "code",
   "execution_count": null,
   "metadata": {},
   "outputs": [],
   "source": [
    "luminosity, distance = 3000, 620\n",
    "setup, selection, channels, length = \"FPF_FASER2_gammagammaprime\", \"np.sqrt(x.x**2 + x.y**2)< 1.\", [ \"BR_a_gammagammaprime\" ], 25\n",
    "foresee.set_detector(length=length,\n",
    "                     selection=selection,\n",
    "                     channels=channels,\n",
    "                     distance=distance,\n",
    "                     luminosity=luminosity)\n",
    "\n",
    "#get reach\n",
    "list_nevents = []\n",
    "for mass in masses:\n",
    "    couplings, _, nevents, _, _ = foresee.get_events(mass=mass, energy=energy, couplings=np.logspace(-6, -2, num_of_couplings))\n",
    "    list_nevents.append(nevents)\n",
    "np.save(\"model/results/\" + energy + \"TeV_\" + setup + \".npy\", [masses, couplings, list_nevents])\n",
    "\n",
    "print([masses, couplings, list_nevents])"
   ]
  },
  {
   "cell_type": "markdown",
   "metadata": {},
   "source": [
    "- FASER2 setup with decay $a\\to \\gamma^\\prime ee$"
   ]
  },
  {
   "cell_type": "code",
   "execution_count": null,
   "metadata": {},
   "outputs": [],
   "source": [
    "num_of_couplings = 51"
   ]
  },
  {
   "cell_type": "code",
   "execution_count": null,
   "metadata": {},
   "outputs": [],
   "source": [
    "luminosity, distance = 3000, 620\n",
    "setup, selection, channels, length = \"FPF_FASER2_gprimeee\", \"np.sqrt(x.x**2 + x.y**2)< 1*480./480.\", [ \"BR_a_gammaprimeee\" ], 25\n",
    "foresee.set_detector(length=length,\n",
    "                     selection=selection,\n",
    "                     channels=channels,\n",
    "                     distance=distance,\n",
    "                     luminosity=luminosity)\n",
    "\n",
    "#get reach\n",
    "list_nevents = []\n",
    "for mass in masses:\n",
    "    couplings, _, nevents, _, _ = foresee.get_events(mass=mass, energy=energy, couplings=np.logspace( -5, -2, num_of_couplings))\n",
    "    list_nevents.append(nevents)\n",
    "np.save(\"model/results/\" + energy + \"TeV_\" + setup + \".npy\", [masses, couplings, list_nevents])"
   ]
  },
  {
   "cell_type": "markdown",
   "metadata": {},
   "source": [
    "- FASER $\\nu2$ setup with decay  $a \\to \\gamma^\\prime\\gamma$,  $E_{th}=1000 GeV$"
   ]
  },
  {
   "cell_type": "code",
   "execution_count": null,
   "metadata": {},
   "outputs": [],
   "source": [
    "\n",
    "luminosity, distance = 3000, 620 - 8  # L=8m\n",
    "setup, selection, channels, length = \"FPF_FASERnu2_gammagammaprime_1TeV\", \"np.sqrt(x.x**2 + x.y**2)< 0.2\", [ \"BR_a_gammagammaprime\" ], 8\n",
    "foresee.set_detector(length=length,\n",
    "                     selection=selection,\n",
    "                     channels=channels,\n",
    "                     distance=distance,\n",
    "                     luminosity=luminosity)\n",
    "\n",
    "#get reach\n",
    "list_nevents = []\n",
    "for mass in masses:\n",
    "    couplings, _, nevents, _, _ = foresee.get_events(\n",
    "        mass=mass,\n",
    "        energy=energy,\n",
    "        couplings=np.logspace(-6, -2, num_of_couplings),\n",
    "        preselectioncuts=\"th<0.01 and p>1000\")\n",
    "    list_nevents.append(nevents)\n",
    "\n",
    "#save results\n",
    "np.save(\"model/results/\" + energy + \"TeV_\" + setup + \".npy\", [masses, couplings, list_nevents])"
   ]
  },
  {
   "cell_type": "markdown",
   "metadata": {},
   "source": [
    "### Secondary Production"
   ]
  },
  {
   "cell_type": "markdown",
   "metadata": {},
   "source": [
    "- FASER2 - the nominal/default setup -  $a\\to \\gamma^\\prime\\gamma$ with $BR=1$"
   ]
  },
  {
   "cell_type": "code",
   "execution_count": null,
   "metadata": {},
   "outputs": [],
   "source": [
    "\n",
    "luminosity, distance = 3000, 620\n",
    "setup, selection, channels, length = \"FPF_FASER2_gammagammaprime_secondary\", \"np.sqrt(x.x**2 + x.y**2)< 1.\", [ \"BR_a_gammagammaprime\" ], 25\n",
    "foresee.set_detector(length=length,\n",
    "                     selection=selection,\n",
    "                     channels=channels,\n",
    "                     distance=distance,\n",
    "                     luminosity=luminosity)\n",
    "\n",
    "#get reach\n",
    "list_nevents = []\n",
    "for mass in masses:\n",
    "    couplings, _, nevents, _, _ = foresee.get_events_secondary_FPF(\n",
    "        mass=mass,\n",
    "        energy=energy,\n",
    "        couplings=np.logspace(-6, -2, num_of_couplings),\n",
    "        preselectioncuts=\"th<0.01 and p>100\",\n",
    "        which_LLP=\"llp0\",\n",
    "        sign=\"decay_F2\",  \n",
    "        coup_ref=1,        \n",
    "        m1=0.0,\n",
    "        m3=mass,\n",
    "        Z=Z_TUNGSTEN,\n",
    "        A=A_TUNGSTEN,\n",
    "        RHO=RHO_TUNGSTEN,\n",
    "        sigma_secondary_LLP2_LLP3=sigma_gpNucleus_aNucleus_analyt,\n",
    "        FLARE_upscat=False\n",
    "    )\n",
    "    list_nevents.append(nevents)\n",
    "np.save(\"model/results/\" + energy + \"TeV_\" + setup + \".npy\", [masses, couplings, list_nevents])"
   ]
  },
  {
   "cell_type": "markdown",
   "metadata": {},
   "source": [
    "- FASER2 - the nominal/default setup -  $\\gamma^\\prime\\to a \\gamma$ with $BR=1$ - with FLARE upscattering"
   ]
  },
  {
   "cell_type": "code",
   "execution_count": null,
   "metadata": {},
   "outputs": [],
   "source": [
    "luminosity, distance = 3000, 620\n",
    "setup, selection, channels, length = \"FPF_FASER2_gammagammaprime_secondary_with_FLARE\", \"np.sqrt(x.x**2 + x.y**2)< 1.\", [ \"BR_a_gammagammaprime\" ], 25\n",
    "foresee.set_detector(length=length,\n",
    "                     selection=selection,\n",
    "                     channels=channels,\n",
    "                     distance=distance,\n",
    "                     luminosity=luminosity)\n",
    "\n",
    "#get reach\n",
    "list_nevents = []\n",
    "for mass in masses:\n",
    "    couplings, _, nevents, _, _ = foresee.get_events_secondary_FPF(\n",
    "        mass=mass,\n",
    "        energy=energy,\n",
    "        couplings=np.logspace(-6, -2, num_of_couplings),\n",
    "        preselectioncuts=\"th<0.01 and p>100\",\n",
    "        which_LLP=\"llp0\",\n",
    "        sign=\"decay_F2\",  \n",
    "        coup_ref=1,        \n",
    "        m1=0.0,\n",
    "        m3=mass,\n",
    "        Z=Z_TUNGSTEN,\n",
    "        A=A_TUNGSTEN,\n",
    "        RHO=RHO_TUNGSTEN,\n",
    "        sigma_secondary_LLP2_LLP3=sigma_gpNucleus_aNucleus_analyt,\n",
    "        sigma_secondary_LLP3_LLP2_or_LLP2_LLP3_FLARE=sigma_gpNucleus_aNucleus_analyt,\n",
    "        FLARE_upscat=True\n",
    "    )\n",
    "    list_nevents.append(nevents)\n",
    "np.save(\"model/results/\" + energy + \"TeV_\" + setup + \".npy\", [masses, couplings, list_nevents])"
   ]
  },
  {
   "cell_type": "markdown",
   "metadata": {},
   "source": [
    "- FASER2 setup with decay $a \\to \\gamma^\\prime ee$"
   ]
  },
  {
   "cell_type": "code",
   "execution_count": null,
   "metadata": {},
   "outputs": [],
   "source": [
    "\n",
    "# luminosity, distance = 3000, 620\n",
    "# setup, selection, channels, length = \"FPF_FASER2_gprimeee_secondary\", \"np.sqrt(x.x**2 + x.y**2)< 1*480./480.\", [ \"BR_a_gammaprimeee\" ], 25\n",
    "# foresee.set_detector(length=length,\n",
    "#                      selection=selection,\n",
    "#                      channels=channels,\n",
    "#                      distance=distance,\n",
    "#                      luminosity=luminosity)\n",
    "\n",
    "# #get reach\n",
    "# list_nevents = []\n",
    "# for mass in masses:\n",
    "#     couplings, _, nevents, _, _ = foresee.get_events_secondary_FPF(\n",
    "#         mass=mass,\n",
    "#         energy=energy,\n",
    "#         couplings=np.logspace(-6, -2, num_of_couplings),\n",
    "#         preselectioncuts=\"th<0.01 and p>100\",\n",
    "#         which_LLP=\"llp0\",\n",
    "#         sign=\"decay_F2\",  \n",
    "#         coup_ref=1,        \n",
    "#         m1=0.0,\n",
    "#         m3=mass,\n",
    "#         Z=Z_TUNGSTEN,\n",
    "#         A=A_TUNGSTEN,\n",
    "#         RHO=RHO_TUNGSTEN,\n",
    "#         sigma_secondary_LLP2_LLP3=sigma_gpNucleus_aNucleus_analyt,\n",
    "#     )\n",
    "#     list_nevents.append(nevents)\n",
    "# np.save(\"model/results/\" + energy + \"TeV_\" + setup + \".npy\", [masses, couplings, list_nevents])"
   ]
  },
  {
   "cell_type": "markdown",
   "metadata": {},
   "source": [
    "- FASER $\\nu2$ setup with decay $a\\to \\gamma^\\prime\\gamma$"
   ]
  },
  {
   "cell_type": "code",
   "execution_count": null,
   "metadata": {},
   "outputs": [],
   "source": [
    "\n",
    "luminosity, distance = 3000, 610\n",
    "setup, selection, channels, length = \"FPF_FASERnu2_gammagammaprime_1TeV_secondary\", \"np.sqrt(x.x**2 + x.y**2)< 0.25\", [ \"BR_a_gammagammaprime\" ], 8\n",
    "foresee.set_detector(length=length,\n",
    "                     selection=selection,\n",
    "                     channels=channels,\n",
    "                     distance=distance,\n",
    "                     luminosity=luminosity)\n",
    "\n",
    "#get reach\n",
    "list_nevents = []\n",
    "for mass in masses:\n",
    "    couplings, _, nevents, _, _ = foresee.get_events_secondary_FPF(\n",
    "        mass=mass,\n",
    "        energy=energy,\n",
    "        couplings=np.logspace(-6, -2, num_of_couplings),\n",
    "        preselectioncuts=\"th<0.01 and p>1000\",\n",
    "        which_LLP=\"llp0\",\n",
    "        sign=\"decay_Fnu2\",  \n",
    "        coup_ref=1,\n",
    "        m1=0.0,\n",
    "        m3=mass,\n",
    "        Z=Z_TUNGSTEN,\n",
    "        A=A_TUNGSTEN,\n",
    "        RHO=RHO_TUNGSTEN,\n",
    "        sigma_secondary_LLP2_LLP3=sigma_gpNucleus_aNucleus_analyt,\n",
    "    )\n",
    "    list_nevents.append(nevents)\n",
    "np.save(\"model/results/\" + energy + \"TeV_\" + setup + \".npy\", [masses, couplings, list_nevents])"
   ]
  },
  {
   "attachments": {},
   "cell_type": "markdown",
   "metadata": {},
   "source": [
    "- FASER $\\nu2$ setup with scattering and decay outside F2"
   ]
  },
  {
   "cell_type": "code",
   "execution_count": null,
   "metadata": {},
   "outputs": [],
   "source": [
    "\n",
    "luminosity, distance = 3000, 610\n",
    "setup, selection, channels, length = \"FPF_FASERnu2_scat\", \"np.sqrt(x.x**2 + x.y**2)< 0.25\", [ \"BR_a_gammagammaprime\" ], 8\n",
    "foresee.set_detector(length=length,\n",
    "                     selection=selection,\n",
    "                     channels=channels,\n",
    "                     distance=distance,\n",
    "                     luminosity=luminosity)\n",
    "\n",
    "#get reach\n",
    "list_nevents = []\n",
    "for mass in masses:\n",
    "    couplings, _, nevents, _, _ = foresee.get_events_secondary_FPF(\n",
    "        mass=mass,\n",
    "        energy=energy,\n",
    "        couplings=np.logspace(-6, -2, num_of_couplings),\n",
    "        preselectioncuts=\"th<0.01\",\n",
    "        which_LLP=\"llp0\",\n",
    "        sign=\"scat_e\",  \n",
    "        coup_ref=1,\n",
    "        m1=0.0,\n",
    "        m3=mass,\n",
    "        Z=Z_TUNGSTEN,\n",
    "        A=A_TUNGSTEN,\n",
    "        RHO=RHO_TUNGSTEN,\n",
    "        sigma_secondary_LLP2_LLP3=sigma_gpe_ae_log,\n",
    "        sigma_secondary_LLP3_LLP2_or_LLP2_LLP3_FLARE=sigma_ae_gpe_log,\n",
    "    )\n",
    "    list_nevents.append(nevents)\n",
    "np.save(\"model/results/\" + energy + \"TeV_\" + setup + \".npy\", [masses, couplings, list_nevents])"
   ]
  },
  {
   "cell_type": "markdown",
   "metadata": {},
   "source": [
    "- FLARE - e scattering"
   ]
  },
  {
   "cell_type": "code",
   "execution_count": null,
   "metadata": {},
   "outputs": [],
   "source": [
    "\n",
    "luminosity, distance = 3000, 600\n",
    "setup, selection, channels, length = \"FPF_FLARE_scat\", \"np.sqrt(x.x**2 + x.y**2)< 0.5\", [ \"BR_a_gammagammaprime\" ], 7\n",
    "foresee.set_detector(length=length,\n",
    "                     selection=selection,\n",
    "                     channels=channels,\n",
    "                     distance=distance,\n",
    "                     luminosity=luminosity)\n",
    "\n",
    "#get reach\n",
    "list_nevents = []\n",
    "for mass in masses:\n",
    "    couplings, _, nevents, _, _ = foresee.get_events_secondary_FPF(\n",
    "        mass=mass,\n",
    "        energy=energy,\n",
    "        couplings=np.logspace(-6, -2, num_of_couplings),\n",
    "        preselectioncuts=\"th<0.01\",\n",
    "        which_LLP=\"llp0\",\n",
    "        sign=\"scat_FLARE\",  \n",
    "        coup_ref=1,\n",
    "        m1=0.0,\n",
    "        m3=mass,\n",
    "        Z=Z_LAr,\n",
    "        A=A_LAr,\n",
    "        RHO=RHO_LAr,\n",
    "        sigma_secondary_LLP2_LLP3=sigma_gpe_ae_log,\n",
    "        sigma_secondary_LLP3_LLP2_or_LLP2_LLP3_FLARE=sigma_ae_gpe_log,\n",
    "    )\n",
    "    list_nevents.append(nevents)\n",
    "np.save(\"model/results/\" + energy + \"TeV_\" + setup + \".npy\", [masses, couplings, list_nevents])"
   ]
  },
  {
   "cell_type": "code",
   "execution_count": null,
   "metadata": {},
   "outputs": [],
   "source": []
  },
  {
   "cell_type": "markdown",
   "metadata": {},
   "source": [
    "## 3. Plot the Results"
   ]
  },
  {
   "cell_type": "code",
   "execution_count": null,
   "metadata": {},
   "outputs": [],
   "source": [
    "setups = [\n",
    "    [ \"14TeV_FASER2_gammagammaprime.npy\", \"FASER2 ($E_{\\gamma\\gamma^\\prime}> 0.1$ TeV)\", \"black\", \"solid\", 0., 3 ],\n",
    "    [ \"14TeV_FASER2_gprimeee.npy\", \"FASER2 ($E_{\\gamma^\\prime e^+e^-}> 0.1$ TeV)\", \"red\", \"solid\", 0., 3 ],\n",
    "    [ \"14TeV_FASERnu2_gammagammaprime_1TeV.npy\", r\"FASER$\\nu2$ ($E_{\\gamma\\gamma^\\prime}> 1$ TeV)\", \"black\", \"dotted\", 0., 3 ],\n",
    "\n",
    "    [ \"14TeV_FASER2_gammagammaprime_secondary.npy\", \"FASER2 (sec., $E_{\\gamma \\gamma^\\prime}> 0.1$ TeV)\", \"black\", \"dashed\", 0., 3 ],\n",
    "    [ \"14TeV_FASERnu2_gammagammaprime_1TeV_secondary.npy\", r\"FASER$\\nu2$ (sec., $E_{\\gamma \\gamma^\\prime}> 1$ TeV)\", \"black\", \"dashdot\", 0., 3 ],\n",
    "\n",
    "    [ \"14TeV_FASERnu2_scat.npy\", r\"FASER$\\nu2$ ($e^-$ scat., decay outside)\", \"gold\", \"solid\", 0., 3 ],\n",
    "\n",
    "    [ \"14TeV_MATHUSLA_gammaprimeee.npy\", r\"MATHUSLA ($E_{\\gamma^\\prime e^+ e^-}> 2$ GeV)\", \"brown\", \"solid\", 0., 3],\n",
    "\n",
    "    [ \"0.4TeV_SHiP_gammagammaprime.npy\", r\"SHiP ($E_{\\gamma \\gamma^\\prime}> 2$ GeV)\", \"darkgreen\", \"dashed\", 0., 100 * 2 ],\n",
    "]"
   ]
  },
  {
   "cell_type": "code",
   "execution_count": null,
   "metadata": {},
   "outputs": [],
   "source": [
    "bounds = [\n",
    "    [\"Heavy_axion_BaBar.txt\", \"BaBar\", 0.55, 2.45 * 10**-3, 0],\n",
    "    [\"0.069TeV_NuCal_gammagammaprime.npy.txt\", \"NuCal\", 0.012, 4e-1 * 10**-4, -25],\n",
    "    [\"0.4TeV_CHARM_gammagammaprime.npy.txt\", \"CHARM\", 0.012, 6.2e-1 * 10**-4, -25],\n",
    "]"
   ]
  },
  {
   "cell_type": "code",
   "execution_count": null,
   "metadata": {},
   "outputs": [],
   "source": [
    "projections = [\n",
    "    [ \"Heavy_axion_Belle_2_50fb_inverse.txt\", \"blue\", \"Belle2\", 0.55, 9e-5, 0 ],\n",
    "]"
   ]
  },
  {
   "cell_type": "code",
   "execution_count": null,
   "metadata": {},
   "outputs": [],
   "source": [
    "plot, ax, ax2 = foresee.plot_reach(\n",
    "    setups=setups,\n",
    "    bounds=bounds,\n",
    "    projections=projections,\n",
    "    xlims=[0.001, 1],\n",
    "    ylims=[5*10**-7, 10**-2],\n",
    "    xlabel=r\"$m_{a}$ [GeV]\",\n",
    "    ylabel=r\"$g_{a\\gamma\\gamma^\\prime}$ [1/GeV]\",\n",
    "    legendloc=(1.00, 0.28),\n",
    "    branchings=branchings,\n",
    "    figsize=(8, 8),\n",
    "    save_file=True,\n",
    ")\n",
    "\n",
    "ax.text(0.020, 2.0 * 10**-6, \"SN1987\", alpha=0.3, color='blue', fontsize=12)\n",
    "low = np.loadtxt(\"model/lines/Heavy_axion_Supernova_Emission_low.txt\")\n",
    "high = np.loadtxt(\"model/lines/Heavy_axion_Supernova_Emission_high.txt\")\n",
    "x = np.geomspace(0.001, 1, num_of_couplings)\n",
    "y = np.interp(x, high[:, 0], high[:, 1])\n",
    "z = np.interp(x, low[:, 0], low[:, 1])\n",
    "ax.fill_between(x, y, z, where=y >= z, alpha=0.05, color='blue', interpolate=True, lw=1, zorder=-num_of_couplings)\n",
    "\n",
    "\n",
    "ax.legend(frameon=1, loc='lower center', ncol=2, fontsize=12)\n",
    "plt.subplots_adjust(left=0.11, right=0.95, bottom=0.09, top=0.97)\n",
    "\n",
    "plot.savefig(\"./output/Dark_ALP_massless_gprime_noFPF.pdf\")\n",
    "plot.show()"
   ]
  },
  {
   "cell_type": "markdown",
   "metadata": {},
   "source": [
    "## 3'. Plot the Results"
   ]
  },
  {
   "cell_type": "code",
   "execution_count": null,
   "metadata": {},
   "outputs": [],
   "source": [
    "setups = [\n",
    "    [ \"14TeV_FPF_FASER2_gammagammaprime.npy\", \"FPF FASER2 ($E_{\\gamma\\gamma^\\prime}> 0.1$ TeV)\", \"black\", \"solid\", 0., 3 ],\n",
    "    [ \"14TeV_FPF_FASER2_gprimeee.npy\", \"FPF FASER2 ($E_{\\gamma^\\prime e^+e^-}> 0.1$ TeV)\", \"red\", \"solid\", 0., 3 ],\n",
    "    \n",
    "    [ \"14TeV_FPF_FASERnu2_gammagammaprime_1TeV.npy\", r\"FPF FASER$\\nu2$ ($E_{\\gamma\\gamma^\\prime}> 1$ TeV)\", \"black\", \"dotted\", 0., 3 ],\n",
    "\n",
    "\n",
    "    [ \"14TeV_FPF_FASER2_gammagammaprime_secondary.npy\", \"FPF FASER2 (sec., $E_{\\gamma \\gamma^\\prime}> 0.1$ TeV)\", \"black\", \"dashed\", 0., 3 ],\n",
    "    [ \"14TeV_FPF_FASERnu2_gammagammaprime_1TeV_secondary.npy\", r\"FPF FASER$\\nu2$ (sec., $E_{\\gamma \\gamma^\\prime}> 1$ TeV)\", \"black\", \"dashdot\", 0., 3 ],\n",
    "\n",
    "    [ \"14TeV_FPF_FASERnu2_scat.npy\", r\"FPF FASER$\\nu2$ ($e^-$ scat., dec. out.)\", \"gold\", \"solid\", 0., 20 ],\n",
    "    [ \"14TeV_FPF_FLARE_scat.npy\", r\"FPF FLArE ($e^-$ scat., decay outside)\", \"gold\", \"dotted\", 0., 20],\n",
    "\n",
    "    [ \"0.4TeV_SHiP_gammagammaprime.npy\", r\"SHiP ($E_{\\gamma \\gamma^\\prime}> 2$ GeV)\", \"darkgreen\", \"dashed\", 0., 100 * 2],\n",
    "]"
   ]
  },
  {
   "cell_type": "code",
   "execution_count": null,
   "metadata": {},
   "outputs": [],
   "source": [
    "bounds = [\n",
    "    [\"Heavy_axion_BaBar.txt\", \"BaBar\", 0.8, 2.45 * 10**-3, 0],\n",
    "    [\"0.069TeV_NuCal_gammagammaprime.npy.txt\", \"NuCal\", 0.012, 4e-1 * 10**-4, -25],\n",
    "    [\"0.4TeV_CHARM_gammagammaprime.npy.txt\", \"CHARM\", 0.012, 6.2e-1 * 10**-4, -25],\n",
    "]"
   ]
  },
  {
   "cell_type": "code",
   "execution_count": null,
   "metadata": {},
   "outputs": [],
   "source": [
    "projections = [\n",
    "    [ \"Heavy_axion_Belle_2_50fb_inverse.txt\", \"blue\", \"Belle2\", 0.8, 9e-5, 0 ],\n",
    "]"
   ]
  },
  {
   "cell_type": "code",
   "execution_count": null,
   "metadata": {},
   "outputs": [],
   "source": [
    "plot, ax, ax2 = foresee.plot_reach(\n",
    "    setups=setups,\n",
    "    bounds=bounds,\n",
    "    projections=projections,\n",
    "    xlims=[0.001, 1.55],\n",
    "    ylims=[5*10**-7, 10**-2],\n",
    "    xlabel=r\"$m_{a}$ [GeV]\",\n",
    "    ylabel=r\"$g_{a\\gamma\\gamma^\\prime}$ [1/GeV]\",\n",
    "    legendloc=(1.00, 0.70),\n",
    "    branchings=branchings,\n",
    "    figsize=(8, 8),\n",
    ")\n",
    "\n",
    "ax.text(0.020, 2.0 * 10**-6, \"SN1987\", alpha=0.3, color='blue', fontsize=12)\n",
    "low = np.loadtxt(\"model/lines/Heavy_axion_Supernova_Emission_low.txt\")\n",
    "high = np.loadtxt(\"model/lines/Heavy_axion_Supernova_Emission_high.txt\")\n",
    "x = np.geomspace(0.001, 1, num_of_couplings)\n",
    "y = np.interp(x, high[:, 0], high[:, 1])\n",
    "z = np.interp(x, low[:, 0], low[:, 1])\n",
    "ax.fill_between(x, y, z, where=y >= z, alpha=0.05, color='blue', interpolate=True, lw=1, zorder=-num_of_couplings)\n",
    "\n",
    "ax.legend(frameon=1, loc='lower center', ncol=2, fontsize=12)\n",
    "plt.subplots_adjust(left=0.11, right=0.95, bottom=0.09, top=0.97)\n",
    "\n",
    "plot.savefig(\"./output/Dark_ALP_massless_gprime_FPF.pdf\")\n",
    "plot.show()"
   ]
  },
  {
   "cell_type": "code",
   "execution_count": null,
   "metadata": {},
   "outputs": [],
   "source": []
  }
 ],
 "metadata": {
  "kernelspec": {
   "display_name": "Python 3.9.12 ('base')",
   "language": "python",
   "name": "python3"
  },
  "language_info": {
   "codemirror_mode": {
    "name": "ipython",
    "version": 3
   },
   "file_extension": ".py",
   "mimetype": "text/x-python",
   "name": "python",
   "nbconvert_exporter": "python",
   "pygments_lexer": "ipython3",
   "version": "3.9.12"
  },
  "toc": {
   "base_numbering": 1,
   "nav_menu": {
    "height": "734px",
    "width": "465px"
   },
   "number_sections": true,
   "sideBar": true,
   "skip_h1_title": false,
   "title_cell": "Table of Contents",
   "title_sidebar": "Contents",
   "toc_cell": false,
   "toc_position": {},
   "toc_section_display": true,
   "toc_window_display": false
  },
  "vscode": {
   "interpreter": {
    "hash": "3067ead486e059ec00ffe7555bdb889e6e264a24dc711bf108106cc7baee8d5d"
   }
  }
 },
 "nbformat": 4,
 "nbformat_minor": 2
}
