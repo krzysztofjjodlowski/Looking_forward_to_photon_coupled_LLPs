{
    "cells": [
        {
            "cell_type": "markdown",
            "metadata": {},
            "source": [
                "# FORESEE - Massless dark ALP with photon-dark photon coupling"
            ]
        },
        {
            "cell_type": "markdown",
            "metadata": {},
            "source": [
                "### Load Libraries "
            ]
        },
        {
            "cell_type": "code",
            "execution_count": null,
            "metadata": {},
            "outputs": [],
            "source": [
                "import numpy as np\n",
                "import sys\n",
                "import os\n",
                "\n",
                "src_path = \"../../src\"\n",
                "sys.path.append(src_path)\n",
                "from foresee import Foresee, Utility, Model\n",
                "\n",
                "from main import sigma_gpNucleus_aNucleus_analyt, sigma_aNucleus_gpNucleus_analyt, sigma_ae_gpe_analyt, sigma_gpe_ae_analyt\n",
                "from constants import *\n",
                "\n",
                "from matplotlib import pyplot as plt\n",
                "import matplotlib.tri as tri\n",
                "\n",
                "plt.rc('text', usetex=True)\n",
                "plt.rcParams['figure.dpi'] = 400\n",
                "\n",
                "plt.rcParams['text.latex.preamble'] = [r\"\\usepackage{amsmath}\"]\n",
                "plt.rcParams['text.latex.preamble'] = [r\"\\usepackage{amssymb}\"]\n",
                "plt.rcParams['text.latex.preamble'] = [r\"\\usepackage{siunitx}\"]\n",
                "font = {'family': 'serif', 'serif': ['computer modern roman']}\n",
                "\n",
                "plt.rc('font', **font)\n",
                "\n",
                "SMALL_SIZE = 10\n",
                "MEDIUM_SIZE = 14\n",
                "BIGGER_SIZE = 16\n",
                "\n",
                "plt.rc('font', size=MEDIUM_SIZE)  # controls default text sizes\n",
                "plt.rc('axes', titlesize=MEDIUM_SIZE)  # fontsize of the axes title\n",
                "plt.rc('axes', labelsize=MEDIUM_SIZE)  # fontsize of the x and y labels\n",
                "plt.rc('xtick', labelsize=SMALL_SIZE)  # fontsize of the tick labels\n",
                "plt.rc('ytick', labelsize=SMALL_SIZE)  # fontsize of the tick labels\n",
                "plt.rc('legend', fontsize=SMALL_SIZE)  # legend fontsize\n",
                "plt.rc('figure', titlesize=BIGGER_SIZE)  # fontsize of the figure title"
            ]
        },
        {
            "cell_type": "markdown",
            "metadata": {},
            "source": [
                "## 1. Initialization "
            ]
        },
        {
            "cell_type": "code",
            "execution_count": null,
            "metadata": {},
            "outputs": [],
            "source": [
                "foresee = Foresee()"
            ]
        },
        {
            "cell_type": "code",
            "execution_count": null,
            "metadata": {},
            "outputs": [],
            "source": [
                "energy = \"0.069\"\n",
                "modelname = \"Dark_ALP_massless_a\"\n",
                "model = Model(modelname)\n",
                "\n",
                "nsample = 100\n",
                "\n",
                "num_of_masses = 21\n",
                "masses = np.logspace(-3, np.log10(0.2), num_of_masses)\n",
                "\n",
                "num_of_couplings = 31"
            ]
        },
        {
            "attachments": {},
            "cell_type": "markdown",
            "metadata": {},
            "source": [
                "### Generate LLP spectum"
            ]
        },
        {
            "cell_type": "code",
            "execution_count": null,
            "metadata": {},
            "outputs": [],
            "source": [
                "model.add_production_3bodydecay(\n",
                "    pid0=\"111\", # pi0, m_pi0=0.135, br=0.98823\n",
                "    pid1=\"22\",  # photon\n",
                "    pid2=\"22\",  # a - we put m_a=0; mass(pid3) = mass = m_gprime\n",
                "    br=\"1.7e18*0.98823 * coupling**2 / 256. / 3.1415**2 / q**6 / 0.135**6 * (0.135**2-q**2)**3 * (np.cos(2*th)+3) * (-2*mass**2*q**2 + mass**4 + q**4)**1.5\",\n",
                "    generator=\"Pythia\",\n",
                "    energy=energy,\n",
                "    nsample=nsample,\n",
                ")\n",
                "\n",
                "model.add_production_3bodydecay(\n",
                "    pid0=\"221\", # eta, m_eta=0.547, br=0.3931\n",
                "    pid1=\"22\",\n",
                "    pid2=\"22\",\n",
                "    br=\"1.7e18*0.3931 * coupling**2 / 256. / 3.1415**2 / q**6 / 0.547**6 * (0.547**2-q**2)**3 * (np.cos(2*th)+3) * (-2*mass**2*q**2 + mass**4 + q**4)**1.5\",\n",
                "    generator=\"Pythia\",\n",
                "    energy=energy,\n",
                "    nsample=nsample,\n",
                ")\n",
                "\n",
                "model.add_production_3bodydecay(\n",
                "    pid0=\"331\", # etaprime, m_etaprime=0.957, br=0.222\n",
                "    pid1=\"22\",\n",
                "    pid2=\"22\",\n",
                "    br=\"1.7e18*0.222 * coupling**2 / 256. / 3.1415**2 / q**6 / 0.957**6 * (0.957**2-q**2)**3 * (np.cos(2*th)+3) * (-2*mass**2*q**2 + mass**4 + q**4)**1.5\",\n",
                "    generator=\"Pythia\",\n",
                "    energy=energy,\n",
                "    nsample=nsample,\n",
                ")"
            ]
        },
        {
            "cell_type": "code",
            "execution_count": null,
            "metadata": {},
            "outputs": [],
            "source": [
                "# V(p0) -> a(p1) + gprime(p2)\n",
                "# p1**2 = m1**2 = m_a**2\n",
                "# p2**2 = m2**2 = m_gprime**2\n",
                "\n",
                "model.add_production_2bodydecay(\n",
                "    pid0 = \"113\", # rho\n",
                "    pid1 = \"0\",   # pid1 = 0 means mass_pid1 = m1 = mass_llp0;   mass_pid2 = m2 = mass = mass_llp1\n",
                "    br=\"1.7e18*4.72e-5 * coupling**2 * (1 * (m0 - m1 - m2)*(m0 + m1 - m2)*(m0 - m1 + m2)* (m0 + m1 + m2)*np.sqrt(-4*m1**2*m2**2 + (-m0**2 + m1**2 + m2**2)**2)) / (32.* ALPHAEM * m0 * np.sqrt(m0**2 - 4*M_ELECTRON**2) * (m0**2 + 2*M_ELECTRON**2) * np.pi)\",\n",
                "    generator=\"Pythia\",\n",
                "    energy = energy,\n",
                "    nsample = nsample,\n",
                ")\n",
                "\n",
                "model.add_production_2bodydecay(\n",
                "   pid0 = \"223\", # omega\n",
                "   pid1 = \"0\",\n",
                "   br=\"1.7e18*7.38e-5 * coupling**2 * (1 * (m0 - m1 - m2)*(m0 + m1 - m2)*(m0 - m1 + m2)* (m0 + m1 + m2)*np.sqrt(-4*m1**2*m2**2 + (-m0**2 + m1**2 + m2**2)**2)) / (32.* ALPHAEM * m0 * np.sqrt(m0**2 - 4*M_ELECTRON**2) * (m0**2 + 2*M_ELECTRON**2) * np.pi)\",\n",
                "   generator=\"Pythia\",\n",
                "   energy = energy,\n",
                "   nsample = nsample,\n",
                ")\n",
                "\n",
                "model.add_production_2bodydecay(\n",
                "   pid0 = \"333\", # phi\n",
                "   pid1 = \"0\",\n",
                "   br=\"1.7e18*2.98e-4 * coupling**2 * (1 * (m0 - m1 - m2)*(m0 + m1 - m2)*(m0 - m1 + m2)* (m0 + m1 + m2)*np.sqrt(-4*m1**2*m2**2 + (-m0**2 + m1**2 + m2**2)**2)) / (32.* ALPHAEM * m0 * np.sqrt(m0**2 - 4*M_ELECTRON**2) * (m0**2 + 2*M_ELECTRON**2) * np.pi)\",\n",
                "   generator=\"Pythia\",\n",
                "   energy = energy,\n",
                "   nsample = nsample,\n",
                ")\n",
                "\n",
                "model.add_production_2bodydecay(\n",
                "    pid0 = \"443\", # J/ψ\n",
                "    pid1 = \"0\",\n",
                "    br=\"1.7e18*0.0597 * coupling**2 * (1 * (m0 - m1 - m2)*(m0 + m1 - m2)*(m0 - m1 + m2)* (m0 + m1 + m2)*np.sqrt(-4*m1**2*m2**2 + (-m0**2 + m1**2 + m2**2)**2)) / (32.* ALPHAEM * m0 * np.sqrt(m0**2 - 4*M_ELECTRON**2) * (m0**2 + 2*M_ELECTRON**2) * np.pi)\",\n",
                "    generator=\"Pythia\",\n",
                "    energy = energy,\n",
                "    nsample = nsample,\n",
                ")"
            ]
        },
        {
            "cell_type": "code",
            "execution_count": null,
            "metadata": {},
            "outputs": [],
            "source": [
                "model.set_ctau_1d(filename=\"model/ctau_gprime.txt\", coupling_ref=1)\n",
                "\n",
                "branchings = [\n",
                "    [ \"BR_gammaprime_agamma\", \"black\", \"solid\", r\"$a\\gamma^\\prime$\", 0.110, 0.30 ],\n",
                "    [ \"BR_gammaprime_aee\", \"red\", \"solid\", r\"$a e^+ e^-$\", 0.110, 0.016],\n",
                "]\n",
                "\n",
                "model.set_br_1d(\n",
                "    modes=[channel for channel, _, _, _, _, _ in branchings],\n",
                "    filenames=[ \"model/br/\" + channel + \".txt\" for channel, _, _, _, _, _ in branchings ],\n",
                ")\n",
                "\n",
                "foresee.set_model(model=model)"
            ]
        },
        {
            "cell_type": "code",
            "execution_count": null,
            "metadata": {},
            "outputs": [],
            "source": [
                "# %matplotlib inline\n",
                "\n",
                "# mass_llp0 = 0.0 # m_a\n",
                "# mass_llp1 = 0.1 # m_gprime\n",
                "\n",
                "# plt_1, plt_2 = foresee.get_llp_spectrum(mass=mass_llp1, mass_llp0=mass_llp0, coupling=1e-4, do_plot=True, save_file=False, detector=\"NuCal\")\n",
                "# plt_1.savefig(\"./output/test_LLP_spect_plt_1_NuCal.pdf\")\n",
                "# plt_2.savefig(\"./output/test_LLP_spect_plt_2_NuCal.pdf\")\n",
                "\n",
                "# plt_1.show()\n",
                "# plt_2.show()\n"
            ]
        },
        {
            "cell_type": "code",
            "execution_count": null,
            "metadata": {},
            "outputs": [],
            "source": [
                "# from timeit import default_timer as timer\n",
                "\n",
                "# for count, mass in enumerate(masses):\n",
                "#     mass_llp0 = 0.0    # m_a\n",
                "#     mass_llp1 = mass   # m_gprime\n",
                "\n",
                "#     start = timer()\n",
                "    \n",
                "#     foresee.get_llp_spectrum(mass=mass_llp1, mass_llp0=mass_llp0, coupling=1, detector=\"NuCal\", stat_cuts_llp0=\"p_llp0.e>1.0\", stat_cuts_llp1=\"p_llp1.e>1.0\")\n",
                "\n",
                "#     end = timer()\n",
                "#     time_length_sec = end - start\n",
                "\n",
                "#     count += 1\n",
                "#     time_length_sec_total = time_length_sec * num_of_masses\n",
                "#     print(\"%.2f%% done, \" % float(count / num_of_masses * 100), \"approx. total run time : %.1f m, \" % float(time_length_sec_total / 60), \"approx. waiting time: %.1f m\" % float(time_length_sec_total * (1 - count / num_of_masses) / 60))"
            ]
        },
        {
            "cell_type": "code",
            "execution_count": null,
            "metadata": {},
            "outputs": [],
            "source": [
                "# productions = [\n",
                "#     # [\"111\"    , None      , \"firebrick\"   , r\"$\\pi$\"         ],   \n",
                "#     # [\"221\"    , None      , \"red\"         , r\"$\\eta$\"        ],   \n",
                "#     # [\"331\"    , None , \"salmon\"      , r\"$\\eta'$\"       ],  \n",
                "#     [\"113\"    , None , \"dodgerblue\", r\"$\\rho$\", '-'],   \n",
                "#     [\"223\"    , None , \"blue\", r\"$\\omega$\" , '-'],   \n",
                "#     [\"333\"    , None , \"deepskyblue\", r\"$\\phi$\", '-'],  \n",
                "#     [\"443\"    , None  , \"gold\", r\"$J/\\psi$\" ,'-'],   \n",
                "#     # [\"100443\" , None  , \"orange\"      , r\"$\\psi(2S)$\"    ],  \n",
                "#     # [\"553\"    , None  , \"green\"       , r\"$\\Upsilon(1S)$\"],   \n",
                "#     # [\"100553\" , None  , \"limegreen\"   , r\"$\\Upsilon(2S)$\"],  \n",
                "#     # [\"200553\" , None  , \"lime\"        , r\"$\\Upsilon(3S)$\"],  \n",
                "# ]\n",
                "\n",
                "# plot = foresee.plot_production(\n",
                "#     masses = masses, \n",
                "#     productions = productions,\n",
                "#     condition=\"True\", \n",
                "#     xlims=[0.001,1],\n",
                "#     ylims=[10**8,10**16], \n",
                "#     xlabel=r\"Mass [GeV]\", \n",
                "#     ylabel=r\"Production Rate $\\sigma/\\epsilon^2$ [pb]\",\n",
                "#     legendloc=(1.02,1.02),\n",
                "#     fs_label=12,\n",
                "#     energy=energy,\n",
                "#     detector=\"NuCal\",\n",
                "# )\n",
                "\n",
                "# plot.subplots_adjust(left=0.11, right=0.95, bottom=0.12, top=0.97)\n",
                "# plot.savefig(\"output/Production_channels_NuCal.pdf\")\n",
                "# plot.show()"
            ]
        },
        {
            "attachments": {},
            "cell_type": "markdown",
            "metadata": {},
            "source": [
                "### NuCal"
            ]
        },
        {
            "cell_type": "code",
            "execution_count": null,
            "metadata": {},
            "outputs": [],
            "source": [
                "num_of_couplings = 99\n",
                "\n",
                "#specify setup\n",
                "luminosity, distance = 1/1000, 64\n",
                "setup, selection, channels, length = \"NuCal_agamma\", \"np.sqrt(x.x**2 + x.y**2)< 1.\", [ \"BR_gammaprime_agamma\" ], 23\n",
                "foresee.set_detector(length=length,\n",
                "                     selection=selection,\n",
                "                     channels=channels,\n",
                "                     distance=distance,\n",
                "                     luminosity=luminosity)\n",
                "\n",
                "list_nevents = []\n",
                "for mass in masses:\n",
                "    couplings, _, nevents, _, _ = foresee.get_events(mass=mass, energy=energy, couplings=np.logspace(-7, -2, num_of_couplings), detector=\"NuCal\", preselectioncuts=\"p>10\")\n",
                "    list_nevents.append(nevents)\n",
                "np.save(\"model/results/\" + energy + \"TeV_\" + setup + \".npy\", [masses, couplings, list_nevents])"
            ]
        },
        {
            "cell_type": "code",
            "execution_count": null,
            "metadata": {},
            "outputs": [],
            "source": []
        },
        {
            "cell_type": "code",
            "execution_count": null,
            "metadata": {},
            "outputs": [],
            "source": []
        }
    ],
    "metadata": {
        "kernelspec": {
            "display_name": "Python 3.9.12 ('base')",
            "language": "python",
            "name": "python3"
        },
        "language_info": {
            "codemirror_mode": {
                "name": "ipython",
                "version": 3
            },
            "file_extension": ".py",
            "mimetype": "text/x-python",
            "name": "python",
            "nbconvert_exporter": "python",
            "pygments_lexer": "ipython3",
            "version": "3.9.12"
        },
        "toc": {
            "base_numbering": 1,
            "nav_menu": {
                "height": "734px",
                "width": "465px"
            },
            "number_sections": true,
            "sideBar": true,
            "skip_h1_title": false,
            "title_cell": "Table of Contents",
            "title_sidebar": "Contents",
            "toc_cell": false,
            "toc_position": {},
            "toc_section_display": true,
            "toc_window_display": false
        },
        "vscode": {
            "interpreter": {
                "hash": "3067ead486e059ec00ffe7555bdb889e6e264a24dc711bf108106cc7baee8d5d"
            }
        }
    },
    "nbformat": 4,
    "nbformat_minor": 2
}
