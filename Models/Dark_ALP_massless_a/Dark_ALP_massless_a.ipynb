{
    "cells": [
        {
            "cell_type": "markdown",
            "metadata": {},
            "source": [
                "# FORESEE - Massless dark ALP with photon-dark photon coupling"
            ]
        },
        {
            "cell_type": "markdown",
            "metadata": {},
            "source": [
                "### Load Libraries "
            ]
        },
        {
            "cell_type": "code",
            "execution_count": null,
            "metadata": {},
            "outputs": [],
            "source": [
                "import numpy as np\n",
                "import sys\n",
                "import os\n",
                "\n",
                "src_path = \"../../src\"\n",
                "sys.path.append(src_path)\n",
                "from foresee import Foresee, Utility, Model\n",
                "\n",
                "from main import sigma_gpNucleus_aNucleus_analyt, sigma_aNucleus_gpNucleus_analyt, sigma_ae_gpe_log, sigma_gpe_ae_log\n",
                "from constants import *\n",
                "\n",
                "from timeit import default_timer as timer\n",
                "\n",
                "from matplotlib import pyplot as plt\n",
                "import matplotlib.tri as tri\n",
                "\n",
                "plt.rc('text', usetex=True)\n",
                "plt.rcParams['figure.dpi'] = 400\n",
                "\n",
                "plt.rcParams['text.latex.preamble'] = [r\"\\usepackage{amsmath}\"]\n",
                "plt.rcParams['text.latex.preamble'] = [r\"\\usepackage{amssymb}\"]\n",
                "plt.rcParams['text.latex.preamble'] = [r\"\\usepackage{siunitx}\"]\n",
                "font = {'family': 'serif', 'serif': ['computer modern roman']}\n",
                "\n",
                "plt.rc('font', **font)\n",
                "\n",
                "SMALL_SIZE = 14\n",
                "MEDIUM_SIZE = 18\n",
                "BIGGER_SIZE = 20\n",
                "\n",
                "plt.rc('font', size=MEDIUM_SIZE)  # controls default text sizes\n",
                "plt.rc('axes', titlesize=BIGGER_SIZE)  # fontsize of the axes title\n",
                "plt.rc('axes', labelsize=BIGGER_SIZE)  # fontsize of the x and y labels\n",
                "plt.rc('xtick', labelsize=SMALL_SIZE)  # fontsize of the tick labels\n",
                "plt.rc('ytick', labelsize=SMALL_SIZE)  # fontsize of the tick labels\n",
                "plt.rc('legend', fontsize=SMALL_SIZE)  # legend fontsize\n",
                "plt.rc('figure', titlesize=BIGGER_SIZE)  # fontsize of the figure title"
            ]
        },
        {
            "cell_type": "markdown",
            "metadata": {},
            "source": [
                "## 1. Initialization "
            ]
        },
        {
            "cell_type": "code",
            "execution_count": null,
            "metadata": {},
            "outputs": [],
            "source": [
                "foresee = Foresee()\n",
                "\n",
                "energy = \"14\"\n",
                "modelname = \"Dark_ALP_massless_a\"\n",
                "model = Model(modelname)\n",
                "\n",
                "nsample = 250\n",
                "\n",
                "num_of_masses = 22\n",
                "num_of_masses_MATHUSLA = 22\n",
                "masses = np.logspace(-3, 0.5, num_of_masses)\n",
                "masses_MATHUSLA = np.logspace(-3, np.log10(0.030), num_of_masses_MATHUSLA)\n",
                "\n",
                "num_of_couplings = 31\n",
                "num_of_couplings_MATHUSLA = 21"
            ]
        },
        {
            "attachments": {},
            "cell_type": "markdown",
            "metadata": {},
            "source": [
                "### Generate LLP spectum"
            ]
        },
        {
            "attachments": {},
            "cell_type": "markdown",
            "metadata": {},
            "source": [
                "#### Mesons decays are the main production channel for dark axion-dark photon portal"
            ]
        },
        {
            "attachments": {},
            "cell_type": "markdown",
            "metadata": {},
            "source": [
                "The $a$, $\\gamma^\\prime$ can be produced in 3-body decays of pseudoscalar mesons $M \\to \\gamma \\gamma^\\prime$ via an offshell photon. \n",
                "<!-- For massive $a$ and $\\gamma'$: -->\n",
                "Pseudoscalar-meson decays:\n",
                "\\begin{equation}\n",
                "\\frac{d\\text{BR}(M \\!\\to\\! \\gamma'a\\gamma)}{dq^2 \\, d\\!\\cos\\theta}\n",
                " = \\frac{g_{a\\gamma\\gamma^\\prime}^2}{256 \\pi ^2 m_M^6 q^6} \\left(m_M^2-q^2\\right)^3 (\\cos(2\\theta)+3) \\left(-2 m_{\\gamma^\\prime}^2 \\left(m_a^2+q^2\\right)+m_{\\gamma^\\prime}^4+\\left(m_a^2-q^2\\right)^2\\right)^{3/2} \\text{BR}(M \\!\\to \\!\\gamma\\gamma).\n",
                "\\end{equation}\n",
                "\n",
                "In this notebook, we put $m_a=0$. The other one considers  $m_{\\gamma'}=0$.\n",
                "\n",
                "PDG codes: $\\gamma$ = 22, $\\pi_0$ = 111, $\\eta$ = 221, $\\eta^\\prime$ = 331.\n",
                "\n",
                "<!-- To generate LLP spectrum, use Dark_ALP_massless_a.py script.   -->\n",
                "\n",
                "\n",
                "Vector-meson decays:\n",
                "\n",
                "\\begin{equation} \n",
                "\t\\begin{aligned}\n",
                "\t\t\\!\\!\\text{Dark ALP:}\\\n",
                "\t\t\t&\\frac{{\\rm BR}_{V \\rightarrow a \\gamma^\\prime}}{{\\rm BR}_{V \\rightarrow ee}} \\!=\\! \\frac{ g_{a\\gamma\\gamma^\\prime}^2 (M-m_a-m_{\\gamma^\\prime}) (M+m_a-m_{\\gamma^\\prime}) (M-m_a+m_{\\gamma^\\prime}) (M+m_a+m_{\\gamma^\\prime}) \\sqrt{\\left(-M^2+m_a^2+m_{\\gamma^\\prime}^2\\right)^2-4 m_a^2 m_{\\gamma^\\prime}^2}}{32 \\pi  \\alpha_{\\text{EM}} M \\sqrt{M^2-4 m_e^2} \\left(M^2+2 m_e^2\\right)}, \\!\\! \\\\\n",
                "\t\\end{aligned}\n",
                "\\end{equation} "
            ]
        },
        {
            "cell_type": "code",
            "execution_count": null,
            "metadata": {},
            "outputs": [],
            "source": [
                "# model.add_production_3bodydecay(\n",
                "#     pid0=\"111\", # pi0, m_pi0=0.135, br=0.98823\n",
                "#     pid1=\"22\",  # photon\n",
                "#     pid2=\"22\",  # a - we put m_a=0; mass(pid3) = mass = m_gprime\n",
                "#     br=\"0.98823 * coupling**2 / 256. / 3.1415**2 / q**6 / 0.135**6 * (0.135**2-q**2)**3 * (np.cos(2*th)+3) * (-2*mass**2*q**2 + mass**4 + q**4)**1.5\",generator=\"EPOSLHC\",\n",
                "#     energy=energy,\n",
                "#     nsample=nsample,\n",
                "# )\n",
                "\n",
                "# model.add_production_3bodydecay(\n",
                "#     pid0=\"221\", # eta, m_eta=0.547, br=0.3931\n",
                "#     pid1=\"22\",\n",
                "#     pid2=\"22\",\n",
                "#     br=\"0.3931 * coupling**2 / 256. / 3.1415**2 / q**6 / 0.547**6 * (0.547**2-q**2)**3 * (np.cos(2*th)+3) * (-2*mass**2*q**2 + mass**4 + q**4)**1.5\",\n",
                "#     generator=\"EPOSLHC\",\n",
                "#     energy=energy,\n",
                "#     nsample=nsample,\n",
                "# )\n",
                "\n",
                "# model.add_production_3bodydecay(\n",
                "#     pid0=\"331\", # etaprime, m_etaprime=0.957, br=0.222\n",
                "#     pid1=\"22\",\n",
                "#     pid2=\"22\",\n",
                "#     br=\"0.222 * coupling**2 / 256. / 3.1415**2 / q**6 / 0.957**6 * (0.957**2-q**2)**3 * (np.cos(2*th)+3) * (-2*mass**2*q**2 + mass**4 + q**4)**1.5\",\n",
                "#     generator=\"EPOSLHC\",\n",
                "#     energy=energy,\n",
                "#     nsample=nsample,\n",
                "# )"
            ]
        },
        {
            "cell_type": "code",
            "execution_count": null,
            "metadata": {},
            "outputs": [],
            "source": [
                "# V(p0) -> a(p1) + gprime(p2)\n",
                "# p1**2 = m1**2 = m_a**2\n",
                "# p2**2 = m2**2 = m_gprime**2\n",
                "\n",
                "model.add_production_2bodydecay(\n",
                "    pid0 = \"113\", # rho\n",
                "    pid1 = \"0\",   # pid1 = 0 means mass_pid1 = m1 = mass_llp0;   mass_pid2 = m2 = mass = mass_llp1\n",
                "    br = \"4.72e-5 * coupling**2 * (1 * (m0 - m1 - m2)*(m0 + m1 - m2)*(m0 - m1 + m2)* (m0 + m1 + m2)*np.sqrt(-4*m1**2*m2**2 + (-m0**2 + m1**2 + m2**2)**2)) / (32.* ALPHAEM * m0 * np.sqrt(m0**2 - 4*M_ELECTRON**2) * (m0**2 + 2*M_ELECTRON**2) * np.pi)\",\n",
                "    generator = \"EPOSLHC\",\n",
                "    energy = energy,\n",
                "    nsample = nsample,\n",
                ")\n",
                "\n",
                "model.add_production_2bodydecay(\n",
                "   pid0 = \"223\", # omega\n",
                "   pid1 = \"0\",\n",
                "   br = \"7.38e-5 * coupling**2 * (1 * (m0 - m1 - m2)*(m0 + m1 - m2)*(m0 - m1 + m2)* (m0 + m1 + m2)*np.sqrt(-4*m1**2*m2**2 + (-m0**2 + m1**2 + m2**2)**2)) / (32.* ALPHAEM * m0 * np.sqrt(m0**2 - 4*M_ELECTRON**2) * (m0**2 + 2*M_ELECTRON**2) * np.pi)\",\n",
                "   generator = \"EPOSLHC\",\n",
                "   energy = energy,\n",
                "   nsample = nsample,\n",
                ")\n",
                "\n",
                "model.add_production_2bodydecay(\n",
                "   pid0 = \"333\", # phi\n",
                "   pid1 = \"0\",\n",
                "   br = \"2.98e-4 * coupling**2 * (1 * (m0 - m1 - m2)*(m0 + m1 - m2)*(m0 - m1 + m2)* (m0 + m1 + m2)*np.sqrt(-4*m1**2*m2**2 + (-m0**2 + m1**2 + m2**2)**2)) / (32.* ALPHAEM * m0 * np.sqrt(m0**2 - 4*M_ELECTRON**2) * (m0**2 + 2*M_ELECTRON**2) * np.pi)\",\n",
                "   generator = \"EPOSLHC\",\n",
                "   energy = energy,\n",
                "   nsample = nsample,\n",
                ")\n",
                "\n",
                "model.add_production_2bodydecay(\n",
                "    pid0 = \"443\", # J/ψ\n",
                "    pid1 = \"0\",\n",
                "    br = \"0.0597 * coupling**2 * (1 * (m0 - m1 - m2)*(m0 + m1 - m2)*(m0 - m1 + m2)* (m0 + m1 + m2)*np.sqrt(-4*m1**2*m2**2 + (-m0**2 + m1**2 + m2**2)**2)) / (32.* ALPHAEM * m0 * np.sqrt(m0**2 - 4*M_ELECTRON**2) * (m0**2 + 2*M_ELECTRON**2) * np.pi)\",\n",
                "    generator = \"Pythia8\",\n",
                "    energy = energy,\n",
                "    nsample = nsample,\n",
                ")\n",
                "\n",
                "# model.add_production_2bodydecay(\n",
                "#    pid0 = \"100443\", # \\psi(2S)\n",
                "#    pid1 = \"0\",\n",
                "#    br = \"0.00993 * coupling**2 * (1 * (m0 - m1 - m2)*(m0 + m1 - m2)*(m0 - m1 + m2)* (m0 + m1 + m2)*np.sqrt(-4*m1**2*m2**2 + (-m0**2 + m1**2 + m2**2)**2)) / (32.* ALPHAEM * m0 * np.sqrt(m0**2 - 4*M_ELECTRON**2) * (m0**2 + 2*M_ELECTRON**2) * np.pi)\",   \n",
                "#    generator = \"Pythia8\",\n",
                "#    energy = energy,\n",
                "#    nsample = nsample,\n",
                "# )\n",
                "\n",
                "# model.add_production_2bodydecay(\n",
                "#     pid0 = \"553\", # Υ ($\\Upsilon(1S)$)\n",
                "#     pid1 = \"0\",\n",
                "#     br = \"0.0238 * coupling**2 * (1 * (m0 - m1 - m2)*(m0 + m1 - m2)*(m0 - m1 + m2)* (m0 + m1 + m2)*np.sqrt(-4*m1**2*m2**2 + (-m0**2 + m1**2 + m2**2)**2)) / (32.* ALPHAEM * m0 * np.sqrt(m0**2 - 4*M_ELECTRON**2) * (m0**2 + 2*M_ELECTRON**2) * np.pi)\",    \n",
                "#     generator = \"Pythia8\",\n",
                "#     energy = energy,\n",
                "#     nsample = nsample,\n",
                "# )\n",
                "\n",
                "# model.add_production_2bodydecay(\n",
                "#    pid0 = \"100553\", # $\\Upsilon(2S)$\n",
                "#    pid1 = \"0\",\n",
                "#    br = \"0.0191 * coupling**2 * (1 * (m0 - m1 - m2)*(m0 + m1 - m2)*(m0 - m1 + m2)* (m0 + m1 + m2)*np.sqrt(-4*m1**2*m2**2 + (-m0**2 + m1**2 + m2**2)**2)) / (32.* ALPHAEM * m0 * np.sqrt(m0**2 - 4*M_ELECTRON**2) * (m0**2 + 2*M_ELECTRON**2) * np.pi)\",\n",
                "#    generator = \"Pythia8\",\n",
                "#    energy = energy,\n",
                "#    nsample = nsample,\n",
                "# )\n",
                "\n",
                "# model.add_production_2bodydecay(\n",
                "#    pid0 = \"200553\", # $\\Upsilon(3S)$\n",
                "#    pid1 = \"0\",\n",
                "#    br = \"0.0218 * coupling**2 * (1 * (m0 - m1 - m2)*(m0 + m1 - m2)*(m0 - m1 + m2)* (m0 + m1 + m2)*np.sqrt(-4*m1**2*m2**2 + (-m0**2 + m1**2 + m2**2)**2)) / (32.* ALPHAEM * m0 * np.sqrt(m0**2 - 4*M_ELECTRON**2) * (m0**2 + 2*M_ELECTRON**2) * np.pi)\",\n",
                "#    generator = \"Pythia8\",\n",
                "#    energy = energy,\n",
                "#    nsample = nsample,\n",
                "# )"
            ]
        },
        {
            "cell_type": "code",
            "execution_count": null,
            "metadata": {},
            "outputs": [],
            "source": [
                "model.set_ctau_1d(filename=\"model/ctau_gprime.txt\", coupling_ref=1)\n",
                "\n",
                "branchings = [\n",
                "    [ \"BR_gammaprime_agamma\", \"black\", \"solid\", r\"$a\\gamma$\", 0.110, 0.30 ],\n",
                "    [ \"BR_gammaprime_aee\", \"red\", \"solid\", r\"$a e^+ e^-$\", 0.110, 0.012],\n",
                "]\n",
                "\n",
                "model.set_br_1d(\n",
                "    modes=[channel for channel, _, _, _, _, _ in branchings],\n",
                "    filenames=[ \"model/br/\" + channel + \".txt\" for channel, _, _, _, _, _ in branchings ],\n",
                ")\n",
                "\n",
                "foresee.set_model(model=model)"
            ]
        },
        {
            "cell_type": "code",
            "execution_count": null,
            "metadata": {},
            "outputs": [],
            "source": [
                "# %matplotlib inline\n",
                "\n",
                "# mass_llp0 = 0.0 # m_a\n",
                "# mass_llp1 = 0.1 # m_gprime\n",
                "\n",
                "# plt_1, plt_2 = foresee.get_llp_spectrum(mass=mass_llp1, mass_llp0=mass_llp0, coupling=1e-4, do_plot=True, save_file=False)\n",
                "# plt_1.savefig(\"./output/test_LLP_spect_plt_1.pdf\")\n",
                "# plt_2.savefig(\"./output/test_LLP_spect_plt_2.pdf\")\n",
                "\n",
                "# plt_1.show()\n",
                "# plt_2.show()\n",
                "\n",
                "\n",
                "# plt_1, plt_2 = foresee.get_llp_spectrum(mass=mass_llp1, mass_llp0=mass_llp0, coupling=1e-4, do_plot=True, save_file=False, detector=\"MATHUSLA\")\n",
                "# plt_1.savefig(\"./output/test_LLP_spect_plt_1_MATHUSLA.pdf\")\n",
                "# plt_2.savefig(\"./output/test_LLP_spect_plt_2_MATHUSLA.pdf\")\n",
                "\n",
                "# plt_1.show()\n",
                "# plt_2.show()"
            ]
        },
        {
            "cell_type": "code",
            "execution_count": null,
            "metadata": {},
            "outputs": [],
            "source": [
                "# from timeit import default_timer as timer\n",
                "\n",
                "# for count, mass in enumerate(masses):\n",
                "#     mass_llp0 = 0.0    # m_a\n",
                "#     mass_llp1 = mass   # m_gprime\n",
                "\n",
                "#     start = timer()\n",
                "\n",
                "#     foresee.get_llp_spectrum(mass=mass_llp1, mass_llp0=mass_llp0, coupling=1)\n",
                "\n",
                "#     end = timer()\n",
                "#     time_length_sec = end - start\n",
                "\n",
                "#     count += 1\n",
                "#     time_length_sec_total = time_length_sec * num_of_masses\n",
                "#     print(\"%.2f%% done, \" % float(count / num_of_masses * 100), \"approx. total run time : %.1f m, \" % float(time_length_sec_total / 60), \"approx. waiting time: %.1f m\" % float(time_length_sec_total * (1 - count / num_of_masses) / 60))\n",
                "\n",
                "\n",
                "# count_total = num_of_masses_MATHUSLA\n",
                "# for count, mass in enumerate(masses_MATHUSLA):\n",
                "#     mass_llp0 = 0.0\n",
                "#     mass_llp1 = mass\n",
                "\n",
                "#     start = timer()\n",
                "\n",
                "#     foresee.get_llp_spectrum(mass=mass_llp1, mass_llp0=mass_llp0, coupling=1, detector=\"MATHUSLA\")\n",
                "\n",
                "#     end = timer()\n",
                "#     time_length_sec = end - start\n",
                "\n",
                "#     count += 1\n",
                "#     time_length_sec_total = time_length_sec * count_total\n",
                "#     print(\"%.2f%% done, \" % float(count/count_total * 100), \"approx. total run time : %.1f m, \" % float(time_length_sec_total/60), \"approx. waiting time: %.1f m\" % float(time_length_sec_total * (1 - count / count_total) / 60))"
            ]
        },
        {
            "cell_type": "code",
            "execution_count": null,
            "metadata": {},
            "outputs": [],
            "source": [
                "# productions = [\n",
                "#     [\"111\"    , None      , \"firebrick\"   , r\"$\\pi$\"         ],   \n",
                "#     # [\"221\"    , None      , \"red\"         , r\"$\\eta$\"        ],   \n",
                "#     # [\"331\"    , None , \"salmon\"      , r\"$\\eta'$\"       ],  \n",
                "#     [\"113\"    , None , \"dodgerblue\"  , r\"$\\rho$\"        ],   \n",
                "#     [\"223\"    , None , \"blue\"        , r\"$\\omega$\"      ],   \n",
                "#     [\"333\"    , None , \"deepskyblue\" , r\"$\\phi$\"        ],  \n",
                "#     [\"443\"    , None  , \"gold\"        , r\"$J/\\psi$\"      ],   \n",
                "#     [\"100443\" , None  , \"orange\"      , r\"$\\psi(2S)$\"    ],  \n",
                "#     [\"553\"    , None  , \"green\"       , r\"$\\Upsilon(1S)$\"],   \n",
                "#     [\"100553\" , None  , \"limegreen\"   , r\"$\\Upsilon(2S)$\"],  \n",
                "#     [\"200553\" , None  , \"lime\"        , r\"$\\Upsilon(3S)$\"],  \n",
                "# ]\n",
                "\n",
                "# plot = foresee.plot_production(\n",
                "#     masses = masses, \n",
                "#     productions = productions,\n",
                "#     condition=\"True\", \n",
                "#     xlims=[0.03,1],\n",
                "#     ylims=[10**0,10**7], \n",
                "#     xlabel=r\"$m_{a}$ [GeV]\", \n",
                "#     ylabel=r\"Production rate $\\sigma \\times g_\\gamma^2$ [pb]\",\n",
                "#     legendloc=(1.02,1.02),\n",
                "#     fs_label=12,\n",
                "#     dolegend=True,\n",
                "# )\n",
                "\n",
                "# plot.subplots_adjust(left=0.11, right=0.95, bottom=0.12, top=0.97)\n",
                "# plot.savefig(\"output/Dark_ALP_massless_a_Production_channels_FASER.pdf\")\n",
                "# plot.show()\n",
                "\n",
                "\n",
                "\n",
                "# productions = [\n",
                "#     [\"111\"    , None      , \"firebrick\"   , r\"$\\pi$\"         ],   \n",
                "#     # [\"221\"    , None      , \"red\"         , r\"$\\eta$\"        ],   \n",
                "#     # [\"331\"    , None , \"salmon\"      , r\"$\\eta'$\"       ],  \n",
                "#     [\"113\"    , None , \"dodgerblue\"  , r\"$\\rho$\"        ],   \n",
                "#     [\"223\"    , None , \"blue\"        , r\"$\\omega$\"      ],   \n",
                "#     [\"333\"    , None , \"deepskyblue\" , r\"$\\phi$\"        ],  \n",
                "#     [\"443\"    , None  , \"gold\"        , r\"$J/\\psi$\"      ],   \n",
                "#     [\"100443\" , None  , \"orange\"      , r\"$\\psi(2S)$\"    ],  \n",
                "#     [\"553\"    , None  , \"green\"       , r\"$\\Upsilon(1S)$\"],   \n",
                "#     [\"100553\" , None  , \"limegreen\"   , r\"$\\Upsilon(2S)$\"],  \n",
                "#     [\"200553\" , None  , \"lime\"        , r\"$\\Upsilon(3S)$\"],  \n",
                "# ]\n",
                "\n",
                "# plot = foresee.plot_production(\n",
                "#     masses = masses_MATHUSLA, \n",
                "#     productions = productions,\n",
                "#     condition=\"True\", \n",
                "#     xlims=[0.03,0.1],\n",
                "#     ylims=[1e2,1e7], \n",
                "#     xlabel=r\"$m_{a}$ [GeV]\", \n",
                "#     ylabel=r\"Production rate $\\sigma \\times g_\\gamma^2$ [pb]\",\n",
                "#     legendloc=(1.02,1.02),\n",
                "#     fs_label=12,\n",
                "#     dolegend=True,\n",
                "#     energy=energy,\n",
                "#     detector=\"MATHUSLA\",\n",
                "# )\n",
                "\n",
                "# plot.subplots_adjust(left=0.11, right=0.95, bottom=0.12, top=0.97)\n",
                "# plot.savefig(\"output/Dark_ALP_massless_a_Production_channels_MATHUSLA.pdf\")\n",
                "# plot.show()"
            ]
        },
        {
            "attachments": {},
            "cell_type": "markdown",
            "metadata": {},
            "source": [
                "## 2. No FPF + MATHUSLA"
            ]
        },
        {
            "attachments": {},
            "cell_type": "markdown",
            "metadata": {},
            "source": [
                "### Primary production"
            ]
        },
        {
            "cell_type": "markdown",
            "metadata": {},
            "source": [
                "- FASER2 - the nominal/default setup -  $\\gamma^\\prime\\to a \\gamma$ with $BR=1$"
            ]
        },
        {
            "cell_type": "code",
            "execution_count": null,
            "metadata": {},
            "outputs": [],
            "source": [
                "luminosity, distance = 3000, 480\n",
                "setup, selection, channels, length = \"FASER2_agamma\", \"np.sqrt(x.x**2 + x.y**2)< 1*480./480.\", [ \"BR_gammaprime_agamma\" ], 5\n",
                "foresee.set_detector(length=length,\n",
                "                     selection=selection,\n",
                "                     channels=channels,\n",
                "                     distance=distance,\n",
                "                     luminosity=luminosity)\n",
                "\n",
                "\n",
                "list_nevents = []\n",
                "for mass in masses:\n",
                "    couplings, _, nevents, _, _ = foresee.get_events(mass=mass, energy=energy, couplings=np.logspace(-6, -2, num_of_couplings))\n",
                "    list_nevents.append(nevents)\n",
                "np.save(\"model/results/\" + energy + \"TeV_\" + setup + \".npy\", [masses, couplings, list_nevents])"
            ]
        },
        {
            "cell_type": "markdown",
            "metadata": {},
            "source": [
                "- FASER2 setup with decay $\\gamma^\\prime\\to a ee$"
            ]
        },
        {
            "cell_type": "code",
            "execution_count": null,
            "metadata": {},
            "outputs": [],
            "source": [
                "luminosity, distance = 3000, 480\n",
                "setup, selection, channels, length = \"FASER2_aee\", \"np.sqrt(x.x**2 + x.y**2)< 1*480./480.\", [ \"BR_gammaprime_aee\" ], 5\n",
                "foresee.set_detector(length=length,\n",
                "                     selection=selection,\n",
                "                     channels=channels,\n",
                "                     distance=distance,\n",
                "                     luminosity=luminosity)\n",
                "\n",
                "\n",
                "list_nevents = []\n",
                "for mass in masses:\n",
                "    couplings, _, nevents, _, _ = foresee.get_events(mass=mass, energy=energy, couplings=np.logspace(-6, -2, num_of_couplings))\n",
                "    list_nevents.append(nevents)\n",
                "np.save(\"model/results/\" + energy + \"TeV_\" + setup + \".npy\", [masses, couplings, list_nevents])"
            ]
        },
        {
            "cell_type": "code",
            "execution_count": null,
            "metadata": {},
            "outputs": [],
            "source": [
                "luminosity, distance = 3000, 480 - 2  # L=2m\n",
                "setup, selection, channels, length = \"FASERnu2_agamma\", \"np.sqrt(x.x**2 + x.y**2)< 0.25\", [ \"BR_gammaprime_agamma\" ], 2\n",
                "foresee.set_detector(length=length,\n",
                "                     selection=selection,\n",
                "                     channels=channels,\n",
                "                     distance=distance,\n",
                "                     luminosity=luminosity)\n",
                "\n",
                "#get reach\n",
                "list_nevents = []\n",
                "for mass in masses:\n",
                "    couplings, _, nevents, _, _ = foresee.get_events(\n",
                "        mass=mass,\n",
                "        energy=energy,\n",
                "        couplings=np.logspace(-6, -2, num_of_couplings),\n",
                "        preselectioncuts=\"th<0.01 and p>1000\")\n",
                "    list_nevents.append(nevents)\n",
                "\n",
                "#save results\n",
                "np.save(\"model/results/\" + energy + \"TeV_\" + setup + \".npy\", [masses, couplings, list_nevents])"
            ]
        },
        {
            "attachments": {},
            "cell_type": "markdown",
            "metadata": {},
            "source": [
                "### Secondary Production"
            ]
        },
        {
            "cell_type": "markdown",
            "metadata": {},
            "source": [
                "- FASER2 - the nominal/default setup -  $\\gamma^\\prime\\to a \\gamma$ with $BR=1$"
            ]
        },
        {
            "cell_type": "code",
            "execution_count": null,
            "metadata": {},
            "outputs": [],
            "source": [
                "luminosity, distance = 3000, 480\n",
                "setup, selection, channels, length = \"FASER2_agamma_secondary\", \"np.sqrt(x.x**2 + x.y**2)< 1*480./480.\", [ \"BR_gammaprime_agamma\" ], 5\n",
                "foresee.set_detector(length=length,\n",
                "                     selection=selection,\n",
                "                     channels=channels,\n",
                "                     distance=distance,\n",
                "                     luminosity=luminosity)\n",
                "\n",
                "\n",
                "list_nevents = []\n",
                "for mass in masses:\n",
                "    couplings, _, nevents, _, _ = foresee.get_events_secondary_NOFPF(\n",
                "        mass=mass,\n",
                "        energy=energy,\n",
                "        couplings=np.logspace(-6, -2, num_of_couplings),\n",
                "        preselectioncuts=\"th<0.01 and p>100\",\n",
                "        which_LLP=\"llp0\",\n",
                "        sign=\"decay_F2\",  \n",
                "        coup_ref=1,        \n",
                "        m1=0.0,\n",
                "        m3=mass,\n",
                "        Z=Z_TUNGSTEN,\n",
                "        A=A_TUNGSTEN,\n",
                "        RHO=RHO_TUNGSTEN,\n",
                "        sigma_secondary_LLP2_LLP3=sigma_aNucleus_gpNucleus_analyt,\n",
                "    )\n",
                "    list_nevents.append(nevents)\n",
                "    # print(nevents)\n",
                "np.save(\"model/results/\" + energy + \"TeV_\" + setup + \".npy\", [masses, couplings, list_nevents])"
            ]
        },
        {
            "cell_type": "markdown",
            "metadata": {},
            "source": [
                "- FASER $\\nu2$ setup with decay  $\\gamma^\\prime\\to a \\gamma$"
            ]
        },
        {
            "cell_type": "code",
            "execution_count": null,
            "metadata": {},
            "outputs": [],
            "source": [
                "\n",
                "luminosity, distance = 3000, 480\n",
                "setup, selection, channels, length = \"FASERnu2_agamma_secondary\", \"np.sqrt(x.x**2 + x.y**2)< 0.25\", [ \"BR_gammaprime_agamma\" ], 2\n",
                "foresee.set_detector(length=length,\n",
                "                     selection=selection,\n",
                "                     channels=channels,\n",
                "                     distance=distance,\n",
                "                     luminosity=luminosity)\n",
                "\n",
                "\n",
                "list_nevents = []\n",
                "for mass in masses:\n",
                "    couplings, _, nevents, _, _ = foresee.get_events_secondary_NOFPF(\n",
                "        mass=mass,\n",
                "        energy=energy,\n",
                "        couplings=np.logspace(-6, -2, num_of_couplings),\n",
                "        preselectioncuts=\"th<0.01 and p>1000\",\n",
                "        which_LLP=\"llp0\",\n",
                "        sign=\"decay_Fnu2\",  \n",
                "        coup_ref=1,\n",
                "        m1=0.0,\n",
                "        m3=mass,\n",
                "        Z=Z_TUNGSTEN,\n",
                "        A=A_TUNGSTEN,\n",
                "        RHO=RHO_TUNGSTEN,\n",
                "        sigma_secondary_LLP2_LLP3=sigma_aNucleus_gpNucleus_analyt,\n",
                "    )\n",
                "    list_nevents.append(nevents)\n",
                "np.save(\"model/results/\" + energy + \"TeV_\" + setup + \".npy\", [masses, couplings, list_nevents])"
            ]
        },
        {
            "cell_type": "markdown",
            "metadata": {},
            "source": [
                "- FASER $\\nu2$ setup with scattering and decay outside F2"
            ]
        },
        {
            "cell_type": "code",
            "execution_count": null,
            "metadata": {},
            "outputs": [],
            "source": [
                "luminosity, distance = 3000, 480\n",
                "setup, selection, channels, length = \"FASERnu2_scat\", \"np.sqrt(x.x**2 + x.y**2)< 0.25\", [ \"BR_gammaprime_agamma\" ], 2\n",
                "foresee.set_detector(length=length,\n",
                "                     selection=selection,\n",
                "                     channels=channels,\n",
                "                     distance=distance,\n",
                "                     luminosity=luminosity)\n",
                "\n",
                "\n",
                "list_nevents = []\n",
                "for mass in masses:\n",
                "    couplings, _, nevents, _, _ = foresee.get_events_secondary_NOFPF(\n",
                "        mass=mass,\n",
                "        energy=energy,\n",
                "        couplings=np.logspace(-6, -2, num_of_couplings),\n",
                "        preselectioncuts=\"th<0.01\",\n",
                "        which_LLP=\"llp0\",\n",
                "        sign=\"scat_e\",  \n",
                "        coup_ref=1,\n",
                "        m1=0.0,\n",
                "        m3=mass,\n",
                "        Z=Z_TUNGSTEN,\n",
                "        A=A_TUNGSTEN,\n",
                "        RHO=RHO_TUNGSTEN,\n",
                "        sigma_secondary_LLP2_LLP3=sigma_ae_gpe_log,\n",
                "        sigma_secondary_LLP3_LLP2=sigma_gpe_ae_log,\n",
                "        # sigma_secondary_LLP2_LLP3=sigma_ae_gpe_analyt,\n",
                "        # sigma_secondary_LLP3_LLP2=sigma_gpe_ae_analyt,\n",
                "    )\n",
                "    list_nevents.append(nevents)\n",
                "np.save(\"model/results/\" + energy + \"TeV_\" + setup + \".npy\", [masses, couplings, list_nevents])"
            ]
        },
        {
            "cell_type": "markdown",
            "metadata": {},
            "source": [
                "### MATHUSLA"
            ]
        },
        {
            "attachments": {},
            "cell_type": "markdown",
            "metadata": {},
            "source": [
                "- MATHUSLA setup with decay  $\\gamma^\\prime\\to a ee$"
            ]
        },
        {
            "cell_type": "code",
            "execution_count": null,
            "metadata": {},
            "outputs": [],
            "source": [
                "num_of_couplings_MATHUSLA = 21"
            ]
        },
        {
            "cell_type": "code",
            "execution_count": null,
            "metadata": {},
            "outputs": [],
            "source": [
                "luminosity = 3000\n",
                "setup, channels = \"MATHUSLA_aee\", [\"BR_gammaprime_aee\"]\n",
                "\n",
                "foresee.set_detector( length=0.0, channels=channels, distance=0.0, luminosity=luminosity)  # for MATHUSLA, we need to modify the foresee code\n",
                "\n",
                "\n",
                "list_nevents = []\n",
                "for mass in masses_MATHUSLA[::2]:\n",
                "    couplings, _, nevents, _, _ = foresee.get_events(mass=mass, energy=energy, couplings=np.logspace(-4, -2, num_of_couplings_MATHUSLA), preselectioncuts=\"p>2.0\", detector=\"MATHUSLA\")\n",
                "    list_nevents.append(nevents)\n",
                "np.save(\"model/results/\" + energy + \"TeV_\" + setup + \".npy\", [masses_MATHUSLA[::2], couplings, list_nevents])"
            ]
        },
        {
            "cell_type": "code",
            "execution_count": null,
            "metadata": {},
            "outputs": [],
            "source": [
                "# luminosity = 3000\n",
                "# setup, channels = \"MATHUSLA_aee_secondary\", [\"BR_gammaprime_aee\"]\n",
                "# foresee.set_detector(length=0.0,\n",
                "#                      channels=channels,\n",
                "#                      distance=0.0,\n",
                "#                      luminosity=luminosity)\n",
                "\n",
                "\n",
                "# list_nevents = []\n",
                "# for mass in masses_MATHUSLA:\n",
                "#     couplings, _, nevents, _, _ = foresee.get_events_secondary_MATHUSLA(\n",
                "#         mass=mass,\n",
                "#         energy=energy,\n",
                "#         couplings=np.logspace(-6, -2, num_of_couplings_MATHUSLA),\n",
                "#         preselectioncuts=\"p>2.0\",\n",
                "#         m1=0.0,\n",
                "#         m3=mass,\n",
                "#         sigma_secondary_LLP2_LLP3=sigma_aNucleus_gpNucleus_analyt,\n",
                "#     )\n",
                "#     list_nevents.append(nevents)\n",
                "# np.save(\"model/results/\" + energy + \"TeV_\" + setup + \".npy\", [masses_MATHUSLA, couplings, list_nevents])"
            ]
        },
        {
            "attachments": {},
            "cell_type": "markdown",
            "metadata": {},
            "source": [
                "## 2'. FPF"
            ]
        },
        {
            "cell_type": "markdown",
            "metadata": {},
            "source": [
                "#### Primary"
            ]
        },
        {
            "cell_type": "markdown",
            "metadata": {},
            "source": [
                "- FASER2 - the nominal/default setup -  $\\gamma^\\prime\\to a \\gamma$ with $BR=1$"
            ]
        },
        {
            "cell_type": "code",
            "execution_count": null,
            "metadata": {},
            "outputs": [],
            "source": [
                "luminosity, distance = 3000, 620\n",
                "setup, selection, channels, length = \"FPF_FASER2_agamma\", \"np.sqrt(x.x**2 + x.y**2)< 1.\", [ \"BR_gammaprime_agamma\" ], 25\n",
                "foresee.set_detector(length=length,\n",
                "                     selection=selection,\n",
                "                     channels=channels,\n",
                "                     distance=distance,\n",
                "                     luminosity=luminosity)\n",
                "\n",
                "\n",
                "list_nevents = []\n",
                "for mass in masses:\n",
                "    couplings, _, nevents, _, _ = foresee.get_events(mass=mass, energy=energy, couplings=np.logspace(-6, -2, num_of_couplings))\n",
                "    list_nevents.append(nevents)\n",
                "np.save(\"model/results/\" + energy + \"TeV_\" + setup + \".npy\", [masses, couplings, list_nevents])"
            ]
        },
        {
            "cell_type": "markdown",
            "metadata": {},
            "source": [
                "- FASER2 setup with decay $\\gamma^\\prime\\to a ee$"
            ]
        },
        {
            "cell_type": "code",
            "execution_count": null,
            "metadata": {},
            "outputs": [],
            "source": [
                "luminosity, distance = 3000, 620\n",
                "setup, selection, channels, length = \"FPF_FASER2_aee\", \"np.sqrt(x.x**2 + x.y**2)< 1.\", [ \"BR_gammaprime_aee\" ], 25\n",
                "foresee.set_detector(length=length,\n",
                "                     selection=selection,\n",
                "                     channels=channels,\n",
                "                     distance=distance,\n",
                "                     luminosity=luminosity)\n",
                "\n",
                "\n",
                "list_nevents = []\n",
                "for mass in masses:\n",
                "    couplings, _, nevents, _, _ = foresee.get_events(mass=mass, energy=energy, couplings=np.logspace(-6, -2, num_of_couplings))\n",
                "    list_nevents.append(nevents)\n",
                "np.save(\"model/results/\" + energy + \"TeV_\" + setup + \".npy\", [masses, couplings, list_nevents])"
            ]
        },
        {
            "cell_type": "markdown",
            "metadata": {},
            "source": [
                "- FASER $\\nu2$ setup with decay  $\\gamma^\\prime\\to a \\gamma$"
            ]
        },
        {
            "cell_type": "code",
            "execution_count": null,
            "metadata": {},
            "outputs": [],
            "source": [
                "luminosity, distance = 3000, 620 - 8  # L=8m\n",
                "setup, selection, channels, length = \"FPF_FASERnu2_agamma\", \"np.sqrt(x.x**2 + x.y**2)< 0.2\", [ \"BR_gammaprime_agamma\" ], 8\n",
                "foresee.set_detector(length=length,\n",
                "                     selection=selection,\n",
                "                     channels=channels,\n",
                "                     distance=distance,\n",
                "                     luminosity=luminosity)\n",
                "\n",
                "\n",
                "list_nevents = []\n",
                "for mass in masses:\n",
                "    couplings, _, nevents, _, _ = foresee.get_events( mass=mass, energy=energy, couplings=np.logspace(-6, -2, num_of_couplings), preselectioncuts=\"th<0.01 and p>1000\")\n",
                "    list_nevents.append(nevents)\n",
                "#save results\n",
                "np.save(\"model/results/\" + energy + \"TeV_\" + setup + \".npy\", [masses, couplings, list_nevents])"
            ]
        },
        {
            "cell_type": "markdown",
            "metadata": {},
            "source": [
                "#### Secondary"
            ]
        },
        {
            "cell_type": "markdown",
            "metadata": {},
            "source": [
                "- FASER2 - the nominal/default setup -  $\\gamma^\\prime\\to a \\gamma$ with $BR=1$"
            ]
        },
        {
            "cell_type": "code",
            "execution_count": null,
            "metadata": {},
            "outputs": [],
            "source": [
                "luminosity, distance = 3000, 620\n",
                "setup, selection, channels, length = \"FPF_FASER2_agamma_secondary\", \"np.sqrt(x.x**2 + x.y**2)< 1.\", [ \"BR_gammaprime_agamma\" ], 25\n",
                "foresee.set_detector(length=length,\n",
                "                     selection=selection,\n",
                "                     channels=channels,\n",
                "                     distance=distance,\n",
                "                     luminosity=luminosity)\n",
                "\n",
                "\n",
                "list_nevents = []\n",
                "for mass in masses:\n",
                "    couplings, _, nevents, _, _ = foresee.get_events_secondary_FPF(\n",
                "        mass=mass,\n",
                "        energy=energy,\n",
                "        couplings=np.logspace(-6, -2, num_of_couplings),\n",
                "        # couplings=np.logspace(-3, 10, num_of_couplings),\n",
                "        preselectioncuts=\"th<0.01 and p>100\",\n",
                "        which_LLP=\"llp0\",\n",
                "        sign=\"decay_F2\",  \n",
                "        coup_ref=1,        \n",
                "        m1=0.0,\n",
                "        m3=mass,\n",
                "        Z=Z_TUNGSTEN,\n",
                "        A=A_TUNGSTEN,\n",
                "        RHO=RHO_TUNGSTEN,\n",
                "        sigma_secondary_LLP2_LLP3=sigma_aNucleus_gpNucleus_analyt,\n",
                "        FLARE_upscat=False\n",
                "    )\n",
                "    list_nevents.append(nevents)\n",
                "    # print(nevents)\n",
                "np.save(\"model/results/\" + energy + \"TeV_\" + setup + \".npy\", [masses, couplings, list_nevents])"
            ]
        },
        {
            "attachments": {},
            "cell_type": "markdown",
            "metadata": {},
            "source": [
                "- FASER2 - the nominal/default setup -  $\\gamma^\\prime\\to a \\gamma$ with $BR=1$ - with FLARE upscattering"
            ]
        },
        {
            "cell_type": "code",
            "execution_count": null,
            "metadata": {},
            "outputs": [],
            "source": [
                "luminosity, distance = 3000, 620\n",
                "setup, selection, channels, length = \"FPF_FASER2_agamma_secondary_with_FLARE\", \"np.sqrt(x.x**2 + x.y**2)< 1.\", [ \"BR_gammaprime_agamma\" ], 25\n",
                "foresee.set_detector(length=length,\n",
                "                     selection=selection,\n",
                "                     channels=channels,\n",
                "                     distance=distance,\n",
                "                     luminosity=luminosity)\n",
                "\n",
                "\n",
                "list_nevents = []\n",
                "for mass in masses:\n",
                "    couplings, _, nevents, _, _ = foresee.get_events_secondary_FPF(\n",
                "        mass=mass,\n",
                "        energy=energy,\n",
                "        couplings=np.logspace(-6, -2, num_of_couplings),\n",
                "        preselectioncuts=\"th<0.01 and p>100\",\n",
                "        which_LLP=\"llp0\",\n",
                "        sign=\"decay_F2\",  \n",
                "        coup_ref=1,        \n",
                "        m1=0.0,\n",
                "        m3=mass,\n",
                "        Z=Z_TUNGSTEN,\n",
                "        A=A_TUNGSTEN,\n",
                "        RHO=RHO_TUNGSTEN,\n",
                "        sigma_secondary_LLP2_LLP3=sigma_aNucleus_gpNucleus_analyt,\n",
                "        sigma_secondary_LLP3_LLP2_or_LLP2_LLP3_FLARE=sigma_aNucleus_gpNucleus_analyt,\n",
                "        FLARE_upscat=True\n",
                "    )\n",
                "    list_nevents.append(nevents)\n",
                "np.save(\"model/results/\" + energy + \"TeV_\" + setup + \".npy\", [masses, couplings, list_nevents])"
            ]
        },
        {
            "cell_type": "markdown",
            "metadata": {},
            "source": [
                "- FASER2 setup with decay $\\gamma^\\prime\\to a ee$"
            ]
        },
        {
            "cell_type": "code",
            "execution_count": null,
            "metadata": {},
            "outputs": [],
            "source": [
                "# #\n",
                "# luminosity, distance = 3000, 620\n",
                "# setup, selection, channels, length = \"FPF_FASER2_aee_secondary\", \"np.sqrt(x.x**2 + x.y**2)< 1.\", [ \"BR_gammaprime_aee\" ], 25\n",
                "# foresee.set_detector(length=length,\n",
                "#                      selection=selection,\n",
                "#                      channels=channels,\n",
                "#                      distance=distance,\n",
                "#                      luminosity=luminosity)\n",
                "\n",
                "\n",
                "# list_nevents = []\n",
                "# for mass in masses:\n",
                "#     couplings, _, nevents, _, _ = foresee.get_events_secondary_FPF(\n",
                "#         mass=mass,\n",
                "#         energy=energy,\n",
                "#         couplings=np.logspace(-6, -2, num_of_couplings),\n",
                "#         preselectioncuts=\"th<0.01 and p>100\",\n",
                "#         which_LLP=\"llp0\",\n",
                "#         sign=\"decay_F2\",  \n",
                "#         coup_ref=1,        \n",
                "#         m1=0.0,\n",
                "#         m3=mass,\n",
                "#         Z=Z_TUNGSTEN,\n",
                "#         A=A_TUNGSTEN,\n",
                "#         RHO=RHO_TUNGSTEN,\n",
                "#         sigma_secondary_LLP2_LLP3=sigma_aNucleus_gpNucleus_analyt,\n",
                "#     )\n",
                "#     list_nevents.append(nevents)\n",
                "# np.save(\"model/results/\" + energy + \"TeV_\" + setup + \".npy\", [masses, couplings, list_nevents])"
            ]
        },
        {
            "cell_type": "markdown",
            "metadata": {},
            "source": [
                "- FASER $\\nu2$ setup with decay  $\\gamma^\\prime\\to a \\gamma$"
            ]
        },
        {
            "cell_type": "code",
            "execution_count": null,
            "metadata": {},
            "outputs": [],
            "source": [
                "#\n",
                "luminosity, distance = 3000, 610\n",
                "setup, selection, channels, length = \"FPF_FASERnu2_agamma_secondary\", \"np.sqrt(x.x**2 + x.y**2)< 0.25\", [ \"BR_gammaprime_agamma\" ], 8\n",
                "foresee.set_detector(length=length,\n",
                "                     selection=selection,\n",
                "                     channels=channels,\n",
                "                     distance=distance,\n",
                "                     luminosity=luminosity)\n",
                "\n",
                "\n",
                "list_nevents = []\n",
                "for mass in masses:\n",
                "    couplings, _, nevents, _, _ = foresee.get_events_secondary_FPF(\n",
                "        mass=mass,\n",
                "        energy=energy,\n",
                "        couplings=np.logspace(-6, -2, num_of_couplings),\n",
                "        preselectioncuts=\"th<0.01 and p>1000\",\n",
                "        which_LLP=\"llp0\",\n",
                "        sign=\"decay_Fnu2\",  \n",
                "        coup_ref=1,\n",
                "        m1=0.0,\n",
                "        m3=mass,\n",
                "        Z=Z_TUNGSTEN,\n",
                "        A=A_TUNGSTEN,\n",
                "        RHO=RHO_TUNGSTEN,\n",
                "        sigma_secondary_LLP2_LLP3=sigma_aNucleus_gpNucleus_analyt,\n",
                "    )\n",
                "    list_nevents.append(nevents)\n",
                "np.save(\"model/results/\" + energy + \"TeV_\" + setup + \".npy\", [masses, couplings, list_nevents])"
            ]
        },
        {
            "cell_type": "markdown",
            "metadata": {},
            "source": [
                "- FASER $\\nu2$ setup with scattering and decay outside F2"
            ]
        },
        {
            "cell_type": "code",
            "execution_count": null,
            "metadata": {},
            "outputs": [],
            "source": [
                "luminosity, distance = 3000, 610\n",
                "setup, selection, channels, length = \"FPF_FASERnu2_scat\", \"np.sqrt(x.x**2 + x.y**2)< 0.25\", [ \"BR_gammaprime_agamma\" ], 8\n",
                "foresee.set_detector(length=length,\n",
                "                     selection=selection,\n",
                "                     channels=channels,\n",
                "                     distance=distance,\n",
                "                     luminosity=luminosity)\n",
                "\n",
                "\n",
                "list_nevents = []\n",
                "for mass in masses:\n",
                "    couplings, _, nevents, _, _ = foresee.get_events_secondary_FPF(\n",
                "        mass=mass,\n",
                "        energy=energy,\n",
                "        couplings=np.logspace(-6, -2, num_of_couplings),\n",
                "        preselectioncuts=\"th<0.01\",\n",
                "        which_LLP=\"llp0\",\n",
                "        sign=\"scat_e\",  \n",
                "        coup_ref=1,\n",
                "        m1=0.0,\n",
                "        m3=mass,\n",
                "        Z=Z_TUNGSTEN,\n",
                "        A=A_TUNGSTEN,\n",
                "        RHO=RHO_TUNGSTEN,\n",
                "        sigma_secondary_LLP2_LLP3=sigma_ae_gpe_log,\n",
                "        sigma_secondary_LLP3_LLP2_or_LLP2_LLP3_FLARE=sigma_gpe_ae_log,\n",
                "    )\n",
                "    list_nevents.append(nevents)\n",
                "np.save(\"model/results/\" + energy + \"TeV_\" + setup + \".npy\", [masses, couplings, list_nevents])"
            ]
        },
        {
            "attachments": {},
            "cell_type": "markdown",
            "metadata": {},
            "source": [
                "- FLARE - e scattering"
            ]
        },
        {
            "cell_type": "code",
            "execution_count": null,
            "metadata": {},
            "outputs": [],
            "source": [
                "\n",
                "luminosity, distance = 3000, 600\n",
                "setup, selection, channels, length = \"FPF_FLARE_scat\", \"np.sqrt(x.x**2 + x.y**2)< 0.5\", [ \"BR_gammaprime_agamma\" ], 7\n",
                "foresee.set_detector(length=length,\n",
                "                     selection=selection,\n",
                "                     channels=channels,\n",
                "                     distance=distance,\n",
                "                     luminosity=luminosity)\n",
                "\n",
                "\n",
                "list_nevents = []\n",
                "for mass in masses:\n",
                "    couplings, _, nevents, _, _ = foresee.get_events_secondary_FPF(\n",
                "        mass=mass,\n",
                "        energy=energy,\n",
                "        couplings=np.logspace(-6, -2, num_of_couplings),\n",
                "        preselectioncuts=\"th<0.01\",\n",
                "        which_LLP=\"llp0\",\n",
                "        sign=\"scat_FLARE\",  \n",
                "        coup_ref=1,\n",
                "        m1=0.0,\n",
                "        m3=mass,\n",
                "        Z=Z_LAr,\n",
                "        A=A_LAr,\n",
                "        RHO=RHO_LAr,\n",
                "        sigma_secondary_LLP2_LLP3=sigma_ae_gpe_log,\n",
                "        sigma_secondary_LLP3_LLP2_or_LLP2_LLP3_FLARE=sigma_gpe_ae_log,\n",
                "    )\n",
                "    list_nevents.append(nevents)\n",
                "np.save(\"model/results/\" + energy + \"TeV_\" + setup + \".npy\", [masses, couplings, list_nevents])"
            ]
        },
        {
            "cell_type": "code",
            "execution_count": null,
            "metadata": {},
            "outputs": [],
            "source": []
        },
        {
            "cell_type": "markdown",
            "metadata": {},
            "source": [
                "## 3. Plot the Results"
            ]
        },
        {
            "cell_type": "code",
            "execution_count": null,
            "metadata": {},
            "outputs": [],
            "source": [
                "# NuCal NoE 90% CL\n",
                "5 - 3.5 + 1.28 * np.sqrt(5)"
            ]
        },
        {
            "cell_type": "code",
            "execution_count": null,
            "metadata": {},
            "outputs": [],
            "source": [
                "setups = [\n",
                "    [ \"14TeV_FASER2_agamma.npy\", r\"FASER2 ($E_{a\\gamma}> 0.1$ TeV)\", \"black\", \"solid\", 0., 3 ],\n",
                "    [ \"14TeV_FASER2_aee.npy\", \"FASER2 ($E_{ae^+e^-}> 0.1$ TeV)\", \"red\", \"solid\", 0., 3 ], \n",
                "    [ \"14TeV_FASERnu2_agamma.npy\", r\"FASER$\\nu2$ ($E_{a\\gamma}> 1$ TeV)\", \"black\", \"dotted\", 0., 3 ],\n",
                "\n",
                "    [ \"14TeV_FASER2_agamma_secondary.npy\", \"FASER2 (sec., $E_{a\\gamma}> 0.1$ TeV)\", \"black\", \"dashed\", 0., 3 ],\n",
                "    [ \"14TeV_FASERnu2_agamma_secondary.npy\", r\"FASER$\\nu2$ (sec., $E_{a\\gamma}> 1$ TeV)\", \"black\", \"dashdot\", 0., 3 ],\n",
                "\n",
                "    [ \"14TeV_FASERnu2_scat.npy\", r\"FASER$\\nu2$ ($e^-$ scat., decay outside)\", \"gold\", \"solid\", 0., 20 ],\n",
                "\n",
                "    [ \"14TeV_MATHUSLA_aee.npy\", r\"MATHUSLA ($E_{a e^+ e^-}> 2$ GeV)\", \"brown\", \"solid\", 0., 3],\n",
                "\n",
                "    [ \"0.4TeV_SHiP_agamma.npy\", r\"SHiP ($E_{a \\gamma}> 2$ GeV)\", \"darkgreen\", \"dashed\", 0., 100 * 2],    \n",
                "]"
            ]
        },
        {
            "cell_type": "code",
            "execution_count": null,
            "metadata": {},
            "outputs": [],
            "source": [
                "bounds = [\n",
                "    [\"Heavy_dark_photon_BaBar.txt\", \"BaBar\", 0.55, 2.45 * 10**-3, 0],\n",
                "    [\"0.069TeV_NuCal_agamma.npy.txt\", \"NuCal\", 0.012, 4.8e-1 * 10**-4, -20],\n",
                "    [\"0.4TeV_CHARM_agamma.npy.txt\", \"CHARM\", 0.012, 7.6e-1 * 10**-4, -20],\n",
                "]"
            ]
        },
        {
            "cell_type": "code",
            "execution_count": null,
            "metadata": {},
            "outputs": [],
            "source": [
                "projections = [\n",
                "    [ \"Heavy_dark_photon_Belle_2_50fb_inverse.txt\", \"blue\", \"Belle2\", 0.55, 9e-5, 0 ],\n",
                "]"
            ]
        },
        {
            "cell_type": "code",
            "execution_count": null,
            "metadata": {},
            "outputs": [],
            "source": [
                "plt, ax, ax2 = foresee.plot_reach(\n",
                "    setups=setups,\n",
                "    bounds=bounds,\n",
                "    projections=projections,\n",
                "    xlims=[0.001, 1],\n",
                "    ylims=[5e-7, 10**-2],\n",
                "    xlabel=r\"$m_{\\gamma^\\prime}$ [GeV]\",\n",
                "    ylabel=r\"$g_{a\\gamma\\gamma^\\prime}$ [1/GeV]\",\n",
                "    legendloc=(1.00, 0.28),\n",
                "    branchings=branchings,\n",
                "    figsize=(8, 8),\n",
                "    save_file=True,\n",
                ")\n",
                "\n",
                "ax.text(0.020, 2.0 * 10**-6, \"SN1987\", alpha=0.3, color='blue', fontsize=12)\n",
                "low = np.loadtxt(\"model/lines/Heavy_dark_photon_Supernova_Emission_low.txt\")\n",
                "high = np.loadtxt(\"model/lines/Heavy_dark_photon_Supernova_Emission_high.txt\")\n",
                "x = np.geomspace(0.001, 1, num_of_couplings)\n",
                "y = np.interp(x, high[:, 0], high[:, 1])\n",
                "z = np.interp(x, low[:, 0], low[:, 1])\n",
                "ax.fill_between(x, y, z, where=y >= z, alpha=0.05, color='blue', interpolate=True, lw=1, zorder=-10)\n",
                "\n",
                "ax.text(0.00105, 3.0 * 10**-6, \"Longitudinal dark photon\", alpha=0.3, color='blue', rotation=-43, fontsize=12)\n",
                "tab = np.loadtxt(\"model/lines/Heavy_dark_photon_Longitudinal_Dark_Photons.txt\")\n",
                "ax.fill(tab[:, 0], tab[:, 1], alpha=0.05, color='blue', zorder=-10)\n",
                "\n",
                "ax.legend(frameon=1, loc='lower center', ncol=2, fontsize=12)\n",
                "plt.subplots_adjust(left=0.11, right=0.95, bottom=0.09, top=0.97)\n",
                "\n",
                "plt.savefig(\"./output/Dark_ALP_massless_a_noFPF.pdf\")\n",
                "plt.show()"
            ]
        },
        {
            "attachments": {},
            "cell_type": "markdown",
            "metadata": {},
            "source": [
                "## FPF"
            ]
        },
        {
            "cell_type": "code",
            "execution_count": null,
            "metadata": {},
            "outputs": [],
            "source": [
                "setups = [\n",
                "    [ \"14TeV_FPF_FASER2_agamma.npy\", \"FPF FASER2 ($E_{a\\gamma}> 0.1$ TeV)\", \"black\", \"solid\", 0., 3 ],\n",
                "    [ \"14TeV_FPF_FASER2_aee.npy\", \"FPF FASER2 ($E_{ae^+e^-}> 0.1$ TeV)\", \"red\", \"solid\", 0., 3 ],\n",
                "    [ \"14TeV_FPF_FASERnu2_agamma.npy\", r\"FPF FASER$\\nu2$ ($E_{a\\gamma}> 1$ TeV)\", \"black\", \"dotted\", 0., 3 ],\n",
                "\n",
                "    [ \"14TeV_FPF_FASER2_agamma_secondary.npy\", \"FPF FASER2 (sec., $E_{a\\gamma}> 0.1$ TeV)\", \"black\", \"dashed\", 0., 3 ],\n",
                "    [ \"14TeV_FPF_FASERnu2_agamma_secondary.npy\", r\"FPF FASER$\\nu2$ (sec., $E_{a\\gamma}> 1$ TeV)\", \"black\", \"dashdot\", 0., 3 ],\n",
                "    [ \"14TeV_FPF_FASERnu2_scat.npy\", r\"FPF FASER$\\nu2$ ($e^-$ scat., dec. out.)\", \"gold\", \"solid\", 0., 20 ],\n",
                "    [ \"14TeV_FPF_FLARE_scat.npy\", r\"FPF FLArE ($e^-$ scat.)\", \"gold\", \"dotted\", 0., 20 ],\n",
                "\n",
                "    [ \"0.4TeV_SHiP_agamma.npy\", r\"SHiP ($E_{a \\gamma}> 2$ GeV)\", \"darkgreen\", \"dashed\", 0., 100 * 2 ],\n",
                "]"
            ]
        },
        {
            "cell_type": "code",
            "execution_count": null,
            "metadata": {},
            "outputs": [],
            "source": [
                "bounds = [\n",
                "    [\"Heavy_dark_photon_BaBar.txt\", \"BaBar\", 0.55, 2.45 * 10**-3, 0],\n",
                "    [\"0.069TeV_NuCal_agamma.npy.txt\", \"NuCal\", 0.012, 4.8e-1 * 10**-4, -20],\n",
                "    [\"0.4TeV_CHARM_agamma.npy.txt\", \"CHARM\", 0.012, 7.6e-1 * 10**-4, -20],\n",
                "]"
            ]
        },
        {
            "cell_type": "code",
            "execution_count": null,
            "metadata": {},
            "outputs": [],
            "source": [
                "projections = [\n",
                "    [ \"Heavy_dark_photon_Belle_2_50fb_inverse.txt\", \"blue\", \"Belle2\", 0.55, 9e-5, 0 ],\n",
                "]"
            ]
        },
        {
            "cell_type": "code",
            "execution_count": null,
            "metadata": {},
            "outputs": [],
            "source": [
                "plot, ax, ax2 = foresee.plot_reach(\n",
                "    setups=setups,\n",
                "    bounds=bounds,\n",
                "    projections=projections,\n",
                "    xlims=[0.001, 1],\n",
                "    ylims=[5*10**-7, 10**-2],\n",
                "    xlabel=r\"$m_{\\gamma^\\prime}$ [GeV]\",\n",
                "    ylabel=r\"$g_{a\\gamma\\gamma^\\prime}$ [1/GeV]\",\n",
                "    legendloc=(1.00, 0.28),\n",
                "    branchings=branchings,\n",
                "    figsize=(8, 8),\n",
                ")\n",
                "\n",
                "ax.text(0.020, 2.0 * 10**-6, \"SN1987\", alpha=0.3, color='blue', fontsize=12)\n",
                "low = np.loadtxt(\"model/lines/Heavy_dark_photon_Supernova_Emission_low.txt\")\n",
                "high = np.loadtxt(\"model/lines/Heavy_dark_photon_Supernova_Emission_high.txt\")\n",
                "x = np.geomspace(0.001, 1, num_of_couplings)\n",
                "y = np.interp(x, high[:, 0], high[:, 1])\n",
                "z = np.interp(x, low[:, 0], low[:, 1])\n",
                "ax.fill_between(x, y, z, where=y >= z, alpha=0.05, color='blue', interpolate=True, lw=1, zorder=-10)\n",
                "\n",
                "ax.text(0.00105, 3.0 * 10**-6, \"Longitudinal dark photon\", alpha=0.3, color='blue', rotation=-43, fontsize=12)\n",
                "tab = np.loadtxt(\"model/lines/Heavy_dark_photon_Longitudinal_Dark_Photons.txt\")\n",
                "ax.fill(tab[:, 0], tab[:, 1], alpha=0.05, color='blue', zorder=-10)\n",
                "\n",
                "ax.legend(frameon=1, loc='lower center', ncol=2, fontsize=12)\n",
                "plt.subplots_adjust(left=0.11, right=0.95, bottom=0.09, top=0.97)\n",
                "\n",
                "plot.savefig(\"./output/Dark_ALP_massless_a_FPF.pdf\")\n",
                "plot.show()"
            ]
        },
        {
            "cell_type": "code",
            "execution_count": null,
            "metadata": {},
            "outputs": [],
            "source": []
        }
    ],
    "metadata": {
        "kernelspec": {
            "display_name": "Python 3.9.12 ('base')",
            "language": "python",
            "name": "python3"
        },
        "language_info": {
            "codemirror_mode": {
                "name": "ipython",
                "version": 3
            },
            "file_extension": ".py",
            "mimetype": "text/x-python",
            "name": "python",
            "nbconvert_exporter": "python",
            "pygments_lexer": "ipython3",
            "version": "3.9.12"
        },
        "toc": {
            "base_numbering": 1,
            "nav_menu": {
                "height": "734px",
                "width": "465px"
            },
            "number_sections": true,
            "sideBar": true,
            "skip_h1_title": false,
            "title_cell": "Table of Contents",
            "title_sidebar": "Contents",
            "toc_cell": false,
            "toc_position": {},
            "toc_section_display": true,
            "toc_window_display": false
        },
        "vscode": {
            "interpreter": {
                "hash": "3067ead486e059ec00ffe7555bdb889e6e264a24dc711bf108106cc7baee8d5d"
            }
        }
    },
    "nbformat": 4,
    "nbformat_minor": 2
}
