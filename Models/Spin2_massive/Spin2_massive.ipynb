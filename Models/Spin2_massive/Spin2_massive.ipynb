{
    "cells": [
        {
            "attachments": {},
            "cell_type": "markdown",
            "metadata": {},
            "source": [
                "# FORESEE - Massive spin-2 mediator"
            ]
        },
        {
            "cell_type": "code",
            "execution_count": null,
            "metadata": {},
            "outputs": [],
            "source": [
                "import numpy as np\n",
                "import sys\n",
                "import os\n",
                "\n",
                "src_path = \"../../src\"\n",
                "sys.path.append(src_path)\n",
                "from foresee import Foresee, Utility, Model\n",
                "\n",
                "from main import sigma_gNucleus_G2Nucleus_analyt, sigma_G2Nucleus_gNucleus_analyt, sigma_ge_G2e_analyt, sigma_G2e_ge_analyt\n",
                "from constants import *\n",
                "\n",
                "\n",
                "from matplotlib import pyplot as plt\n",
                "import matplotlib.tri as tri\n",
                "\n",
                "plt.rc('text', usetex=True)\n",
                "plt.rcParams['figure.dpi'] = 400\n",
                "\n",
                "plt.rcParams['text.latex.preamble'] = [r\"\\usepackage{amsmath}\"]\n",
                "plt.rcParams['text.latex.preamble'] = [r\"\\usepackage{amssymb}\"]\n",
                "plt.rcParams['text.latex.preamble'] = [r\"\\usepackage{siunitx}\"]\n",
                "font = {'family': 'serif', 'serif': ['computer modern roman']}\n",
                "\n",
                "plt.rc('font', **font)\n",
                "\n",
                "SMALL_SIZE = 10\n",
                "MEDIUM_SIZE = 14\n",
                "BIGGER_SIZE = 16\n",
                "\n",
                "plt.rc('font', size=MEDIUM_SIZE)  # controls default text sizes\n",
                "plt.rc('axes', titlesize=MEDIUM_SIZE)  # fontsize of the axes title\n",
                "plt.rc('axes', labelsize=MEDIUM_SIZE)  # fontsize of the x and y labels\n",
                "plt.rc('xtick', labelsize=SMALL_SIZE)  # fontsize of the tick labels\n",
                "plt.rc('ytick', labelsize=SMALL_SIZE)  # fontsize of the tick labels\n",
                "plt.rc('legend', fontsize=SMALL_SIZE)  # legend fontsize\n",
                "plt.rc('figure', titlesize=BIGGER_SIZE)  # fontsize of the figure title"
            ]
        },
        {
            "cell_type": "markdown",
            "metadata": {},
            "source": [
                "## 1. Initialization "
            ]
        },
        {
            "cell_type": "code",
            "execution_count": null,
            "metadata": {},
            "outputs": [],
            "source": [
                "foresee = Foresee()\n",
                "\n",
                "energy = \"14\"\n",
                "modelname = \"Spin2_massive\"\n",
                "model = Model(modelname)\n",
                "\n",
                "nsample = 10\n",
                "\n",
                "num_of_masses_MATHUSLA = 21\n",
                "masses_MATHUSLA = [float(x) for x in ['{:0.4e}'.format(m) for m in np.logspace(-3, -0.5, num_of_masses_MATHUSLA)]]\n",
                "\n",
                "num_of_couplings = 32"
            ]
        },
        {
            "attachments": {},
            "cell_type": "markdown",
            "metadata": {},
            "source": [
                "#### Add mesons decays"
            ]
        },
        {
            "attachments": {},
            "cell_type": "markdown",
            "metadata": {},
            "source": [
                "The main production mode is Primakoff conversion - see model/direct/PrimakoffProduction.ipynb file for that mode"
            ]
        },
        {
            "cell_type": "markdown",
            "metadata": {},
            "source": [
                "\n",
                "\\begin{equation} \n",
                "\t\\begin{aligned}\n",
                "\t\t\\!\\!\\text{Spin-2:}\\\n",
                "\t\t\t&\\frac{{\\rm BR}_{V \\rightarrow \\gamma G_2}}{{\\rm BR}_{V \\rightarrow ee}} \\!=\\! \\frac{ g^2 \\left(M^2-m_G^2\\right)^3}{8 \\pi  \\alpha_{\\text{EM}} \\Lambda^2 M \\sqrt{M^2-4 m_e^2} \\left(M^2+2 m_e^2\\right)}, \\!\\! \\\\\n",
                "\t\\end{aligned}\n",
                "\\end{equation} "
            ]
        },
        {
            "cell_type": "code",
            "execution_count": null,
            "metadata": {},
            "outputs": [],
            "source": [
                "# V(p0) -> gamma(p1) + G2(p2)\n",
                "# p1**2 = m1**2 = 0\n",
                "# p2**2 = m2**2 = m_G2**2\n",
                "\n",
                "model.add_production_2bodydecay(\n",
                "    pid0 = \"113\", # rho\n",
                "    pid1 = \"0\",   # pid1 = 0 means mass_pid1 = m1 = mass_llp0;   mass_pid2 = m2 = mass = mass_llp1\n",
                "    br = \"4.72e-5 * coupling**2 * (1 * (m0**2 - m2**2)**3) / (8. * ALPHAEM * m0 * np.sqrt(m0**2 - 4*M_ELECTRON**2) * (m0**2 + 2*M_ELECTRON**2) * np.pi)\",\n",
                "    generator = \"EPOSLHC\",\n",
                "    energy = energy,\n",
                "    nsample = nsample,\n",
                ")\n",
                "\n",
                "model.add_production_2bodydecay(\n",
                "   pid0 = \"223\", # omega\n",
                "   pid1 = \"0\",\n",
                "   br = \"7.38e-5 * coupling**2 * (1 * (m0**2 - m2**2)**3) / (8. * ALPHAEM * m0 * np.sqrt(m0**2 - 4*M_ELECTRON**2) * (m0**2 + 2*M_ELECTRON**2) * np.pi)\",\n",
                "   generator = \"EPOSLHC\",\n",
                "   energy = energy,\n",
                "   nsample = nsample,\n",
                ")\n",
                "\n",
                "model.add_production_2bodydecay(\n",
                "   pid0 = \"333\", # phi\n",
                "   pid1 = \"0\",\n",
                "   br = \"2.98e-4 * coupling**2 * (1 * (m0**2 - m2**2)**3) / (8. * ALPHAEM * m0 * np.sqrt(m0**2 - 4*M_ELECTRON**2) * (m0**2 + 2*M_ELECTRON**2) * np.pi)\",\n",
                "   generator = \"EPOSLHC\",\n",
                "   energy = energy,\n",
                "   nsample = nsample,\n",
                ")\n",
                "\n",
                "model.add_production_2bodydecay(\n",
                "    pid0 = \"443\", # J/ψ\n",
                "    pid1 = \"0\",\n",
                "    br = \"0.0597 * coupling**2 * (1 * (m0**2 - m2**2)**3) / (8. * ALPHAEM * m0 * np.sqrt(m0**2 - 4*M_ELECTRON**2) * (m0**2 + 2*M_ELECTRON**2) * np.pi)\",\n",
                "    generator = \"Pythia8\",\n",
                "    energy = energy,\n",
                "    nsample = nsample,\n",
                ")\n",
                "\n",
                "model.add_production_2bodydecay(\n",
                "   pid0 = \"100443\", # \\psi(2S)\n",
                "   pid1 = \"0\",\n",
                "   br = \"0.00993 * coupling**2 * (1 * (m0**2 - m2**2)**3) / (8. * ALPHAEM * m0 * np.sqrt(m0**2 - 4*M_ELECTRON**2) * (m0**2 + 2*M_ELECTRON**2) * np.pi)\",\n",
                "   generator = \"Pythia8\",\n",
                "   energy = energy,\n",
                "   nsample = nsample,\n",
                ")\n",
                "\n",
                "# model.add_production_2bodydecay(\n",
                "#     pid0 = \"553\", # Υ ($\\Upsilon(1S)$)\n",
                "#     pid1 = \"0\",\n",
                "#     br = \"0.0238 * coupling**2 * (1 * (m0**2 - m2**2)**3) / (8. * ALPHAEM * m0 * np.sqrt(m0**2 - 4*M_ELECTRON**2) * (m0**2 + 2*M_ELECTRON**2) * np.pi)\",\n",
                "#     generator = \"Pythia8\",\n",
                "#     energy = energy,\n",
                "#     nsample = nsample,\n",
                "# )\n",
                "\n",
                "# model.add_production_2bodydecay(\n",
                "#    pid0 = \"100553\", # $\\Upsilon(2S)$\n",
                "#    pid1 = \"0\",\n",
                "#    br = \"0.0191 * coupling**2 * (1 * (m0**2 - m2**2)**3) / (8. * ALPHAEM * m0 * np.sqrt(m0**2 - 4*M_ELECTRON**2) * (m0**2 + 2*M_ELECTRON**2) * np.pi)\",\n",
                "#    generator = \"Pythia8\",\n",
                "#    energy = energy,\n",
                "#    nsample = nsample,\n",
                "# )\n",
                "\n",
                "# model.add_production_2bodydecay(\n",
                "#    pid0 = \"200553\", # $\\Upsilon(3S)$\n",
                "#    pid1 = \"0\",\n",
                "#    br = \"0.0218 * coupling**2 * (1 * (m0**2 - m2**2)**3) / (8. * ALPHAEM * m0 * np.sqrt(m0**2 - 4*M_ELECTRON**2) * (m0**2 + 2*M_ELECTRON**2) * np.pi)\",\n",
                "#    generator = \"Pythia8\",\n",
                "#    energy = energy,\n",
                "#    nsample = nsample,\n",
                "# )"
            ]
        },
        {
            "cell_type": "code",
            "execution_count": null,
            "metadata": {},
            "outputs": [],
            "source": [
                "model.set_ctau_1d(filename=\"model/ctau_G2.txt\", coupling_ref=1)\n",
                "\n",
                "branchings = [\n",
                "    [ \"BR_G2_gg\", \"black\", \"solid\", r\"$\\gamma\\gamma$\", 0.110, 0.8 ],  \n",
                "    [ \"BR_G2_ee\", \"red\", \"solid\",  r\"$e^+ e^-$\", 0.110, 0.056],\n",
                "    [ \"BR_G2_mumu\", \"green\", \"solid\",  r\"$\\mu^+ \\mu^-$\", 0.320, 0.056],\n",
                "]\n",
                "\n",
                "model.set_br_1d(\n",
                "    modes=[channel for channel, _, _, _, _, _ in branchings],\n",
                "    filenames=[ \"model/br/\" + channel + \".txt\" for channel, _, _, _, _, _ in branchings ], )\n",
                "\n",
                "\n",
                "foresee.set_model(model=model)"
            ]
        },
        {
            "cell_type": "code",
            "execution_count": null,
            "metadata": {},
            "outputs": [],
            "source": [
                "# # For Mathusla, there is no Primakoff production - only meson decays!\n",
                "# from timeit import default_timer as timer\n",
                "\n",
                "# count_total = num_of_masses_MATHUSLA\n",
                "# for count, mass in enumerate(masses_MATHUSLA):\n",
                "#     mass_llp0 = 0.0    # photon\n",
                "#     mass_llp1 = mass   # G2\n",
                "\n",
                "#     start = timer()\n",
                "#     foresee.get_llp_spectrum(mass=mass, mass_llp0=mass_llp0, coupling=1, detector=\"MATHUSLA\")\n",
                "#     end = timer()\n",
                "#     time_length_sec = end - start\n",
                "\n",
                "#     count += 1\n",
                "#     time_length_sec_total = time_length_sec * count_total\n",
                "#     print(\"%.2f%% done, \" % float(count/count_total * 100), \"approx. total run time : %.1f m, \" % float(time_length_sec_total/60), \"approx. waiting time: %.1f m\" % float(time_length_sec_total * (1 - count / count_total) / 60))"
            ]
        },
        {
            "cell_type": "code",
            "execution_count": null,
            "metadata": {},
            "outputs": [],
            "source": [
                "# For FASER, there is both Primakoff production and meson decays\n",
                "\n",
                "num_of_masses = 31\n",
                "masses = [float(x) for x in ['{:0.4e}'.format(m) for m in np.logspace(-3,1,num_of_masses)]]\n",
                "masses = np.array(masses)"
            ]
        },
        {
            "cell_type": "code",
            "execution_count": null,
            "metadata": {},
            "outputs": [],
            "source": [
                "model.add_production_direct(\n",
                "    label = \"Prim\",\n",
                "    energy = energy,\n",
                "    coupling_ref=1,\n",
                "    masses=masses,\n",
                ")"
            ]
        },
        {
            "cell_type": "code",
            "execution_count": null,
            "metadata": {},
            "outputs": [],
            "source": [
                "# from timeit import default_timer as timer\n",
                "\n",
                "# for count, mass in enumerate(masses):\n",
                "#     mass_llp0 = 0.0    # photon\n",
                "#     mass_llp1 = mass   # G2\n",
                "\n",
                "#     start = timer()\n",
                "\n",
                "#     foresee.get_llp_spectrum(mass=mass_llp1, mass_llp0=mass_llp0, coupling=1)\n",
                "    \n",
                "#     end = timer()\n",
                "#     time_length_sec = end - start\n",
                "\n",
                "#     count += 1\n",
                "#     time_length_sec_total = time_length_sec * num_of_masses\n",
                "#     print(\"%.2f%% done, \" % float(count / num_of_masses * 100), \"approx. total run time : %.1f m, \" % float(time_length_sec_total / 60), \"approx. waiting time: %.1f m\" % float(time_length_sec_total * (1 - count / num_of_masses) / 60))"
            ]
        },
        {
            "cell_type": "code",
            "execution_count": null,
            "metadata": {},
            "outputs": [],
            "source": [
                "# productions = [\n",
                "#     [\"Prim\"    , None     , \"green\"    ,    r\"Prim.\"    ,'-'     ],   \n",
                "#     # [\"111\"    , None      , \"firebrick\"   , r\"$\\pi$\"      ,'-'   ],   \n",
                "#     # [\"221\"    , None      , \"red\"         , r\"$\\eta$\" ,'-'       ],   \n",
                "#     # [\"331\"    , None , \"salmon\"      , r\"$\\eta'$\"  ,'-'     ],  \n",
                "#     [\"113\"    , None , \"dodgerblue\"  , r\"$\\rho$\"   ,'-'     ],   \n",
                "#     [\"223\"    , None , \"blue\"        , r\"$\\omega$\"   ,'-'   ],   \n",
                "#     [\"333\"    , None , \"deepskyblue\" , r\"$\\phi$\"   ,'-'     ],  \n",
                "#     [\"443\"    , None  , \"gold\"        , r\"$J/\\psi$\"  ,'-'    ],   \n",
                "#     [\"100443\" , None  , \"orange\"      , r\"$\\psi(2S)$\" ,'-'   ],  \n",
                "#     # [\"553\"    , None  , \"green\"       , r\"$\\Upsilon(1S)$\",'-'],   \n",
                "#     # [\"100553\" , None  , \"limegreen\"   , r\"$\\Upsilon(2S)$\",'-'],  \n",
                "#     # [\"200553\" , None  , \"lime\"        , r\"$\\Upsilon(3S)$\",'-'],  \n",
                "# ]\n",
                "\n",
                "\n",
                "# plot = foresee.plot_production(\n",
                "#     masses = masses, \n",
                "#     productions = productions,\n",
                "#     condition=\"True\", \n",
                "#     xlims=[0.03,3],\n",
                "#     ylims=[10**2,10**10], \n",
                "#     xlabel=r\"$m_G$ [GeV]\", \n",
                "#     ylabel=r\"Production rate $\\sigma \\times g_\\gamma^2$ [pb]\",\n",
                "#     legendloc=(1.02,1.02),\n",
                "#     fs_label=12,\n",
                "#     dolegend=True,\n",
                "# )\n",
                "\n",
                "\n",
                "# plot.subplots_adjust(left=0.12, right=0.96, bottom=0.12, top=0.97)\n",
                "# plot.savefig(\"output/G2_Production_channels_FASER.pdf\")\n",
                "# plot.show()"
            ]
        },
        {
            "attachments": {},
            "cell_type": "markdown",
            "metadata": {},
            "source": [
                "### Primary production"
            ]
        },
        {
            "cell_type": "code",
            "execution_count": null,
            "metadata": {},
            "outputs": [],
            "source": [
                "luminosity, distance = 3000, 480 - 140\n",
                "setup, selection, channels, length = \"FASER2_gg\", \"np.sqrt(x.x**2 + x.y**2)< 1*340/480\", [ \"BR_G2_gg\" ], 5\n",
                "foresee.set_detector(length=length,\n",
                "                     selection=selection,\n",
                "                     channels=channels,\n",
                "                     distance=distance,\n",
                "                     luminosity=luminosity)\n",
                "\n",
                "\n",
                "list_nevents = []\n",
                "for mass in masses:\n",
                "    couplings, _, nevents, _, _ = foresee.get_events(mass=mass, energy=energy, couplings=np.logspace(-8, -2, num_of_couplings))\n",
                "    list_nevents.append(nevents)\n",
                "np.save(\"model/results/\" + energy + \"TeV_\" + setup + \".npy\", [masses, couplings, list_nevents])"
            ]
        },
        {
            "cell_type": "code",
            "execution_count": null,
            "metadata": {},
            "outputs": [],
            "source": [
                "luminosity, distance = 3000, 480 - 140\n",
                "setup, selection, channels, length = \"FASER2_ee\", \"np.sqrt(x.x**2 + x.y**2)< 1*340./480.\", [ \"BR_G2_ee\" ], 5\n",
                "foresee.set_detector(length=length,\n",
                "                     selection=selection,\n",
                "                     channels=channels,\n",
                "                     distance=distance,\n",
                "                     luminosity=luminosity)\n",
                "\n",
                "\n",
                "list_nevents = []\n",
                "for mass in masses:\n",
                "    couplings, _, nevents, _, _ = foresee.get_events(mass=mass, energy=energy, couplings=np.logspace(-8, -2, num_of_couplings))\n",
                "    list_nevents.append(nevents)\n",
                "np.save(\"model/results/\" + energy + \"TeV_\" + setup + \".npy\", [masses, couplings, list_nevents])"
            ]
        },
        {
            "cell_type": "code",
            "execution_count": null,
            "metadata": {},
            "outputs": [],
            "source": [
                "luminosity, distance = 3000, 480 - 140\n",
                "setup, selection, channels, length = \"FASER2_mumu\", \"np.sqrt(x.x**2 + x.y**2)< 1*340./480.\", [ \"BR_G2_mumu\" ], 5\n",
                "foresee.set_detector(length=length,\n",
                "                     selection=selection,\n",
                "                     channels=channels,\n",
                "                     distance=distance,\n",
                "                     luminosity=luminosity)\n",
                "\n",
                "\n",
                "list_nevents = []\n",
                "for mass in masses:\n",
                "    couplings, _, nevents, _, _ = foresee.get_events(mass=mass, energy=energy, couplings=np.logspace(-8, -2, num_of_couplings))\n",
                "    list_nevents.append(nevents)\n",
                "np.save(\"model/results/\" + energy + \"TeV_\" + setup + \".npy\", [masses, couplings, list_nevents])"
            ]
        },
        {
            "cell_type": "code",
            "execution_count": null,
            "metadata": {},
            "outputs": [],
            "source": [
                "luminosity, distance = 3000, 480 - 140 - 2  # L=2m\n",
                "setup, selection, channels, length = \"FASERnu2_gg\", \"np.sqrt(x.x**2 + x.y**2)< 0.25*340/480\", [ \"BR_G2_gg\" ], 2\n",
                "foresee.set_detector(length=length,\n",
                "                     selection=selection,\n",
                "                     channels=channels,\n",
                "                     distance=distance,\n",
                "                     luminosity=luminosity)\n",
                "\n",
                "\n",
                "list_nevents = []\n",
                "for mass in masses:\n",
                "    couplings, _, nevents, _, _ = foresee.get_events( mass=mass, energy=energy, couplings=np.logspace(-8, -2, num_of_couplings), preselectioncuts=\"th<0.01 and p>1000\")\n",
                "    list_nevents.append(nevents)\n",
                "\n",
                "np.save(\"model/results/\" + energy + \"TeV_\" + setup + \".npy\", [masses, couplings, list_nevents])"
            ]
        },
        {
            "cell_type": "code",
            "execution_count": null,
            "metadata": {},
            "outputs": [],
            "source": [
                "luminosity, distance = 3000, 480 - 140 - 2\n",
                "setup, selection, channels, length = \"FASERnu2_ee\", \"np.sqrt(x.x**2 + x.y**2)< 0.25*340./480.\", [ \"BR_G2_ee\" ], 2\n",
                "foresee.set_detector(length=length,\n",
                "                     selection=selection,\n",
                "                     channels=channels,\n",
                "                     distance=distance,\n",
                "                     luminosity=luminosity)\n",
                "\n",
                "\n",
                "list_nevents = []\n",
                "for mass in masses:\n",
                "    couplings, _, nevents, _, _ = foresee.get_events(mass=mass, energy=energy, couplings=np.logspace(-8, -2, num_of_couplings), preselectioncuts=\"th<0.01 and p>1000\")\n",
                "    list_nevents.append(nevents)\n",
                "np.save(\"model/results/\" + energy + \"TeV_\" + setup + \".npy\", [masses, couplings, list_nevents])"
            ]
        },
        {
            "cell_type": "code",
            "execution_count": null,
            "metadata": {},
            "outputs": [],
            "source": [
                "luminosity, distance = 3000, 480 - 140 - 2  # L=2m\n",
                "setup, selection, channels, length = \"FASERnu2_photon_conversion\", \"np.sqrt(x.x**2 + x.y**2)< 0.25*340/480\", [ \"BR_G2_gg\" ], 2\n",
                "foresee.set_detector(length=length,\n",
                "                     selection=selection,\n",
                "                     channels=channels,\n",
                "                     distance=distance,\n",
                "                     luminosity=luminosity)\n",
                "\n",
                "\n",
                "list_nevents = []\n",
                "for mass in masses:\n",
                "    couplings, _, nevents, _, _ = foresee.get_events_secondary_NOFPF(\n",
                "        mass=mass,\n",
                "        energy=energy,\n",
                "        couplings=np.logspace(-8, -2, num_of_couplings),\n",
                "        preselectioncuts=\"th<0.01 and p>1000\",\n",
                "        which_LLP=\"llp1\",\n",
                "        sign=\"photon_conversion\",  \n",
                "        coup_ref=1,        \n",
                "        m1=mass,\n",
                "        m3=0.0,\n",
                "        Z=Z_TUNGSTEN,\n",
                "        A=A_TUNGSTEN,\n",
                "        RHO=RHO_TUNGSTEN,\n",
                "        sigma_secondary_LLP2_LLP3=sigma_G2Nucleus_gNucleus_analyt,\n",
                "    )\n",
                "    list_nevents.append(nevents)\n",
                "np.save(\"model/results/\" + energy + \"TeV_\" + setup + \".npy\", [masses, couplings, list_nevents])"
            ]
        },
        {
            "attachments": {},
            "cell_type": "markdown",
            "metadata": {},
            "source": [
                "- MATHUSLA setup with decay  $G_2 \\to e^+ e^-$"
            ]
        },
        {
            "cell_type": "code",
            "execution_count": null,
            "metadata": {},
            "outputs": [],
            "source": [
                "num_of_couplings_MATHUSLA = 99\n",
                "\n",
                "luminosity = 3000\n",
                "setup, channels = \"MATHUSLA_ee\", [\"BR_G2_ee\"]\n",
                "\n",
                "foresee.set_detector( length=0.0, channels=channels, distance=0.0, luminosity=luminosity)  # for MATHUSLA, we need to modify the foresee code\n",
                "\n",
                "list_nevents = []\n",
                "for mass in masses_MATHUSLA[::1]:\n",
                "    couplings, _, nevents, _, _ = foresee.get_events(mass=mass, energy=energy, couplings=np.logspace(-6, -3, num_of_couplings_MATHUSLA), preselectioncuts=\"p>2\", detector=\"MATHUSLA\")\n",
                "    list_nevents.append(nevents)\n",
                "np.save(\"model/results/\" + energy + \"TeV_\" + setup + \".npy\", [masses_MATHUSLA[::1], couplings, list_nevents])"
            ]
        },
        {
            "cell_type": "markdown",
            "metadata": {},
            "source": [
                "### FPF"
            ]
        },
        {
            "cell_type": "code",
            "execution_count": null,
            "metadata": {},
            "outputs": [],
            "source": [
                "luminosity, distance = 3000, 620 - 140\n",
                "setup, selection, channels, length = \"FPF_FASER2_gg\", \"np.sqrt(x.x**2 + x.y**2)< 1*480/620\", [ \"BR_G2_gg\" ], 25\n",
                "foresee.set_detector(length=length,\n",
                "                     selection=selection,\n",
                "                     channels=channels,\n",
                "                     distance=distance,\n",
                "                     luminosity=luminosity)\n",
                "\n",
                "\n",
                "list_nevents = []\n",
                "for mass in masses:\n",
                "    couplings, _, nevents, _, _ = foresee.get_events(mass=mass, energy=energy, couplings=np.logspace(-8, -2, num_of_couplings))\n",
                "    list_nevents.append(nevents)\n",
                "np.save(\"model/results/\" + energy + \"TeV_\" + setup + \".npy\", [masses, couplings, list_nevents])"
            ]
        },
        {
            "cell_type": "code",
            "execution_count": null,
            "metadata": {},
            "outputs": [],
            "source": [
                "luminosity, distance = 3000, 620 - 140\n",
                "setup, selection, channels, length = \"FPF_FASER2_ee\", \"np.sqrt(x.x**2 + x.y**2)< 1*480/620\", [ \"BR_G2_ee\" ], 25\n",
                "foresee.set_detector(length=length,\n",
                "                     selection=selection,\n",
                "                     channels=channels,\n",
                "                     distance=distance,\n",
                "                     luminosity=luminosity)\n",
                "\n",
                "\n",
                "list_nevents = []\n",
                "for mass in masses:\n",
                "    couplings, _, nevents, _, _ = foresee.get_events(mass=mass, energy=energy, couplings=np.logspace(-8, -2, num_of_couplings))\n",
                "    list_nevents.append(nevents)\n",
                "np.save(\"model/results/\" + energy + \"TeV_\" + setup + \".npy\", [masses, couplings, list_nevents])"
            ]
        },
        {
            "cell_type": "code",
            "execution_count": null,
            "metadata": {},
            "outputs": [],
            "source": [
                "luminosity, distance = 3000, 620 - 140\n",
                "setup, selection, channels, length = \"FPF_FASER2_mumu\", \"np.sqrt(x.x**2 + x.y**2)< 1*480/620\", [ \"BR_G2_mumu\" ], 25\n",
                "foresee.set_detector(length=length,\n",
                "                     selection=selection,\n",
                "                     channels=channels,\n",
                "                     distance=distance,\n",
                "                     luminosity=luminosity)\n",
                "\n",
                "\n",
                "list_nevents = []\n",
                "for mass in masses:\n",
                "    couplings, _, nevents, _, _ = foresee.get_events(mass=mass, energy=energy, couplings=np.logspace(-8, -2, num_of_couplings))\n",
                "    list_nevents.append(nevents)\n",
                "np.save(\"model/results/\" + energy + \"TeV_\" + setup + \".npy\", [masses, couplings, list_nevents])"
            ]
        },
        {
            "cell_type": "code",
            "execution_count": null,
            "metadata": {},
            "outputs": [],
            "source": [
                "luminosity, distance = 3000, 620 - 140 - 8  # L=8m\n",
                "setup, selection, channels, length = \"FPF_FASERnu2_gg\", \"np.sqrt(x.x**2 + x.y**2)< 0.2*472/620\", [ \"BR_G2_gg\" ], 8\n",
                "foresee.set_detector(length=length,\n",
                "                     selection=selection,\n",
                "                     channels=channels,\n",
                "                     distance=distance,\n",
                "                     luminosity=luminosity)\n",
                "\n",
                "\n",
                "list_nevents = []\n",
                "for mass in masses:\n",
                "    couplings, _, nevents, _, _ = foresee.get_events( mass=mass, energy=energy, couplings=np.logspace(-8, -2, num_of_couplings), preselectioncuts=\"th<0.01 and p>1000\")\n",
                "    list_nevents.append(nevents)\n",
                "\n",
                "np.save(\"model/results/\" + energy + \"TeV_\" + setup + \".npy\", [masses, couplings, list_nevents])"
            ]
        },
        {
            "cell_type": "code",
            "execution_count": null,
            "metadata": {},
            "outputs": [],
            "source": [
                "luminosity, distance = 3000, 620 - 140 - 8  # L=8m\n",
                "setup, selection, channels, length = \"FPF_FASERnu2_ee\", \"np.sqrt(x.x**2 + x.y**2)< 0.2*472/620\", [ \"BR_G2_ee\" ], 8\n",
                "foresee.set_detector(length=length,\n",
                "                     selection=selection,\n",
                "                     channels=channels,\n",
                "                     distance=distance,\n",
                "                     luminosity=luminosity)\n",
                "\n",
                "\n",
                "list_nevents = []\n",
                "for mass in masses:\n",
                "    couplings, _, nevents, _, _ = foresee.get_events( mass=mass, energy=energy, couplings=np.logspace(-8, -2, num_of_couplings), preselectioncuts=\"th<0.01 and p>1000\")\n",
                "    list_nevents.append(nevents)\n",
                "\n",
                "np.save(\"model/results/\" + energy + \"TeV_\" + setup + \".npy\", [masses, couplings, list_nevents])"
            ]
        },
        {
            "cell_type": "code",
            "execution_count": null,
            "metadata": {},
            "outputs": [],
            "source": []
        },
        {
            "cell_type": "code",
            "execution_count": null,
            "metadata": {},
            "outputs": [],
            "source": [
                "luminosity, distance = 3000, 620 - 140 - 8  # L=8m\n",
                "setup, selection, channels, length = \"FPF_FASERnu2_photon_conversion\", \"np.sqrt(x.x**2 + x.y**2)< 0.2*472/620\", [ \"BR_G2_gg\" ], 8\n",
                "foresee.set_detector(length=length,\n",
                "                     selection=selection,\n",
                "                     channels=channels,\n",
                "                     distance=distance,\n",
                "                     luminosity=luminosity)\n",
                "\n",
                "\n",
                "list_nevents = []\n",
                "for mass in masses:\n",
                "    couplings, _, nevents, _, _ = foresee.get_events_secondary_NOFPF(\n",
                "        mass=mass,\n",
                "        energy=energy,\n",
                "        couplings=np.logspace(-8, -2, num_of_couplings),\n",
                "        preselectioncuts=\"th<0.01 and p>1000\",\n",
                "        which_LLP=\"llp1\",\n",
                "        sign=\"photon_conversion\",  \n",
                "        coup_ref=1,        \n",
                "        m1=mass,\n",
                "        m3=0.0,\n",
                "        Z=Z_TUNGSTEN,\n",
                "        A=A_TUNGSTEN,\n",
                "        RHO=RHO_TUNGSTEN,\n",
                "        sigma_secondary_LLP2_LLP3=sigma_G2Nucleus_gNucleus_analyt,\n",
                "    )\n",
                "    list_nevents.append(nevents)\n",
                "\n",
                "np.save(\"model/results/\" + energy + \"TeV_\" + setup + \".npy\", [masses, couplings, list_nevents])"
            ]
        },
        {
            "cell_type": "code",
            "execution_count": null,
            "metadata": {},
            "outputs": [],
            "source": [
                "luminosity, distance = 3000, 600\n",
                "setup, selection, channels, length = \"FPF_FLARE_photon_conversion\", \"np.sqrt(x.x**2 + x.y**2)< 0.5\", [ \"BR_G2_gg\" ], 7\n",
                "foresee.set_detector(length=length,\n",
                "                     selection=selection,\n",
                "                     channels=channels,\n",
                "                     distance=distance,\n",
                "                     luminosity=luminosity)\n",
                "\n",
                "\n",
                "list_nevents = []\n",
                "for mass in masses:\n",
                "    couplings, _, nevents, _, _ = foresee.get_events_secondary_FPF(\n",
                "        mass=mass,\n",
                "        energy=energy,\n",
                "        couplings=np.logspace(-8, -2, num_of_couplings),\n",
                "        preselectioncuts=\"th<0.01 and p>1\",\n",
                "        which_LLP=\"llp1\",\n",
                "        sign=\"photon_conversion\",  \n",
                "        coup_ref=1,\n",
                "        m1=0.0,\n",
                "        m3=mass,\n",
                "        Z=Z_LAr,\n",
                "        A=A_LAr,\n",
                "        RHO=RHO_LAr,\n",
                "        sigma_secondary_LLP2_LLP3=sigma_G2Nucleus_gNucleus_analyt,\n",
                "    )\n",
                "    list_nevents.append(nevents)\n",
                "np.save(\"model/results/\" + energy + \"TeV_\" + setup + \".npy\", [masses, couplings, list_nevents])"
            ]
        },
        {
            "cell_type": "markdown",
            "metadata": {},
            "source": [
                "## 3. Plot the Results"
            ]
        },
        {
            "cell_type": "code",
            "execution_count": null,
            "metadata": {},
            "outputs": [],
            "source": [
                "setups = [\n",
                "    [ \"14TeV_FASER2_gg.npy\", r\"FASER2 ($E_{\\gamma\\gamma}> 0.1$ TeV)\", \"black\", \"solid\", 0., 3.0 ], \n",
                "    [ \"14TeV_FASER2_ee.npy\", r\"FASER2 ($E_{e^+ e^-}> 0.1$ TeV)\", \"red\", \"solid\", 0., 3.0 ], \n",
                "    [ \"14TeV_FASER2_mumu.npy\", r\"FASER2 ($E_{\\mu^+ \\mu^-}> 0.1$ TeV)\", \"green\", \"solid\", 0., 3.0 ], \n",
                "\n",
                "    [ \"14TeV_FASERnu2_photon_conversion.npy\", r\"FASER$\\nu$2 ($G_2 \\to \\gamma$, $E_{\\gamma}> 1$ TeV)\", \"gold\", \"solid\", 0., 3 ],\n",
                "\n",
                "    [ \"14TeV_MATHUSLA_ee.npy\", r\"MATHUSLA ($E_{e^+ e^-}> 2$ GeV)\", \"brown\", \"solid\", 0., 3],\n",
                "    \n",
                "    [ \"0.4TeV_SHiP_gg.npy\", r\"SHiP ($E_{\\gamma \\gamma}> 2$ GeV)\", \"darkgreen\", \"dashed\", 0., 3 * 2 ],\n",
                "\n",
                "    [ \"0.4TeV_NA62_gg.npy\", r\"NA62 ($E_{\\gamma \\gamma}> 3$ GeV)\", \"orange\", \"dashed\", 0., 3.6],\n",
                "\n",
                "    [ \"0.12TeV_SeaQuest_gg.npy\", r\"SeaQuest ($E_{\\gamma \\gamma}> 3$ GeV)\", \"yellow\", \"dashed\", 0., 3.6],\n",
                "]"
            ]
        },
        {
            "cell_type": "code",
            "execution_count": null,
            "metadata": {},
            "outputs": [],
            "source": [
                "bounds = [\n",
                "    [\"BABAR.txt\", \"BaBar\", 0.60215, 3.3e-5, 0],\n",
                "    [\"BABAR_invisible.txt\", \"BaBar (inv.)\", 0.60215, 25.0e-5, 0],\n",
                "    [\"0.069TeV_NuCal_gg.npy.txt\", \"NuCal\", 0.15, 1.99e-6, -22],\n",
                "    [\"0.4TeV_CHARM_gg.npy.txt\", \"CHARM\", 0.059, 4.7e-6, -23],\n",
                "]"
            ]
        },
        {
            "cell_type": "markdown",
            "metadata": {},
            "source": [
                "We then specify other projected sensitivitities (filename in model/bounds directory, color, label, label position x, label position y, label rotation)"
            ]
        },
        {
            "cell_type": "code",
            "execution_count": null,
            "metadata": {},
            "outputs": [],
            "source": [
                "projections = [\n",
                "    [ \"M3.txt\", \"forestgreen\", \"M3 (inv.)\", 1.00285, 16e-5, 0 ],\n",
                "    [ \"LDMX.txt\", \"blue\", \"LDMX (inv.)\", 1.00285, 3.15e-5, 0 ],\n",
                "    [ \"NA64mu.txt\", \"red\", \"NA64mu (inv.)\", 1.00285, 2e-5, 0 ],\n",
                "]"
            ]
        },
        {
            "cell_type": "markdown",
            "metadata": {},
            "source": [
                "Finally, we can plot everything using `foresee.plot_reach()`. It returns a matplotlib instance, to which we can add further lines and which we can show or save. Below, we add the dark matter relict target line for a specific benchmark."
            ]
        },
        {
            "cell_type": "code",
            "execution_count": null,
            "metadata": {},
            "outputs": [],
            "source": [
                "plt, ax, ax2 = foresee.plot_reach(\n",
                "    setups=setups,\n",
                "    bounds=bounds,\n",
                "    projections=projections,\n",
                "    xlims=[1e-2, 3],\n",
                "    ylims=[3*10**-8, 10**-3],\n",
                "    xlabel=r\"$m_{G}$ [GeV]\",\n",
                "    ylabel=r\"$g_{\\gamma \\gamma}$\\  [1/GeV]\",\n",
                "    legendloc=(1.00, 0.28),\n",
                "    branchings=branchings,\n",
                "    figsize=(8, 8),\n",
                "    save_file=True\n",
                ")\n",
                "\n",
                "ax.legend(frameon=1, loc='lower center', ncol=2, fontsize=12)\n",
                "plt.subplots_adjust(left=0.11, right=0.99, bottom=0.10, top=0.97)\n",
                "\n",
                "plt.savefig(\"./output/G2_noFPF.pdf\")\n",
                "plt.show()"
            ]
        },
        {
            "attachments": {},
            "cell_type": "markdown",
            "metadata": {},
            "source": [
                "###  FPF"
            ]
        },
        {
            "cell_type": "markdown",
            "metadata": {},
            "source": [
                "Now let's plot the results. We first specify all detector setups for which we want to show result (filename in model/results directory, label, color, linestyle, opacity alpha for filled contours, required number of events)."
            ]
        },
        {
            "cell_type": "code",
            "execution_count": null,
            "metadata": {},
            "outputs": [],
            "source": [
                "setups = [\n",
                "    [ \"14TeV_FPF_FASER2_gg.npy\", r\"FPF FASER2 ($E_{\\gamma\\gamma}> 0.1$ TeV)\", \"black\", \"solid\", 0., 3.0 ], \n",
                "    [ \"14TeV_FPF_FASER2_ee.npy\", r\"FPF FASER2 ($E_{e^+ e^-}> 0.1$ TeV)\", \"red\", \"solid\", 0., 3.0 ], \n",
                "    [ \"14TeV_FPF_FASER2_mumu.npy\", r\"FPF FASER2 ($E_{\\mu^+ \\mu^-}> 0.1$ TeV)\", \"green\", \"solid\", 0., 3.0 ], \n",
                "\n",
                "    [ \"14TeV_FPF_FASERnu2_photon_conversion.npy\", r\"FPF FASER$\\nu$2 ($G_2 \\to \\gamma$, $E_{\\gamma}> 1$ TeV)\", \"gold\", \"solid\", 0., 3 ],\n",
                "\n",
                "    [ \"14TeV_FPF_FLARE_photon_conversion.npy\", r\"FLArE ($G_2 \\to \\gamma$, $E_{\\gamma}> 1$ GeV)\", \"gold\", \"dashed\", 0., 3 ],\n",
                "\n",
                "    [ \"0.4TeV_SHiP_gg.npy\", r\"SHiP ($E_{\\gamma \\gamma}> 2$ GeV)\", \"darkgreen\", \"dashed\", 0., 3 * 2 ],\n",
                "\n",
                "    [ \"0.4TeV_NA62_gg.npy\", r\"NA62 ($E_{\\gamma \\gamma}> 3$ GeV)\", \"orange\", \"dashed\", 0., 3.6],\n",
                "\n",
                "    [ \"0.12TeV_SeaQuest_gg.npy\", r\"SeaQuest ($E_{\\gamma \\gamma}> 3$ GeV)\", \"yellow\", \"dashed\", 0., 3.6],\n",
                "]"
            ]
        },
        {
            "cell_type": "code",
            "execution_count": null,
            "metadata": {},
            "outputs": [],
            "source": [
                "bounds = [\n",
                "    [\"BABAR.txt\", \"BaBar\", 0.60215, 3.3e-5, 0],\n",
                "    [\"BABAR_invisible.txt\", \"BaBar (inv.)\", 0.60215, 25.0e-5, 0],\n",
                "    [\"0.069TeV_NuCal_gg.npy.txt\", \"NuCal\", 0.15, 1.99e-6, -22],\n",
                "    [\"0.4TeV_CHARM_gg.npy.txt\", \"CHARM\", 0.059, 4.7e-6, -23],\n",
                "]"
            ]
        },
        {
            "cell_type": "markdown",
            "metadata": {},
            "source": [
                "We then specify other projected sensitivitities (filename in model/bounds directory, color, label, label position x, label position y, label rotation)"
            ]
        },
        {
            "cell_type": "code",
            "execution_count": null,
            "metadata": {},
            "outputs": [],
            "source": [
                "projections = [\n",
                "    [ \"M3.txt\", \"forestgreen\", \"M3 (inv.)\", 1.00285, 16e-5, 0 ],\n",
                "    [ \"LDMX.txt\", \"blue\", \"LDMX (inv.)\", 1.00285, 3.15e-5, 0 ],\n",
                "    [ \"NA64mu.txt\", \"red\", \"NA64mu (inv.)\", 1.00285, 2e-5, 0 ],\n",
                "]"
            ]
        },
        {
            "cell_type": "markdown",
            "metadata": {},
            "source": [
                "Finally, we can plot everything using `foresee.plot_reach()`. It returns a matplotlib instance, to which we can add further lines and which we can show or save. Below, we add the dark matter relict target line for a specific benchmark."
            ]
        },
        {
            "cell_type": "code",
            "execution_count": null,
            "metadata": {},
            "outputs": [],
            "source": [
                "plt, ax, ax2 = foresee.plot_reach(\n",
                "    setups=setups,\n",
                "    bounds=bounds,\n",
                "    projections=projections,\n",
                "    xlims=[1e-2, 3],\n",
                "    ylims=[3*10**-8, 10**-3],\n",
                "    xlabel=r\"$m_{G}$ [GeV]\",\n",
                "    ylabel=r\"$g_{\\gamma \\gamma}$\\  [1/GeV]\",\n",
                "    legendloc=(1.00, 0.28),\n",
                "    branchings=branchings,\n",
                "    figsize=(8, 8),\n",
                "    save_file=True\n",
                ")\n",
                "\n",
                "ax.legend(frameon=1, loc='lower center', ncol=2, fontsize=12)\n",
                "plt.subplots_adjust(left=0.11, right=0.99, bottom=0.10, top=0.97)\n",
                "\n",
                "plt.savefig(\"./output/G2_FPF.pdf\")\n",
                "plt.show()"
            ]
        }
    ],
    "metadata": {
        "kernelspec": {
            "display_name": "base",
            "language": "python",
            "name": "python3"
        },
        "language_info": {
            "codemirror_mode": {
                "name": "ipython",
                "version": 3
            },
            "file_extension": ".py",
            "mimetype": "text/x-python",
            "name": "python",
            "nbconvert_exporter": "python",
            "pygments_lexer": "ipython3",
            "version": "3.9.12"
        },
        "toc": {
            "base_numbering": 1,
            "nav_menu": {
                "height": "734px",
                "width": "465px"
            },
            "number_sections": true,
            "sideBar": true,
            "skip_h1_title": false,
            "title_cell": "Table of Contents",
            "title_sidebar": "Contents",
            "toc_cell": false,
            "toc_position": {},
            "toc_section_display": true,
            "toc_window_display": false
        },
        "vscode": {
            "interpreter": {
                "hash": "3067ead486e059ec00ffe7555bdb889e6e264a24dc711bf108106cc7baee8d5d"
            }
        }
    },
    "nbformat": 4,
    "nbformat_minor": 2
}
