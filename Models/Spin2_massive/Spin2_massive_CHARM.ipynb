{
    "cells": [
        {
            "attachments": {},
            "cell_type": "markdown",
            "metadata": {},
            "source": [
                "# FORESEE - Massive spin-2 mediator"
            ]
        },
        {
            "cell_type": "code",
            "execution_count": 1,
            "metadata": {},
            "outputs": [
                {
                    "name": "stderr",
                    "output_type": "stream",
                    "text": [
                        "/usr/local/anaconda3/lib/python3.9/site-packages/scipy/__init__.py:146: UserWarning: A NumPy version >=1.16.5 and <1.23.0 is required for this version of SciPy (detected version 1.23.5\n",
                        "  warnings.warn(f\"A NumPy version >={np_minversion} and <{np_maxversion}\"\n",
                        "/var/folders/n1/6dc0crm51sg3856h4052rs9r0000gq/T/ipykernel_37538/276799012.py:19: MatplotlibDeprecationWarning: Support for setting an rcParam that expects a str value to a non-str value is deprecated since 3.5 and support will be removed two minor releases later.\n",
                        "  plt.rcParams['text.latex.preamble'] = [r\"\\usepackage{amsmath}\"]\n",
                        "/var/folders/n1/6dc0crm51sg3856h4052rs9r0000gq/T/ipykernel_37538/276799012.py:20: MatplotlibDeprecationWarning: Support for setting an rcParam that expects a str value to a non-str value is deprecated since 3.5 and support will be removed two minor releases later.\n",
                        "  plt.rcParams['text.latex.preamble'] = [r\"\\usepackage{amssymb}\"]\n",
                        "/var/folders/n1/6dc0crm51sg3856h4052rs9r0000gq/T/ipykernel_37538/276799012.py:21: MatplotlibDeprecationWarning: Support for setting an rcParam that expects a str value to a non-str value is deprecated since 3.5 and support will be removed two minor releases later.\n",
                        "  plt.rcParams['text.latex.preamble'] = [r\"\\usepackage{siunitx}\"]\n"
                    ]
                }
            ],
            "source": [
                "import numpy as np\n",
                "import sys\n",
                "import os\n",
                "\n",
                "src_path = \"../../src\"\n",
                "sys.path.append(src_path)\n",
                "from foresee import Foresee, Utility, Model\n",
                "\n",
                "from main import sigma_gNucleus_G2Nucleus_analyt, sigma_G2Nucleus_gNucleus_analyt, sigma_ge_G2e_analyt, sigma_G2e_ge_analyt\n",
                "from constants import *\n",
                "\n",
                "\n",
                "from matplotlib import pyplot as plt\n",
                "import matplotlib.tri as tri\n",
                "\n",
                "plt.rc('text', usetex=True)\n",
                "plt.rcParams['figure.dpi'] = 400\n",
                "\n",
                "plt.rcParams['text.latex.preamble'] = [r\"\\usepackage{amsmath}\"]\n",
                "plt.rcParams['text.latex.preamble'] = [r\"\\usepackage{amssymb}\"]\n",
                "plt.rcParams['text.latex.preamble'] = [r\"\\usepackage{siunitx}\"]\n",
                "font = {'family': 'serif', 'serif': ['computer modern roman']}\n",
                "\n",
                "plt.rc('font', **font)\n",
                "\n",
                "SMALL_SIZE = 10\n",
                "MEDIUM_SIZE = 14\n",
                "BIGGER_SIZE = 16\n",
                "\n",
                "plt.rc('font', size=MEDIUM_SIZE)  # controls default text sizes\n",
                "plt.rc('axes', titlesize=MEDIUM_SIZE)  # fontsize of the axes title\n",
                "plt.rc('axes', labelsize=MEDIUM_SIZE)  # fontsize of the x and y labels\n",
                "plt.rc('xtick', labelsize=SMALL_SIZE)  # fontsize of the tick labels\n",
                "plt.rc('ytick', labelsize=SMALL_SIZE)  # fontsize of the tick labels\n",
                "plt.rc('legend', fontsize=SMALL_SIZE)  # legend fontsize\n",
                "plt.rc('figure', titlesize=BIGGER_SIZE)  # fontsize of the figure title"
            ]
        },
        {
            "cell_type": "markdown",
            "metadata": {},
            "source": [
                "## 1. Initialization "
            ]
        },
        {
            "cell_type": "code",
            "execution_count": 2,
            "metadata": {},
            "outputs": [],
            "source": [
                "foresee = Foresee()\n",
                "\n",
                "energy = \"0.4\"\n",
                "modelname = \"Spin2_massive\"\n",
                "model = Model(modelname)"
            ]
        },
        {
            "cell_type": "code",
            "execution_count": 3,
            "metadata": {},
            "outputs": [],
            "source": [
                "num_of_masses = 21\n",
                "\n",
                "masses = [float(x) for x in ['{:0.4e}'.format(m) for m in np.logspace(-3,-0.5,21)]]\n",
                "masses = np.array(masses)\n",
                "\n",
                "\n",
                "nsample = 100"
            ]
        },
        {
            "attachments": {},
            "cell_type": "markdown",
            "metadata": {},
            "source": [
                "#### Add mesons decays"
            ]
        },
        {
            "cell_type": "code",
            "execution_count": 4,
            "metadata": {},
            "outputs": [],
            "source": [
                "# # V(p0) -> gamma(p1) + G2(p2)\n",
                "# # p1**2 = m1**2 = 0\n",
                "# # p2**2 = m2**2 = m_G2**2\n",
                "\n",
                "# model.add_production_2bodydecay(\n",
                "#     pid0 = \"113\", # rho\n",
                "#     pid1 = \"0\",   # pid1 = 0 means mass_pid1 = m1 = mass_llp0;   mass_pid2 = m2 = mass = mass_llp1\n",
                "#     br = \"4.72e-5 * coupling**2 * (1 * (m0**2 - m2**2)**3) / (8. * ALPHAEM * m0 * np.sqrt(m0**2 - 4*M_ELECTRON**2) * (m0**2 + 2*M_ELECTRON**2) * np.pi)\",\n",
                "#     generator = \"CHARM\",\n",
                "#     energy = energy,\n",
                "#     nsample = nsample,\n",
                "# )\n",
                "\n",
                "# model.add_production_2bodydecay(\n",
                "#    pid0 = \"223\", # omega\n",
                "#    pid1 = \"0\",\n",
                "#    br = \"7.38e-5 * coupling**2 * (1 * (m0**2 - m2**2)**3) / (8. * ALPHAEM * m0 * np.sqrt(m0**2 - 4*M_ELECTRON**2) * (m0**2 + 2*M_ELECTRON**2) * np.pi)\",\n",
                "#    generator = \"CHARM\",\n",
                "#    energy = energy,\n",
                "#    nsample = nsample,\n",
                "# )\n",
                "\n",
                "# model.add_production_2bodydecay(\n",
                "#    pid0 = \"333\", # phi\n",
                "#    pid1 = \"0\",\n",
                "#    br = \"2.98e-4 * coupling**2 * (1 * (m0**2 - m2**2)**3) / (8. * ALPHAEM * m0 * np.sqrt(m0**2 - 4*M_ELECTRON**2) * (m0**2 + 2*M_ELECTRON**2) * np.pi)\",\n",
                "#    generator = \"CHARM\",\n",
                "#    energy = energy,\n",
                "#    nsample = nsample,\n",
                "# )\n",
                "\n",
                "# model.add_production_2bodydecay(\n",
                "#     pid0 = \"443\", # J/ψ\n",
                "#     pid1 = \"0\",\n",
                "#     br = \"0.0597 * coupling**2 * (1 * (m0**2 - m2**2)**3) / (8. * ALPHAEM * m0 * np.sqrt(m0**2 - 4*M_ELECTRON**2) * (m0**2 + 2*M_ELECTRON**2) * np.pi)\",\n",
                "#     generator = \"CHARM\",\n",
                "#     energy = energy,\n",
                "#     nsample = nsample,\n",
                "# )"
            ]
        },
        {
            "cell_type": "code",
            "execution_count": 5,
            "metadata": {},
            "outputs": [],
            "source": [
                "model.add_production_direct(\n",
                "    label = \"CHARM_Prim\",\n",
                "    energy = energy,\n",
                "    coupling_ref=1,\n",
                "    masses=masses,\n",
                ")"
            ]
        },
        {
            "cell_type": "code",
            "execution_count": 6,
            "metadata": {},
            "outputs": [],
            "source": [
                "model.set_ctau_1d(filename=\"model/ctau_G2.txt\", coupling_ref=1)\n",
                "\n",
                "branchings = [\n",
                "    [ \"BR_G2_gg\", \"black\", \"solid\", r\"$\\gamma\\gamma$\", 0.110, 0.30 ],  \n",
                "    [ \"BR_G2_ee\", \"red\", \"solid\",  r\"$e^+ e^-$\", 0.110, 0.016],\n",
                "    [ \"BR_G2_mumu\", \"green\", \"solid\",  r\"$\\mu^+ \\mu^-$\", 0.210, 0.016],\n",
                "]\n",
                "\n",
                "\n",
                "model.set_br_1d(\n",
                "    modes=[channel for channel, _, _, _, _, _ in branchings],\n",
                "    filenames=[ \"model/br/\" + channel + \".txt\" for channel, _, _, _, _, _ in branchings ], )\n",
                "\n",
                "\n",
                "foresee.set_model(model=model)"
            ]
        },
        {
            "cell_type": "code",
            "execution_count": 7,
            "metadata": {},
            "outputs": [
                {
                    "name": "stdout",
                    "output_type": "stream",
                    "text": [
                        "save data to file: ./model/LLP_spectra/0.4TeV_CHARM_Prim_m_0.001_CHARM_llp0.npy\n",
                        "save data to file: ./model/LLP_spectra/0.4TeV_CHARM_Prim_m_0.001_CHARM.npy\n",
                        "4.76% done,  approx. total run time : 0.3 m,  approx. waiting time: 0.3 m\n",
                        "save data to file: ./model/LLP_spectra/0.4TeV_CHARM_Prim_m_0.0013335_CHARM_llp0.npy\n",
                        "save data to file: ./model/LLP_spectra/0.4TeV_CHARM_Prim_m_0.0013335_CHARM.npy\n",
                        "9.52% done,  approx. total run time : 0.4 m,  approx. waiting time: 0.4 m\n",
                        "save data to file: ./model/LLP_spectra/0.4TeV_CHARM_Prim_m_0.0017783_CHARM_llp0.npy\n",
                        "save data to file: ./model/LLP_spectra/0.4TeV_CHARM_Prim_m_0.0017783_CHARM.npy\n",
                        "14.29% done,  approx. total run time : 0.3 m,  approx. waiting time: 0.2 m\n",
                        "save data to file: ./model/LLP_spectra/0.4TeV_CHARM_Prim_m_0.0023714_CHARM_llp0.npy\n",
                        "save data to file: ./model/LLP_spectra/0.4TeV_CHARM_Prim_m_0.0023714_CHARM.npy\n",
                        "19.05% done,  approx. total run time : 0.4 m,  approx. waiting time: 0.3 m\n",
                        "save data to file: ./model/LLP_spectra/0.4TeV_CHARM_Prim_m_0.0031623_CHARM_llp0.npy\n",
                        "save data to file: ./model/LLP_spectra/0.4TeV_CHARM_Prim_m_0.0031623_CHARM.npy\n",
                        "23.81% done,  approx. total run time : 0.3 m,  approx. waiting time: 0.3 m\n",
                        "save data to file: ./model/LLP_spectra/0.4TeV_CHARM_Prim_m_0.004217_CHARM_llp0.npy\n",
                        "save data to file: ./model/LLP_spectra/0.4TeV_CHARM_Prim_m_0.004217_CHARM.npy\n",
                        "28.57% done,  approx. total run time : 0.4 m,  approx. waiting time: 0.3 m\n",
                        "save data to file: ./model/LLP_spectra/0.4TeV_CHARM_Prim_m_0.0056234_CHARM_llp0.npy\n",
                        "save data to file: ./model/LLP_spectra/0.4TeV_CHARM_Prim_m_0.0056234_CHARM.npy\n",
                        "33.33% done,  approx. total run time : 0.3 m,  approx. waiting time: 0.2 m\n",
                        "save data to file: ./model/LLP_spectra/0.4TeV_CHARM_Prim_m_0.0074989_CHARM_llp0.npy\n",
                        "save data to file: ./model/LLP_spectra/0.4TeV_CHARM_Prim_m_0.0074989_CHARM.npy\n",
                        "38.10% done,  approx. total run time : 0.5 m,  approx. waiting time: 0.3 m\n",
                        "save data to file: ./model/LLP_spectra/0.4TeV_CHARM_Prim_m_0.01_CHARM_llp0.npy\n",
                        "save data to file: ./model/LLP_spectra/0.4TeV_CHARM_Prim_m_0.01_CHARM.npy\n",
                        "42.86% done,  approx. total run time : 0.3 m,  approx. waiting time: 0.2 m\n",
                        "save data to file: ./model/LLP_spectra/0.4TeV_CHARM_Prim_m_0.013335_CHARM_llp0.npy\n",
                        "save data to file: ./model/LLP_spectra/0.4TeV_CHARM_Prim_m_0.013335_CHARM.npy\n",
                        "47.62% done,  approx. total run time : 0.3 m,  approx. waiting time: 0.2 m\n",
                        "save data to file: ./model/LLP_spectra/0.4TeV_CHARM_Prim_m_0.017783_CHARM_llp0.npy\n",
                        "save data to file: ./model/LLP_spectra/0.4TeV_CHARM_Prim_m_0.017783_CHARM.npy\n",
                        "52.38% done,  approx. total run time : 0.3 m,  approx. waiting time: 0.1 m\n",
                        "save data to file: ./model/LLP_spectra/0.4TeV_CHARM_Prim_m_0.023714_CHARM_llp0.npy\n",
                        "save data to file: ./model/LLP_spectra/0.4TeV_CHARM_Prim_m_0.023714_CHARM.npy\n",
                        "57.14% done,  approx. total run time : 0.4 m,  approx. waiting time: 0.2 m\n",
                        "save data to file: ./model/LLP_spectra/0.4TeV_CHARM_Prim_m_0.031623_CHARM_llp0.npy\n",
                        "save data to file: ./model/LLP_spectra/0.4TeV_CHARM_Prim_m_0.031623_CHARM.npy\n",
                        "61.90% done,  approx. total run time : 0.4 m,  approx. waiting time: 0.2 m\n",
                        "save data to file: ./model/LLP_spectra/0.4TeV_CHARM_Prim_m_0.04217_CHARM_llp0.npy\n",
                        "save data to file: ./model/LLP_spectra/0.4TeV_CHARM_Prim_m_0.04217_CHARM.npy\n",
                        "66.67% done,  approx. total run time : 0.3 m,  approx. waiting time: 0.1 m\n",
                        "save data to file: ./model/LLP_spectra/0.4TeV_CHARM_Prim_m_0.056234_CHARM_llp0.npy\n",
                        "save data to file: ./model/LLP_spectra/0.4TeV_CHARM_Prim_m_0.056234_CHARM.npy\n",
                        "71.43% done,  approx. total run time : 0.4 m,  approx. waiting time: 0.1 m\n",
                        "save data to file: ./model/LLP_spectra/0.4TeV_CHARM_Prim_m_0.074989_CHARM_llp0.npy\n",
                        "save data to file: ./model/LLP_spectra/0.4TeV_CHARM_Prim_m_0.074989_CHARM.npy\n",
                        "76.19% done,  approx. total run time : 0.4 m,  approx. waiting time: 0.1 m\n",
                        "save data to file: ./model/LLP_spectra/0.4TeV_CHARM_Prim_m_0.1_CHARM_llp0.npy\n",
                        "save data to file: ./model/LLP_spectra/0.4TeV_CHARM_Prim_m_0.1_CHARM.npy\n",
                        "80.95% done,  approx. total run time : 0.3 m,  approx. waiting time: 0.1 m\n",
                        "save data to file: ./model/LLP_spectra/0.4TeV_CHARM_Prim_m_0.13335_CHARM_llp0.npy\n",
                        "save data to file: ./model/LLP_spectra/0.4TeV_CHARM_Prim_m_0.13335_CHARM.npy\n",
                        "85.71% done,  approx. total run time : 0.3 m,  approx. waiting time: 0.0 m\n",
                        "save data to file: ./model/LLP_spectra/0.4TeV_CHARM_Prim_m_0.17783_CHARM_llp0.npy\n",
                        "save data to file: ./model/LLP_spectra/0.4TeV_CHARM_Prim_m_0.17783_CHARM.npy\n",
                        "90.48% done,  approx. total run time : 0.3 m,  approx. waiting time: 0.0 m\n",
                        "save data to file: ./model/LLP_spectra/0.4TeV_CHARM_Prim_m_0.23714_CHARM_llp0.npy\n",
                        "save data to file: ./model/LLP_spectra/0.4TeV_CHARM_Prim_m_0.23714_CHARM.npy\n",
                        "95.24% done,  approx. total run time : 0.5 m,  approx. waiting time: 0.0 m\n",
                        "did not find file: ./model/direct/0.4TeV/CHARM_Prim_0.4TeV_0.31623.txt or ./model/direct/0.4TeV/CHARM_Prim_0.4TeV_10000000000.0.txt\n",
                        "100.00% done,  approx. total run time : 0.2 m,  approx. waiting time: 0.0 m\n"
                    ]
                }
            ],
            "source": [
                "from timeit import default_timer as timer\n",
                "\n",
                "\n",
                "for count, mass in enumerate(masses):\n",
                "    mass_llp0 = 0.0    # photon\n",
                "    mass_llp1 = mass   # G2\n",
                "\n",
                "    start = timer()\n",
                "    \n",
                "    foresee.get_llp_spectrum(mass=mass_llp1, mass_llp0=mass_llp0, coupling=1, detector=\"CHARM\", stat_cuts_llp0=\"p_llp0.e>=1.0\", stat_cuts_llp1=\"p_llp1.e>=1.0\")\n",
                "\n",
                "    end = timer()\n",
                "    time_length_sec = end - start\n",
                "\n",
                "    count += 1\n",
                "    time_length_sec_total = time_length_sec * num_of_masses\n",
                "    print(\"%.2f%% done, \" % float(count / num_of_masses * 100), \"approx. total run time : %.1f m, \" % float(time_length_sec_total / 60), \"approx. waiting time: %.1f m\" % float(time_length_sec_total * (1 - count / num_of_masses) / 60))\n"
            ]
        },
        {
            "cell_type": "code",
            "execution_count": 8,
            "metadata": {},
            "outputs": [],
            "source": [
                "# productions = [\n",
                "#     [\"CHARM_Prim\"    , None     , \"green\"    ,    r\"Prim.\"         ],   \n",
                "#     # [\"111\"    , None      , \"firebrick\"   , r\"$\\pi$\"         ],   \n",
                "#     # [\"221\"    , None      , \"red\"         , r\"$\\eta$\"        ],   \n",
                "#     # [\"331\"    , None , \"salmon\"      , r\"$\\eta'$\"       ],  \n",
                "#     [\"113\"    , None , \"dodgerblue\"  , r\"$\\rho$\"        ],   \n",
                "#     [\"223\"    , None , \"blue\"        , r\"$\\omega$\"      ],   \n",
                "#     [\"333\"    , None , \"deepskyblue\" , r\"$\\phi$\"        ],  \n",
                "#     [\"443\"    , None  , \"gold\"        , r\"$J/\\psi$\"      ],   \n",
                "#     # [\"100443\" , None  , \"orange\"      , r\"$\\psi(2S)$\"    ],  \n",
                "#     # [\"553\"    , None  , \"green\"       , r\"$\\Upsilon(1S)$\"],   \n",
                "#     # [\"100553\" , None  , \"limegreen\"   , r\"$\\Upsilon(2S)$\"],  \n",
                "#     # [\"200553\" , None  , \"lime\"        , r\"$\\Upsilon(3S)$\"],  \n",
                "# ]\n",
                "\n",
                "# plot = foresee.plot_production(\n",
                "#     , \n",
                "#     productions = productions,\n",
                "#     condition=\"True\", \n",
                "#     xlims=[0.03,0.3],\n",
                "#     ylims=[1e13,1e17], \n",
                "#     xlabel=r\"$m_G$ [GeV]\", \n",
                "#     ylabel=r\"Production rate $\\sigma \\times g_\\gamma^2$ [a.u.]\",\n",
                "#     legendloc=(1.02,1.02),\n",
                "#     fs_label=12,\n",
                "#     dolegend=True,\n",
                "#     energy=\"0.4\",\n",
                "#     detector=\"CHARM\",\n",
                "# )\n",
                "\n",
                "# plot.subplots_adjust(left=0.11, right=0.99, bottom=0.10, top=0.97)\n",
                "# plot.savefig(\"output/Production_channels_CHARM.pdf\")\n",
                "# plot.show()"
            ]
        },
        {
            "cell_type": "code",
            "execution_count": null,
            "metadata": {},
            "outputs": [],
            "source": []
        },
        {
            "cell_type": "markdown",
            "metadata": {},
            "source": [
                "## 5. Parameter Scan"
            ]
        },
        {
            "cell_type": "code",
            "execution_count": 7,
            "metadata": {},
            "outputs": [
                {
                    "name": "stderr",
                    "output_type": "stream",
                    "text": [
                        "/usr/local/anaconda3/lib/python3.9/site-packages/numpy/lib/npyio.py:521: VisibleDeprecationWarning: Creating an ndarray from ragged nested sequences (which is a list-or-tuple of lists-or-tuples-or ndarrays with different lengths or shapes) is deprecated. If you meant to do this, you must specify 'dtype=object' when creating the ndarray.\n",
                        "  arr = np.asanyarray(arr)\n"
                    ]
                }
            ],
            "source": [
                "num_of_couplings = 51\n",
                "\n",
                "luminosity, distance = 1/1000, 480\n",
                "setup, selection, channels, length = \"CHARM_gg\", \"np.sqrt(x.x**2 + x.y**2) >= 0\", [ \"BR_G2_gg\" ], 35\n",
                "foresee.set_detector(length=length, selection=selection, channels=channels, distance=distance, luminosity=luminosity)\n",
                "\n",
                "list_nevents = []    \n",
                "for mass in masses:\n",
                "    couplings, _, nevents, _, _  = foresee.get_events(mass=mass, energy=energy, couplings=np.logspace(-7, -2, num_of_couplings), detector=\"CHARM\", preselectioncuts=\"p>3\")\n",
                "    list_nevents.append(nevents)  \n",
                "        \n",
                "#save results\n",
                "np.save(\"model/results/\"+energy+\"TeV_\"+setup+\".npy\",[masses,couplings,list_nevents])"
            ]
        },
        {
            "cell_type": "code",
            "execution_count": 8,
            "metadata": {},
            "outputs": [],
            "source": [
                "luminosity, distance = 1/1000, 480\n",
                "setup, selection, channels, length = \"CHARM_ee\", \"np.sqrt(x.x**2 + x.y**2) >= 0\", [ \"BR_G2_ee\" ], 35\n",
                "foresee.set_detector(length=length,\n",
                "                     selection=selection,\n",
                "                     channels=channels,\n",
                "                     distance=distance,\n",
                "                     luminosity=luminosity)\n",
                "\n",
                "list_nevents = []\n",
                "for mass in masses:\n",
                "    couplings, _, nevents, _, _ = foresee.get_events(mass=mass, energy=energy, couplings=np.logspace(-7, -2, num_of_couplings), detector=\"CHARM\", preselectioncuts=\"p>3\")\n",
                "    list_nevents.append(nevents)\n",
                "np.save(\"model/results/\" + energy + \"TeV_\" + setup + \".npy\", [masses, couplings, list_nevents])"
            ]
        },
        {
            "cell_type": "code",
            "execution_count": 9,
            "metadata": {},
            "outputs": [],
            "source": [
                "luminosity, distance = 1/1000, 480\n",
                "setup, selection, channels, length = \"CHARM_mumu\", \"np.sqrt(x.x**2 + x.y**2) >= 0\", [ \"BR_G2_mumu\" ], 35\n",
                "foresee.set_detector(length=length,\n",
                "                     selection=selection,\n",
                "                     channels=channels,\n",
                "                     distance=distance,\n",
                "                     luminosity=luminosity)\n",
                "\n",
                "list_nevents = []\n",
                "for mass in masses:\n",
                "    couplings, _, nevents, _, _ = foresee.get_events(mass=mass, energy=energy, couplings=np.logspace(-7, -2, num_of_couplings), detector=\"CHARM\", preselectioncuts=\"p>3\")\n",
                "    list_nevents.append(nevents)\n",
                "np.save(\"model/results/\" + energy + \"TeV_\" + setup + \".npy\", [masses, couplings, list_nevents])"
            ]
        },
        {
            "cell_type": "code",
            "execution_count": null,
            "metadata": {},
            "outputs": [],
            "source": []
        },
        {
            "cell_type": "code",
            "execution_count": null,
            "metadata": {},
            "outputs": [],
            "source": []
        }
    ],
    "metadata": {
        "kernelspec": {
            "display_name": "base",
            "language": "python",
            "name": "python3"
        },
        "language_info": {
            "codemirror_mode": {
                "name": "ipython",
                "version": 3
            },
            "file_extension": ".py",
            "mimetype": "text/x-python",
            "name": "python",
            "nbconvert_exporter": "python",
            "pygments_lexer": "ipython3",
            "version": "3.9.12"
        },
        "toc": {
            "base_numbering": 1,
            "nav_menu": {
                "height": "734px",
                "width": "465px"
            },
            "number_sections": true,
            "sideBar": true,
            "skip_h1_title": false,
            "title_cell": "Table of Contents",
            "title_sidebar": "Contents",
            "toc_cell": false,
            "toc_position": {},
            "toc_section_display": true,
            "toc_window_display": false
        },
        "vscode": {
            "interpreter": {
                "hash": "3067ead486e059ec00ffe7555bdb889e6e264a24dc711bf108106cc7baee8d5d"
            }
        }
    },
    "nbformat": 4,
    "nbformat_minor": 2
}
