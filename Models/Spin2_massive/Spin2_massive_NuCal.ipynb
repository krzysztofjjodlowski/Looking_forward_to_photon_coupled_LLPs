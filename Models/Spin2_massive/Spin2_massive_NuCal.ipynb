{
 "cells": [
  {
   "attachments": {},
   "cell_type": "markdown",
   "metadata": {},
   "source": [
    "# FORESEE - Massive spin-2 mediator"
   ]
  },
  {
   "cell_type": "markdown",
   "metadata": {},
   "source": [
    "### Load Libraries "
   ]
  },
  {
   "cell_type": "code",
   "execution_count": null,
   "metadata": {},
   "outputs": [],
   "source": [
    "import numpy as np\n",
    "import sys\n",
    "import os\n",
    "\n",
    "src_path = \"../../src\"\n",
    "sys.path.append(src_path)\n",
    "from foresee import Foresee, Utility, Model\n",
    "\n",
    "from main import sigma_gNucleus_G2Nucleus_analyt, sigma_G2Nucleus_gNucleus_analyt, sigma_ge_G2e_analyt, sigma_G2e_ge_analyt\n",
    "from constants import *\n",
    "\n",
    "\n",
    "from matplotlib import pyplot as plt\n",
    "import matplotlib.tri as tri\n",
    "\n",
    "plt.rc('text', usetex=True)\n",
    "plt.rcParams['figure.dpi'] = 400\n",
    "\n",
    "plt.rcParams['text.latex.preamble'] = [r\"\\usepackage{amsmath}\"]\n",
    "plt.rcParams['text.latex.preamble'] = [r\"\\usepackage{amssymb}\"]\n",
    "plt.rcParams['text.latex.preamble'] = [r\"\\usepackage{siunitx}\"]\n",
    "font = {'family': 'serif', 'serif': ['computer modern roman']}\n",
    "\n",
    "plt.rc('font', **font)\n",
    "\n",
    "SMALL_SIZE = 10\n",
    "MEDIUM_SIZE = 14\n",
    "BIGGER_SIZE = 16\n",
    "\n",
    "plt.rc('font', size=MEDIUM_SIZE)  # controls default text sizes\n",
    "plt.rc('axes', titlesize=MEDIUM_SIZE)  # fontsize of the axes title\n",
    "plt.rc('axes', labelsize=MEDIUM_SIZE)  # fontsize of the x and y labels\n",
    "plt.rc('xtick', labelsize=SMALL_SIZE)  # fontsize of the tick labels\n",
    "plt.rc('ytick', labelsize=SMALL_SIZE)  # fontsize of the tick labels\n",
    "plt.rc('legend', fontsize=SMALL_SIZE)  # legend fontsize\n",
    "plt.rc('figure', titlesize=BIGGER_SIZE)  # fontsize of the figure title"
   ]
  },
  {
   "cell_type": "markdown",
   "metadata": {},
   "source": [
    "## 1. Initialization "
   ]
  },
  {
   "cell_type": "code",
   "execution_count": null,
   "metadata": {},
   "outputs": [],
   "source": [
    "foresee = Foresee()"
   ]
  },
  {
   "cell_type": "code",
   "execution_count": null,
   "metadata": {},
   "outputs": [],
   "source": [
    "energy=\"0.069\"\n",
    "\n",
    "modelname = \"Spin2_massive\"\n",
    "model = Model(modelname)"
   ]
  },
  {
   "cell_type": "code",
   "execution_count": null,
   "metadata": {},
   "outputs": [],
   "source": [
    "masses = [float(x) for x in ['{:0.4e}'.format(m) for m in np.logspace(-2,np.log10(0.5),21)]]\n",
    "\n",
    "num_of_masses = len(masses)\n",
    "\n",
    "model.add_production_direct(\n",
    "    label = \"NuCal_Prim\",\n",
    "    energy = energy,\n",
    "    coupling_ref=1,\n",
    "    masses=masses,\n",
    ")"
   ]
  },
  {
   "cell_type": "code",
   "execution_count": null,
   "metadata": {},
   "outputs": [],
   "source": [
    "model.set_ctau_1d(filename=\"model/ctau_G2.txt\", coupling_ref=1)\n",
    "\n",
    "branchings = [\n",
    "    [ \"BR_G2_gg\", \"black\", \"solid\", r\"$\\gamma\\gamma$\", 0.110, 0.30 ],  \n",
    "    [ \"BR_G2_ee\", \"red\", \"solid\",  r\"$e^+ e^-$\", 0.110, 0.016],\n",
    "    [ \"BR_G2_mumu\", \"green\", \"solid\",  r\"$\\mu^+ \\mu^-$\", 0.210, 0.016],\n",
    "]\n",
    "\n",
    "model.set_br_1d(\n",
    "    modes=[channel for channel, _, _, _, _, _ in branchings],\n",
    "    filenames=[ \"model/br/\" + channel + \".txt\" for channel, _, _, _, _, _ in branchings ], )\n",
    "\n",
    "foresee.set_model(model=model)"
   ]
  },
  {
   "cell_type": "markdown",
   "metadata": {},
   "source": [
    "## 3. Generate LLP Spectra"
   ]
  },
  {
   "cell_type": "code",
   "execution_count": null,
   "metadata": {},
   "outputs": [],
   "source": [
    "# plt, _ = foresee.get_llp_spectrum(mass=0.1, coupling=1e-4, do_plot=True, save_file=False)\n",
    "# plt.show()"
   ]
  },
  {
   "cell_type": "code",
   "execution_count": null,
   "metadata": {},
   "outputs": [],
   "source": [
    "from timeit import default_timer as timer\n",
    "\n",
    "for count, mass in enumerate(masses):\n",
    "    mass_llp0 = 0.0    # photon\n",
    "    mass_llp1 = mass   # G2\n",
    "\n",
    "    start = timer()\n",
    "    \n",
    "    foresee.get_llp_spectrum(mass=mass_llp1, mass_llp0=mass_llp0, coupling=1, detector=\"NuCal\", stat_cuts_llp0=\"p_llp0.e>1.0\", stat_cuts_llp1=\"p_llp1.e>1.0\")\n",
    "\n",
    "    end = timer()\n",
    "    time_length_sec = end - start\n",
    "\n",
    "    count += 1\n",
    "    time_length_sec_total = time_length_sec * num_of_masses\n",
    "    print(\"%.2f%% done, \" % float(count / num_of_masses * 100), \"approx. total run time : %.1f m, \" % float(time_length_sec_total / 60), \"approx. waiting time: %.1f m\" % float(time_length_sec_total * (1 - count / num_of_masses) / 60))"
   ]
  },
  {
   "cell_type": "markdown",
   "metadata": {},
   "source": [
    "## 5. Parameter Scan"
   ]
  },
  {
   "cell_type": "code",
   "execution_count": null,
   "metadata": {},
   "outputs": [],
   "source": [
    "num_of_couplings = 42\n",
    "\n",
    "luminosity, distance = 1/1000, 64\n",
    "setup, selection, channels, length = \"NuCal_gg\", \"np.sqrt(x.x**2 + x.y**2) >= 0\", [ \"BR_G2_gg\" ], 23\n",
    "foresee.set_detector(length=length, selection=selection, channels=channels, distance=distance, luminosity=luminosity)\n",
    "\n",
    "list_nevents = []    \n",
    "for mass in masses:\n",
    "    couplings, _, nevents, _, _  = foresee.get_events(mass=mass, energy=energy, couplings=np.logspace(-8, -2, num_of_couplings), detector=\"NuCal\", preselectioncuts=\"p>10\")\n",
    "    list_nevents.append(nevents)  \n",
    "        \n",
    "#save results\n",
    "np.save(\"model/results/\"+energy+\"TeV_\"+setup+\".npy\",[masses,couplings,list_nevents])"
   ]
  },
  {
   "cell_type": "code",
   "execution_count": null,
   "metadata": {},
   "outputs": [],
   "source": [
    "num_of_couplings = 42\n",
    "\n",
    "luminosity, distance = 1/1000, 64\n",
    "setup, selection, channels, length = \"NuCal_ee\", \"np.sqrt(x.x**2 + x.y**2) >= 0\", [ \"BR_G2_ee\" ], 23\n",
    "foresee.set_detector(length=length, selection=selection, channels=channels, distance=distance, luminosity=luminosity)\n",
    "\n",
    "list_nevents = []    \n",
    "for mass in masses:\n",
    "    couplings, _, nevents, _, _  = foresee.get_events(mass=mass, energy=energy, couplings=np.logspace(-8, -2, num_of_couplings), detector=\"NuCal\", preselectioncuts=\"p>10\")\n",
    "    list_nevents.append(nevents)  \n",
    "        \n",
    "#save results\n",
    "np.save(\"model/results/\"+energy+\"TeV_\"+setup+\".npy\",[masses,couplings,list_nevents])"
   ]
  },
  {
   "cell_type": "code",
   "execution_count": null,
   "metadata": {},
   "outputs": [],
   "source": []
  }
 ],
 "metadata": {
  "kernelspec": {
   "display_name": "base",
   "language": "python",
   "name": "python3"
  },
  "language_info": {
   "codemirror_mode": {
    "name": "ipython",
    "version": 3
   },
   "file_extension": ".py",
   "mimetype": "text/x-python",
   "name": "python",
   "nbconvert_exporter": "python",
   "pygments_lexer": "ipython3",
   "version": "3.9.12"
  },
  "toc": {
   "base_numbering": 1,
   "nav_menu": {
    "height": "734px",
    "width": "465px"
   },
   "number_sections": true,
   "sideBar": true,
   "skip_h1_title": false,
   "title_cell": "Table of Contents",
   "title_sidebar": "Contents",
   "toc_cell": false,
   "toc_position": {},
   "toc_section_display": true,
   "toc_window_display": false
  },
  "vscode": {
   "interpreter": {
    "hash": "3067ead486e059ec00ffe7555bdb889e6e264a24dc711bf108106cc7baee8d5d"
   }
  }
 },
 "nbformat": 4,
 "nbformat_minor": 2
}
